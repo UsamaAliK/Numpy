{
 "cells": [
  {
   "cell_type": "code",
   "execution_count": 1,
   "id": "6fb2d5bb-0bb0-44e6-8eac-813960a2e428",
   "metadata": {},
   "outputs": [],
   "source": [
    "import numpy as np"
   ]
  },
  {
   "cell_type": "code",
   "execution_count": 2,
   "id": "a98c81a5-8ede-4b5a-9497-e56b870852c4",
   "metadata": {},
   "outputs": [],
   "source": [
    "arr1=np.array([5,3,4])\n",
    "arr2=np.array([1,2,3])"
   ]
  },
  {
   "cell_type": "code",
   "execution_count": 3,
   "id": "97fea41e-24f4-497e-9fc3-da9443941f39",
   "metadata": {},
   "outputs": [
    {
     "data": {
      "text/plain": [
       "array([ 5,  6, 12])"
      ]
     },
     "execution_count": 3,
     "metadata": {},
     "output_type": "execute_result"
    }
   ],
   "source": [
    "arr1*arr2"
   ]
  },
  {
   "cell_type": "code",
   "execution_count": 4,
   "id": "1a87d034-98d8-48f3-b771-d97420627ec8",
   "metadata": {},
   "outputs": [
    {
     "name": "stdout",
     "output_type": "stream",
     "text": [
      "23\n"
     ]
    }
   ],
   "source": [
    "pro=np.dot(arr1,arr2)\n",
    "print(pro)"
   ]
  },
  {
   "cell_type": "code",
   "execution_count": 5,
   "id": "d63d99e3-21db-4d7d-884c-b1466ba54f57",
   "metadata": {},
   "outputs": [
    {
     "name": "stdout",
     "output_type": "stream",
     "text": [
      "Help on built-in function sum in module builtins:\n",
      "\n",
      "sum(iterable, /, start=0)\n",
      "    Return the sum of a 'start' value (default: 0) plus an iterable of numbers\n",
      "\n",
      "    When the iterable is empty, return the start value.\n",
      "    This function is intended specifically for use with numeric values and may\n",
      "    reject non-numeric types.\n",
      "\n"
     ]
    }
   ],
   "source": [
    "help(sum)\n"
   ]
  },
  {
   "cell_type": "code",
   "execution_count": 6,
   "id": "e68841b1-52ea-4727-98ba-a71835effb2c",
   "metadata": {},
   "outputs": [
    {
     "name": "stdout",
     "output_type": "stream",
     "text": [
      "12\n"
     ]
    }
   ],
   "source": [
    "print(arr1.sum())"
   ]
  },
  {
   "cell_type": "code",
   "execution_count": 7,
   "id": "432a38a6-5771-437d-b87f-36cec8416945",
   "metadata": {},
   "outputs": [
    {
     "data": {
      "text/plain": [
       "(3,)"
      ]
     },
     "execution_count": 7,
     "metadata": {},
     "output_type": "execute_result"
    }
   ],
   "source": [
    "arr1.shape"
   ]
  },
  {
   "cell_type": "code",
   "execution_count": 8,
   "id": "09236bd5-1d2c-4e12-802a-215f27e66e02",
   "metadata": {},
   "outputs": [
    {
     "data": {
      "text/plain": [
       "array([5, 3, 4])"
      ]
     },
     "execution_count": 8,
     "metadata": {},
     "output_type": "execute_result"
    }
   ],
   "source": [
    "arr1"
   ]
  },
  {
   "cell_type": "code",
   "execution_count": 9,
   "id": "c6e538ba-6665-4c0b-a6d8-eeecc215ab0c",
   "metadata": {},
   "outputs": [],
   "source": [
    "arr3=np.array([[2,3],\n",
    "               [2,3]])\n"
   ]
  },
  {
   "cell_type": "code",
   "execution_count": 10,
   "id": "baf810f0-90b7-4246-a1e5-942aeeda0147",
   "metadata": {},
   "outputs": [
    {
     "data": {
      "text/plain": [
       "dtype('int64')"
      ]
     },
     "execution_count": 10,
     "metadata": {},
     "output_type": "execute_result"
    }
   ],
   "source": [
    "arr3.dtype"
   ]
  },
  {
   "cell_type": "code",
   "execution_count": 11,
   "id": "745539a4-d153-417c-9d0c-da463fc21fc8",
   "metadata": {},
   "outputs": [
    {
     "name": "stdout",
     "output_type": "stream",
     "text": [
      "23\n"
     ]
    }
   ],
   "source": [
    "import numpy as np\n",
    "arr1=np.array([5,3,4])\n",
    "arr2=np.array([1,2,3])\n",
    "print(np.matmul(arr2,arr1))"
   ]
  },
  {
   "cell_type": "code",
   "execution_count": 12,
   "id": "afe4fbfd-d63b-4b43-bb07-049b63ab983d",
   "metadata": {},
   "outputs": [
    {
     "data": {
      "text/plain": [
       "(3, 3)"
      ]
     },
     "execution_count": 12,
     "metadata": {},
     "output_type": "execute_result"
    }
   ],
   "source": [
    "lis1=np.array([[1,2,3],\n",
    "               [1,2,3]])\n",
    "lis2=np.array([[0,1,0],\n",
    "               [1,2,0],\n",
    "              [1,2,0]])\n",
    "lis2.shape\n"
   ]
  },
  {
   "cell_type": "code",
   "execution_count": 13,
   "id": "f84d50d4-eafb-40bd-98f6-ca28737332c9",
   "metadata": {},
   "outputs": [
    {
     "data": {
      "text/plain": [
       "array([[ 5, 11,  0],\n",
       "       [ 5, 11,  0]])"
      ]
     },
     "execution_count": 13,
     "metadata": {},
     "output_type": "execute_result"
    }
   ],
   "source": [
    "np.matmul(lis1,lis2)"
   ]
  },
  {
   "cell_type": "code",
   "execution_count": 14,
   "id": "4cd0a9d4-60cc-4507-acc0-c6b600df35a8",
   "metadata": {},
   "outputs": [],
   "source": [
    "data=np.genfromtxt('winequality-red.csv',delimiter=';',skip_header=2,usecols=(0,1,2))"
   ]
  },
  {
   "cell_type": "code",
   "execution_count": 15,
   "id": "97f7a299-ea47-49cc-bfce-101f88eb4540",
   "metadata": {},
   "outputs": [
    {
     "data": {
      "text/plain": [
       "(1598, 3)"
      ]
     },
     "execution_count": 15,
     "metadata": {},
     "output_type": "execute_result"
    }
   ],
   "source": [
    "data.shape"
   ]
  },
  {
   "cell_type": "code",
   "execution_count": 16,
   "id": "219d7ef9-bcec-4a3b-a948-fd01d87dd361",
   "metadata": {},
   "outputs": [
    {
     "name": "stdout",
     "output_type": "stream",
     "text": [
      "[[ 7.8    0.88   0.   ]\n",
      " [ 7.8    0.76   0.04 ]\n",
      " [11.2    0.28   0.56 ]\n",
      " ...\n",
      " [ 6.3    0.51   0.13 ]\n",
      " [ 5.9    0.645  0.12 ]\n",
      " [ 6.     0.31   0.47 ]]\n"
     ]
    }
   ],
   "source": [
    "print(data)"
   ]
  },
  {
   "cell_type": "code",
   "execution_count": 17,
   "id": "af25ae16-1daf-47eb-800f-37b805076d5e",
   "metadata": {},
   "outputs": [
    {
     "data": {
      "text/plain": [
       "array([[2, 3],\n",
       "       [2, 3]])"
      ]
     },
     "execution_count": 17,
     "metadata": {},
     "output_type": "execute_result"
    }
   ],
   "source": [
    "arr3"
   ]
  },
  {
   "cell_type": "code",
   "execution_count": 18,
   "id": "8990d97d-d967-484f-966e-b3bf23fc6402",
   "metadata": {},
   "outputs": [
    {
     "data": {
      "text/plain": [
       "array([ 5,  6, 12])"
      ]
     },
     "execution_count": 18,
     "metadata": {},
     "output_type": "execute_result"
    }
   ],
   "source": [
    "arr1*arr2"
   ]
  },
  {
   "cell_type": "code",
   "execution_count": 19,
   "id": "9d856479-5363-463b-8e99-cdb879a2e950",
   "metadata": {},
   "outputs": [
    {
     "data": {
      "text/plain": [
       "array([5, 3, 4])"
      ]
     },
     "execution_count": 19,
     "metadata": {},
     "output_type": "execute_result"
    }
   ],
   "source": [
    "arr1\n"
   ]
  },
  {
   "cell_type": "code",
   "execution_count": 20,
   "id": "68a73349-581f-497c-b379-af8d03674deb",
   "metadata": {},
   "outputs": [
    {
     "data": {
      "text/plain": [
       "array([1, 2, 3])"
      ]
     },
     "execution_count": 20,
     "metadata": {},
     "output_type": "execute_result"
    }
   ],
   "source": [
    "arr2"
   ]
  },
  {
   "cell_type": "code",
   "execution_count": 21,
   "id": "51b449b3-bc11-452e-b264-3bcbf812b64c",
   "metadata": {},
   "outputs": [
    {
     "name": "stdout",
     "output_type": "stream",
     "text": [
      "23\n"
     ]
    }
   ],
   "source": [
    "print(np.dot(arr1,arr2))"
   ]
  },
  {
   "cell_type": "code",
   "execution_count": 22,
   "id": "4380f160-d6e5-465c-a979-34fd5aaed29e",
   "metadata": {},
   "outputs": [],
   "source": [
    "dp=data@arr1"
   ]
  },
  {
   "cell_type": "code",
   "execution_count": 23,
   "id": "9d2dc538-4191-4689-901a-7c752b9c7781",
   "metadata": {},
   "outputs": [
    {
     "data": {
      "text/plain": [
       "(1598, 3)"
      ]
     },
     "execution_count": 23,
     "metadata": {},
     "output_type": "execute_result"
    }
   ],
   "source": [
    "data.shape"
   ]
  },
  {
   "cell_type": "code",
   "execution_count": 24,
   "id": "c3c4b13e-f2e5-4035-b839-6b9a0708349f",
   "metadata": {},
   "outputs": [
    {
     "data": {
      "text/plain": [
       "(1598,)"
      ]
     },
     "execution_count": 24,
     "metadata": {},
     "output_type": "execute_result"
    }
   ],
   "source": [
    "dp.shape"
   ]
  },
  {
   "cell_type": "code",
   "execution_count": 25,
   "id": "7cf5d970-560c-4d7a-a01f-d3bdc230c5f0",
   "metadata": {},
   "outputs": [
    {
     "data": {
      "text/plain": [
       "(3,)"
      ]
     },
     "execution_count": 25,
     "metadata": {},
     "output_type": "execute_result"
    }
   ],
   "source": [
    "arr1.shape"
   ]
  },
  {
   "cell_type": "code",
   "execution_count": 26,
   "id": "90cfe49a-68a0-4622-8227-597861173789",
   "metadata": {},
   "outputs": [
    {
     "data": {
      "text/plain": [
       "(1598,)"
      ]
     },
     "execution_count": 26,
     "metadata": {},
     "output_type": "execute_result"
    }
   ],
   "source": [
    "dp\n",
    "dp.shape"
   ]
  },
  {
   "cell_type": "code",
   "execution_count": 27,
   "id": "ac3fe834-a1b7-4860-bd60-71ef3b5b0e72",
   "metadata": {},
   "outputs": [],
   "source": [
    "res=np.concatenate((data, dp.reshape(1598,1)),axis=1)"
   ]
  },
  {
   "cell_type": "code",
   "execution_count": 28,
   "id": "46a5d9e3-2ad3-4eae-9f87-b3c539320715",
   "metadata": {},
   "outputs": [
    {
     "data": {
      "text/plain": [
       "array([[7.8000e+00, 8.8000e-01, 0.0000e+00, 4.1640e+01],\n",
       "       [7.8000e+00, 7.6000e-01, 4.0000e-02, 4.1440e+01],\n",
       "       [1.1200e+01, 2.8000e-01, 5.6000e-01, 5.9080e+01],\n",
       "       ...,\n",
       "       [6.3000e+00, 5.1000e-01, 1.3000e-01, 3.3550e+01],\n",
       "       [5.9000e+00, 6.4500e-01, 1.2000e-01, 3.1915e+01],\n",
       "       [6.0000e+00, 3.1000e-01, 4.7000e-01, 3.2810e+01]], shape=(1598, 4))"
      ]
     },
     "execution_count": 28,
     "metadata": {},
     "output_type": "execute_result"
    }
   ],
   "source": [
    "res"
   ]
  },
  {
   "cell_type": "code",
   "execution_count": 29,
   "id": "66ee48b8-37a8-42e0-8a61-5d6c29330ba0",
   "metadata": {},
   "outputs": [
    {
     "data": {
      "text/plain": [
       "dtype('float64')"
      ]
     },
     "execution_count": 29,
     "metadata": {},
     "output_type": "execute_result"
    }
   ],
   "source": [
    "res.dtype"
   ]
  },
  {
   "cell_type": "code",
   "execution_count": 30,
   "id": "4b5208e6-0a00-4dbb-b713-6c6868f8b5cc",
   "metadata": {},
   "outputs": [],
   "source": [
    "arr=np.array([[1,2,3]])"
   ]
  },
  {
   "cell_type": "code",
   "execution_count": 31,
   "id": "8d4c83fb-dd60-4c9f-9e57-195fc2d5558e",
   "metadata": {},
   "outputs": [
    {
     "data": {
      "text/plain": [
       "(1, 3)"
      ]
     },
     "execution_count": 31,
     "metadata": {},
     "output_type": "execute_result"
    }
   ],
   "source": [
    "arr.shape"
   ]
  },
  {
   "cell_type": "code",
   "execution_count": 32,
   "id": "831994b7-4aed-47b3-9389-fd3b631988b8",
   "metadata": {},
   "outputs": [
    {
     "name": "stdout",
     "output_type": "stream",
     "text": [
      "Help on _ArrayFunctionDispatcher in module numpy:\n",
      "\n",
      "reshape(a, /, shape=None, order='C', *, newshape=None, copy=None)\n",
      "    Gives a new shape to an array without changing its data.\n",
      "\n",
      "    Parameters\n",
      "    ----------\n",
      "    a : array_like\n",
      "        Array to be reshaped.\n",
      "    shape : int or tuple of ints\n",
      "        The new shape should be compatible with the original shape. If\n",
      "        an integer, then the result will be a 1-D array of that length.\n",
      "        One shape dimension can be -1. In this case, the value is\n",
      "        inferred from the length of the array and remaining dimensions.\n",
      "    order : {'C', 'F', 'A'}, optional\n",
      "        Read the elements of ``a`` using this index order, and place the\n",
      "        elements into the reshaped array using this index order. 'C'\n",
      "        means to read / write the elements using C-like index order,\n",
      "        with the last axis index changing fastest, back to the first\n",
      "        axis index changing slowest. 'F' means to read / write the\n",
      "        elements using Fortran-like index order, with the first index\n",
      "        changing fastest, and the last index changing slowest. Note that\n",
      "        the 'C' and 'F' options take no account of the memory layout of\n",
      "        the underlying array, and only refer to the order of indexing.\n",
      "        'A' means to read / write the elements in Fortran-like index\n",
      "        order if ``a`` is Fortran *contiguous* in memory, C-like order\n",
      "        otherwise.\n",
      "    newshape : int or tuple of ints\n",
      "        .. deprecated:: 2.1\n",
      "            Replaced by ``shape`` argument. Retained for backward\n",
      "            compatibility.\n",
      "    copy : bool, optional\n",
      "        If ``True``, then the array data is copied. If ``None``, a copy will\n",
      "        only be made if it's required by ``order``. For ``False`` it raises\n",
      "        a ``ValueError`` if a copy cannot be avoided. Default: ``None``.\n",
      "\n",
      "    Returns\n",
      "    -------\n",
      "    reshaped_array : ndarray\n",
      "        This will be a new view object if possible; otherwise, it will\n",
      "        be a copy.  Note there is no guarantee of the *memory layout* (C- or\n",
      "        Fortran- contiguous) of the returned array.\n",
      "\n",
      "    See Also\n",
      "    --------\n",
      "    ndarray.reshape : Equivalent method.\n",
      "\n",
      "    Notes\n",
      "    -----\n",
      "    It is not always possible to change the shape of an array without copying\n",
      "    the data.\n",
      "\n",
      "    The ``order`` keyword gives the index ordering both for *fetching*\n",
      "    the values from ``a``, and then *placing* the values into the output\n",
      "    array. For example, let's say you have an array:\n",
      "\n",
      "    >>> a = np.arange(6).reshape((3, 2))\n",
      "    >>> a\n",
      "    array([[0, 1],\n",
      "           [2, 3],\n",
      "           [4, 5]])\n",
      "\n",
      "    You can think of reshaping as first raveling the array (using the given\n",
      "    index order), then inserting the elements from the raveled array into the\n",
      "    new array using the same kind of index ordering as was used for the\n",
      "    raveling.\n",
      "\n",
      "    >>> np.reshape(a, (2, 3)) # C-like index ordering\n",
      "    array([[0, 1, 2],\n",
      "           [3, 4, 5]])\n",
      "    >>> np.reshape(np.ravel(a), (2, 3)) # equivalent to C ravel then C reshape\n",
      "    array([[0, 1, 2],\n",
      "           [3, 4, 5]])\n",
      "    >>> np.reshape(a, (2, 3), order='F') # Fortran-like index ordering\n",
      "    array([[0, 4, 3],\n",
      "           [2, 1, 5]])\n",
      "    >>> np.reshape(np.ravel(a, order='F'), (2, 3), order='F')\n",
      "    array([[0, 4, 3],\n",
      "           [2, 1, 5]])\n",
      "\n",
      "    Examples\n",
      "    --------\n",
      "    >>> import numpy as np\n",
      "    >>> a = np.array([[1,2,3], [4,5,6]])\n",
      "    >>> np.reshape(a, 6)\n",
      "    array([1, 2, 3, 4, 5, 6])\n",
      "    >>> np.reshape(a, 6, order='F')\n",
      "    array([1, 4, 2, 5, 3, 6])\n",
      "\n",
      "    >>> np.reshape(a, (3,-1))       # the unspecified value is inferred to be 2\n",
      "    array([[1, 2],\n",
      "           [3, 4],\n",
      "           [5, 6]])\n",
      "\n"
     ]
    }
   ],
   "source": [
    "help(np.reshape)\n"
   ]
  },
  {
   "cell_type": "code",
   "execution_count": 33,
   "id": "cde1fb0d-191c-45d6-9c9a-a5653c052013",
   "metadata": {},
   "outputs": [
    {
     "data": {
      "text/plain": [
       "array([5, 3, 4, 1, 2, 3])"
      ]
     },
     "execution_count": 33,
     "metadata": {},
     "output_type": "execute_result"
    }
   ],
   "source": [
    "np.concatenate((arr1,arr2),axis=0)"
   ]
  },
  {
   "cell_type": "code",
   "execution_count": 34,
   "id": "3fa38ccd-f3e4-4242-bcd7-4aba2f3be1e7",
   "metadata": {},
   "outputs": [
    {
     "data": {
      "text/plain": [
       "(3,)"
      ]
     },
     "execution_count": 34,
     "metadata": {},
     "output_type": "execute_result"
    }
   ],
   "source": [
    "arr1.shape"
   ]
  },
  {
   "cell_type": "code",
   "execution_count": 35,
   "id": "b24bda1f-e6cf-4f40-bfe7-4286a73ace26",
   "metadata": {},
   "outputs": [
    {
     "data": {
      "text/plain": [
       "(1598, 4)"
      ]
     },
     "execution_count": 35,
     "metadata": {},
     "output_type": "execute_result"
    }
   ],
   "source": [
    "res.shape"
   ]
  },
  {
   "cell_type": "code",
   "execution_count": 36,
   "id": "92ba2ac4-fdb7-4bff-9314-7df3497c911d",
   "metadata": {},
   "outputs": [],
   "source": [
    "np.savetxt('result.csv',res,delimiter=',',fmt='%.2f',header='yes,no,why,wow',comments='')"
   ]
  },
  {
   "cell_type": "code",
   "execution_count": 37,
   "id": "e8e882ba-b3f2-4b77-a4bc-e8fd2c41fba1",
   "metadata": {},
   "outputs": [],
   "source": [
    "import numpy as np\n",
    "newdata=np.genfromtxt('result.csv',delimiter=',',skip_header=1)"
   ]
  },
  {
   "cell_type": "code",
   "execution_count": 38,
   "id": "f32fc1a3-979f-46db-ab83-419647985536",
   "metadata": {},
   "outputs": [
    {
     "data": {
      "text/plain": [
       "array([[7.800e+00, 8.800e-01, 0.000e+00, 4.164e+01],\n",
       "       [7.800e+00, 7.600e-01, 4.000e-02, 4.144e+01],\n",
       "       [1.120e+01, 2.800e-01, 5.600e-01, 5.908e+01],\n",
       "       ...,\n",
       "       [6.300e+00, 5.100e-01, 1.300e-01, 3.355e+01],\n",
       "       [5.900e+00, 6.500e-01, 1.200e-01, 3.192e+01],\n",
       "       [6.000e+00, 3.100e-01, 4.700e-01, 3.281e+01]], shape=(1598, 4))"
      ]
     },
     "execution_count": 38,
     "metadata": {},
     "output_type": "execute_result"
    }
   ],
   "source": [
    "newdata\n"
   ]
  },
  {
   "cell_type": "code",
   "execution_count": 39,
   "id": "b47ac23c-8321-452c-ad9e-fca9aa3660c0",
   "metadata": {},
   "outputs": [],
   "source": [
    "np.savetxt('wow.csv',newdata,delimiter=';',fmt='%.1f',header='yes;no;wow;jao',comments='')"
   ]
  },
  {
   "cell_type": "code",
   "execution_count": 40,
   "id": "a8d1d0fa-0359-431d-b365-38a478e1a701",
   "metadata": {},
   "outputs": [],
   "source": [
    "array1=np.array([[1,2],\n",
    "                 [1,2]])"
   ]
  },
  {
   "cell_type": "code",
   "execution_count": 41,
   "id": "2e461322-506d-411c-95ae-f4c7aca4690f",
   "metadata": {},
   "outputs": [],
   "source": [
    "array2=np.array([1,2,3,4])"
   ]
  },
  {
   "cell_type": "code",
   "execution_count": 42,
   "id": "5e6dd86a-2f93-4789-be6b-180cd1045a11",
   "metadata": {},
   "outputs": [
    {
     "data": {
      "text/plain": [
       "array([[1, 2, 1, 2],\n",
       "       [1, 2, 3, 4]])"
      ]
     },
     "execution_count": 42,
     "metadata": {},
     "output_type": "execute_result"
    }
   ],
   "source": [
    "np.concatenate((array1,array2.reshape(2,2)),axis=1)"
   ]
  },
  {
   "cell_type": "code",
   "execution_count": 43,
   "id": "d883984a-4df4-4198-a46d-e96b46b4e955",
   "metadata": {},
   "outputs": [
    {
     "data": {
      "text/plain": [
       "(2, 2)"
      ]
     },
     "execution_count": 43,
     "metadata": {},
     "output_type": "execute_result"
    }
   ],
   "source": [
    "array1.shape"
   ]
  },
  {
   "cell_type": "code",
   "execution_count": 44,
   "id": "aba913d7-c739-40e8-9682-abfc9efa92cf",
   "metadata": {},
   "outputs": [
    {
     "data": {
      "text/plain": [
       "(4,)"
      ]
     },
     "execution_count": 44,
     "metadata": {},
     "output_type": "execute_result"
    }
   ],
   "source": [
    "array2.shape"
   ]
  },
  {
   "cell_type": "raw",
   "id": "e3a318a5-56b4-4388-b76e-2141d948ea2e",
   "metadata": {},
   "source": [
    "array2.shape"
   ]
  },
  {
   "cell_type": "code",
   "execution_count": 45,
   "id": "dff35a4b-451e-407c-9ebd-3fe892c3b9e3",
   "metadata": {},
   "outputs": [
    {
     "data": {
      "text/plain": [
       "(2, 2)"
      ]
     },
     "execution_count": 45,
     "metadata": {},
     "output_type": "execute_result"
    }
   ],
   "source": [
    "array1.shape"
   ]
  },
  {
   "cell_type": "code",
   "execution_count": 46,
   "id": "3a1c78ca-19a8-4051-b7ba-098803cd7bc7",
   "metadata": {},
   "outputs": [
    {
     "data": {
      "text/plain": [
       "(4,)"
      ]
     },
     "execution_count": 46,
     "metadata": {},
     "output_type": "execute_result"
    }
   ],
   "source": [
    "array2.shape"
   ]
  },
  {
   "cell_type": "code",
   "execution_count": 47,
   "id": "fa241583-b0a4-40af-9cac-63282fdc9ca1",
   "metadata": {},
   "outputs": [
    {
     "data": {
      "text/plain": [
       "array([[1, 2],\n",
       "       [3, 4]])"
      ]
     },
     "execution_count": 47,
     "metadata": {},
     "output_type": "execute_result"
    }
   ],
   "source": [
    "array2.reshape(2,2)"
   ]
  },
  {
   "cell_type": "code",
   "execution_count": 48,
   "id": "a40dcfea-502c-45f3-9a32-92208300df24",
   "metadata": {},
   "outputs": [
    {
     "data": {
      "text/plain": [
       "(4,)"
      ]
     },
     "execution_count": 48,
     "metadata": {},
     "output_type": "execute_result"
    }
   ],
   "source": [
    "array2.shape"
   ]
  },
  {
   "cell_type": "code",
   "execution_count": 49,
   "id": "fcb68d01-f307-48da-be27-801c90781064",
   "metadata": {},
   "outputs": [
    {
     "data": {
      "text/plain": [
       "array([[2, 4],\n",
       "       [4, 6]])"
      ]
     },
     "execution_count": 49,
     "metadata": {},
     "output_type": "execute_result"
    }
   ],
   "source": [
    "array2.reshape(2,2)+array1"
   ]
  },
  {
   "cell_type": "code",
   "execution_count": 50,
   "id": "94b2f37b-59fd-4830-9145-8de9196e9459",
   "metadata": {},
   "outputs": [
    {
     "data": {
      "text/plain": [
       "array([[1, 2, 3, 4]])"
      ]
     },
     "execution_count": 50,
     "metadata": {},
     "output_type": "execute_result"
    }
   ],
   "source": [
    "array2.reshape(1,4)"
   ]
  },
  {
   "cell_type": "code",
   "execution_count": 51,
   "id": "f9c210d2-556a-42a3-bf84-2a8c1b846b2a",
   "metadata": {},
   "outputs": [],
   "source": [
    "array3=np.array([[[[1,2,3],\n",
    "                  [1,2,3]]],\n",
    "                 [[[1,2,3],\n",
    "                  [1,2,3]]]])"
   ]
  },
  {
   "cell_type": "code",
   "execution_count": 52,
   "id": "59a10bbc-b5b6-4a24-a816-1e23541727e1",
   "metadata": {},
   "outputs": [
    {
     "data": {
      "text/plain": [
       "(2, 1, 2, 3)"
      ]
     },
     "execution_count": 52,
     "metadata": {},
     "output_type": "execute_result"
    }
   ],
   "source": [
    "array3.shape"
   ]
  },
  {
   "cell_type": "code",
   "execution_count": 53,
   "id": "e0b51baa-b74c-4fe4-84f9-aec556c16e37",
   "metadata": {},
   "outputs": [],
   "source": [
    "array4=np.array([1,2,3])"
   ]
  },
  {
   "cell_type": "code",
   "execution_count": 54,
   "id": "6f9a2824-62be-48a5-b973-32eb38514275",
   "metadata": {},
   "outputs": [
    {
     "data": {
      "text/plain": [
       "array([[[[2, 4, 6],\n",
       "         [2, 4, 6]]],\n",
       "\n",
       "\n",
       "       [[[2, 4, 6],\n",
       "         [2, 4, 6]]]])"
      ]
     },
     "execution_count": 54,
     "metadata": {},
     "output_type": "execute_result"
    }
   ],
   "source": [
    "array3+array4"
   ]
  },
  {
   "cell_type": "code",
   "execution_count": 55,
   "id": "e901ae32-6fe1-4025-babd-c315e05b8383",
   "metadata": {},
   "outputs": [
    {
     "data": {
      "text/plain": [
       "array([[[[2, 4, 6],\n",
       "         [2, 4, 6]]],\n",
       "\n",
       "\n",
       "       [[[2, 4, 6],\n",
       "         [2, 4, 6]]]])"
      ]
     },
     "execution_count": 55,
     "metadata": {},
     "output_type": "execute_result"
    }
   ],
   "source": [
    "array4+array3"
   ]
  },
  {
   "cell_type": "code",
   "execution_count": 56,
   "id": "b77042cb-2dc8-417d-b689-86cfd2cb3d32",
   "metadata": {},
   "outputs": [
    {
     "name": "stdout",
     "output_type": "stream",
     "text": [
      "[30.88919626 16.90501801 -7.21028242 14.33336017  1.51103486 20.29637464]\n"
     ]
    },
    {
     "data": {
      "image/png": "[encoded data removed]",
      "text/plain": [
       "<Figure size 640x480 with 1 Axes>"
      ]
     },
     "metadata": {},
     "output_type": "display_data"
    }
   ],
   "source": [
    "import matplotlib.pyplot as plt\n",
    "import numpy as np\n",
    "\n",
    "# Generate 10,000 random numbers\n",
    "data = 5+15*np.random.randn(6)\n",
    "print(data)\n",
    "# Plot histogram\n",
    "plt.hist(data, bins=50, density=True, alpha=0.6, color='b')\n",
    "\n",
    "# Show plot\n",
    "plt.title(\"Histogram of randn() values\")\n",
    "plt.xlabel(\"Value\")\n",
    "plt.ylabel(\"Frequency\")\n",
    "plt.show()\n"
   ]
  },
  {
   "cell_type": "code",
   "execution_count": 57,
   "id": "39d2af4c-acc1-4088-b8af-58691e99f8fb",
   "metadata": {},
   "outputs": [
    {
     "data": {
      "text/plain": [
       "array([[[ 2],\n",
       "        [ 4]],\n",
       "\n",
       "       [[ 6],\n",
       "        [ 8]],\n",
       "\n",
       "       [[10],\n",
       "        [12]],\n",
       "\n",
       "       [[14],\n",
       "        [16]],\n",
       "\n",
       "       [[18],\n",
       "        [20]],\n",
       "\n",
       "       [[22],\n",
       "        [24]],\n",
       "\n",
       "       [[26],\n",
       "        [28]]])"
      ]
     },
     "execution_count": 57,
     "metadata": {},
     "output_type": "execute_result"
    }
   ],
   "source": [
    "np.arange(2,30,2).reshape(7,2,1)"
   ]
  },
  {
   "cell_type": "code",
   "execution_count": 58,
   "id": "2f9ca379-2ba7-4589-bcd5-5073f29ef789",
   "metadata": {},
   "outputs": [],
   "source": [
    "arr=np.linspace(1,20,10).reshape(2,5)"
   ]
  },
  {
   "cell_type": "code",
   "execution_count": 59,
   "id": "2a94ff17-2c66-45cb-b19c-2b4ec39c9973",
   "metadata": {},
   "outputs": [
    {
     "name": "stdout",
     "output_type": "stream",
     "text": [
      "[[[ 1.  2.  3.  4.  5.]\n",
      "  [ 6.  7.  8.  9. 10.]\n",
      "  [11. 12. 13. 14. 15.]]\n",
      "\n",
      " [[16. 17. 18. 19. 20.]\n",
      "  [21. 22. 23. 24. 25.]\n",
      "  [26. 27. 28. 29. 30.]]]\n"
     ]
    }
   ],
   "source": [
    "import numpy as np\n",
    "\n",
    "# Create a 3D array with 30 values, reshaped into (2, 3, 5)\n",
    "arr_3d = np.linspace(1, 30, 30).reshape(2, 3, 5)\n",
    "\n",
    "# Round to 2 decimal places\n",
    "rounded_arr_3d = np.round(arr_3d, 2)\n",
    "\n",
    "print(rounded_arr_3d)\n"
   ]
  },
  {
   "cell_type": "code",
   "execution_count": 60,
   "id": "edb5bb8a-9aa4-45eb-80bb-91f5787e14ca",
   "metadata": {},
   "outputs": [
    {
     "name": "stdout",
     "output_type": "stream",
     "text": [
      "['1.00', '2.00', '3.00', '4.00', '5.00']\n",
      "['6.00', '7.00', '8.00', '9.00', '10.00']\n",
      "['11.00', '12.00', '13.00', '14.00', '15.00']\n",
      "['16.00', '17.00', '18.00', '19.00', '20.00']\n",
      "['21.00', '22.00', '23.00', '24.00', '25.00']\n",
      "['26.00', '27.00', '28.00', '29.00', '30.00']\n"
     ]
    }
   ],
   "source": [
    "for matrix in rounded_arr_3d:\n",
    "    for row in matrix:\n",
    "        print([\"{:.2f}\".format(num) for num in row])\n"
   ]
  },
  {
   "cell_type": "code",
   "execution_count": 61,
   "id": "584f33a4-4db5-4713-9bdb-16a2b7ccbab6",
   "metadata": {},
   "outputs": [],
   "source": [
    "zero=np.zeros((1,1))"
   ]
  },
  {
   "cell_type": "code",
   "execution_count": 62,
   "id": "8c475381-968c-4798-ba32-d82be9e8ff86",
   "metadata": {},
   "outputs": [],
   "source": [
    "one=np.ones((1,2))"
   ]
  },
  {
   "cell_type": "code",
   "execution_count": 63,
   "id": "d2852686-2626-43fe-a331-b951f935e582",
   "metadata": {},
   "outputs": [
    {
     "data": {
      "text/plain": [
       "array([[0.],\n",
       "       [1.],\n",
       "       [1.]])"
      ]
     },
     "execution_count": 63,
     "metadata": {},
     "output_type": "execute_result"
    }
   ],
   "source": [
    "np.concatenate((zero,one.reshape(2,1)),axis=0)"
   ]
  },
  {
   "cell_type": "code",
   "execution_count": 64,
   "id": "9c417ff6-f2c7-4290-9cd2-b6522458047e",
   "metadata": {},
   "outputs": [],
   "source": [
    "daty=np.genfromtxt(\"nyc_taxis.csv\",delimiter=',',dtype=float,skip_header=True)"
   ]
  },
  {
   "cell_type": "code",
   "execution_count": 65,
   "id": "44ac4a6b-7b75-4589-91de-3b11d373dc8e",
   "metadata": {},
   "outputs": [
    {
     "name": "stdout",
     "output_type": "stream",
     "text": [
      "[[2.016e+03 1.000e+00 1.000e+00 ... 1.165e+01 6.999e+01 1.000e+00]\n",
      " [2.016e+03 1.000e+00 1.000e+00 ... 8.000e+00 5.430e+01 1.000e+00]\n",
      " [2.016e+03 1.000e+00 1.000e+00 ... 0.000e+00 3.780e+01 2.000e+00]\n",
      " ...\n",
      " [2.016e+03 6.000e+00 3.000e+01 ... 5.000e+00 6.334e+01 1.000e+00]\n",
      " [2.016e+03 6.000e+00 3.000e+01 ... 8.950e+00 4.475e+01 1.000e+00]\n",
      " [2.016e+03 6.000e+00 3.000e+01 ... 0.000e+00 5.484e+01 2.000e+00]]\n"
     ]
    }
   ],
   "source": [
    "print(daty)"
   ]
  },
  {
   "cell_type": "markdown",
   "id": "532788ca",
   "metadata": {},
   "source": [
    "#  converting system of linear equactions into metrices\n",
    "\n",
    "#     -x+3y=7\n",
    "#     3x+2y=1     \n"
   ]
  },
  {
   "cell_type": "code",
   "execution_count": 66,
   "id": "0ad02884",
   "metadata": {},
   "outputs": [
    {
     "name": "stdout",
     "output_type": "stream",
     "text": [
      "Matrix A=[[-1.  3.]\n",
      " [ 3.  2.]]\n",
      "Matrix B=[7. 1.]\n"
     ]
    }
   ],
   "source": [
    "A=np.array([[-1,3],\n",
    "            [3,2]],dtype=np.dtype(float))\n",
    "B=np.array([7,1],dtype=np.dtype(float))\n",
    "print(f\"Matrix A={A}\")\n",
    "print(f\"Matrix B={B}\")\n"
   ]
  },
  {
   "cell_type": "markdown",
   "id": "378fd3dc",
   "metadata": {
    "slideshow": {
     "slide_type": "slide"
    }
   },
   "source": [
    "# finding solution for the system 0f linear equations\n",
    "# using numpy.linalg.solve()"
   ]
  },
  {
   "cell_type": "code",
   "execution_count": 67,
   "id": "349dc22d",
   "metadata": {},
   "outputs": [
    {
     "name": "stdout",
     "output_type": "stream",
     "text": [
      "x=[-1.  2.]\n"
     ]
    }
   ],
   "source": [
    "x=np.linalg.solve(A,B)\n",
    "print(f\"x={x}\")"
   ]
  },
  {
   "cell_type": "code",
   "execution_count": null,
   "id": "571463c7",
   "metadata": {},
   "outputs": [],
   "source": []
  },
  {
   "cell_type": "markdown",
   "id": "d5377772",
   "metadata": {},
   "source": [
    "#  the above given system of linear equations gives a square matrix of 2x2 and a vector of 2x1\n",
    "# in case of square matrix it is possible to calculate determinant of the matrix \n",
    "# and if the determinant is not equal to zero then the matrix is invertible and\n",
    "#  the solution of the system of linear equations can be found using the formula x=A^(-1)B\n"
   ]
  },
  {
   "cell_type": "code",
   "execution_count": 68,
   "id": "4680b076",
   "metadata": {},
   "outputs": [
    {
     "name": "stdout",
     "output_type": "stream",
     "text": [
      "Determinant of A=-11.000000000000002\n"
     ]
    }
   ],
   "source": [
    "#Calculating determinant\n",
    "det_A=np.linalg.det(A)\n",
    "print(f\"Determinant of A={det_A}\")"
   ]
  },
  {
   "cell_type": "markdown",
   "id": "faf6cbf7",
   "metadata": {},
   "source": [
    "Notice that the determinant is non zero as expected\n"
   ]
  },
  {
   "cell_type": "code",
   "execution_count": null,
   "id": "36fd6215",
   "metadata": {},
   "outputs": [],
   "source": []
  },
  {
   "cell_type": "markdown",
   "id": "d97a6a5e",
   "metadata": {
    "slideshow": {
     "slide_type": "slide"
    }
   },
   "source": [
    "Solving system of linear equations using elemination method"
   ]
  },
  {
   "cell_type": "code",
   "execution_count": 69,
   "id": "bbf9f55a",
   "metadata": {},
   "outputs": [
    {
     "name": "stdout",
     "output_type": "stream",
     "text": [
      "Help on _ArrayFunctionDispatcher in module numpy:\n",
      "\n",
      "hstack(tup, *, dtype=None, casting='same_kind')\n",
      "    Stack arrays in sequence horizontally (column wise).\n",
      "\n",
      "    This is equivalent to concatenation along the second axis, except for 1-D\n",
      "    arrays where it concatenates along the first axis. Rebuilds arrays divided\n",
      "    by `hsplit`.\n",
      "\n",
      "    This function makes most sense for arrays with up to 3 dimensions. For\n",
      "    instance, for pixel-data with a height (first axis), width (second axis),\n",
      "    and r/g/b channels (third axis). The functions `concatenate`, `stack` and\n",
      "    `block` provide more general stacking and concatenation operations.\n",
      "\n",
      "    Parameters\n",
      "    ----------\n",
      "    tup : sequence of ndarrays\n",
      "        The arrays must have the same shape along all but the second axis,\n",
      "        except 1-D arrays which can be any length. In the case of a single\n",
      "        array_like input, it will be treated as a sequence of arrays; i.e.,\n",
      "        each element along the zeroth axis is treated as a separate array.\n",
      "\n",
      "    dtype : str or dtype\n",
      "        If provided, the destination array will have this dtype. Cannot be\n",
      "        provided together with `out`.\n",
      "\n",
      "        .. versionadded:: 1.24\n",
      "\n",
      "    casting : {'no', 'equiv', 'safe', 'same_kind', 'unsafe'}, optional\n",
      "        Controls what kind of data casting may occur. Defaults to 'same_kind'.\n",
      "\n",
      "        .. versionadded:: 1.24\n",
      "\n",
      "    Returns\n",
      "    -------\n",
      "    stacked : ndarray\n",
      "        The array formed by stacking the given arrays.\n",
      "\n",
      "    See Also\n",
      "    --------\n",
      "    concatenate : Join a sequence of arrays along an existing axis.\n",
      "    stack : Join a sequence of arrays along a new axis.\n",
      "    block : Assemble an nd-array from nested lists of blocks.\n",
      "    vstack : Stack arrays in sequence vertically (row wise).\n",
      "    dstack : Stack arrays in sequence depth wise (along third axis).\n",
      "    column_stack : Stack 1-D arrays as columns into a 2-D array.\n",
      "    hsplit : Split an array into multiple sub-arrays\n",
      "             horizontally (column-wise).\n",
      "    unstack : Split an array into a tuple of sub-arrays along an axis.\n",
      "\n",
      "    Examples\n",
      "    --------\n",
      "    >>> import numpy as np\n",
      "    >>> a = np.array((1,2,3))\n",
      "    >>> b = np.array((4,5,6))\n",
      "    >>> np.hstack((a,b))\n",
      "    array([1, 2, 3, 4, 5, 6])\n",
      "    >>> a = np.array([[1],[2],[3]])\n",
      "    >>> b = np.array([[4],[5],[6]])\n",
      "    >>> np.hstack((a,b))\n",
      "    array([[1, 4],\n",
      "           [2, 5],\n",
      "           [3, 6]])\n",
      "\n"
     ]
    }
   ],
   "source": [
    "help(np.hstack)"
   ]
  },
  {
   "cell_type": "code",
   "execution_count": 70,
   "id": "4a49de28",
   "metadata": {},
   "outputs": [
    {
     "name": "stdout",
     "output_type": "stream",
     "text": [
      "Matrix A_system=[[-1.  3.  7.]\n",
      " [ 3.  2.  1.]]\n"
     ]
    }
   ],
   "source": [
    "A_system=np.concatenate((A,B.reshape(2,1)),axis=1)\n",
    "print(f\"Matrix A_system={A_system}\")"
   ]
  },
  {
   "cell_type": "code",
   "execution_count": 71,
   "id": "c807f12b",
   "metadata": {},
   "outputs": [
    {
     "name": "stdout",
     "output_type": "stream",
     "text": [
      "[3. 2. 1.]\n"
     ]
    }
   ],
   "source": [
    "print(A_system[1])"
   ]
  },
  {
   "cell_type": "code",
   "execution_count": 72,
   "id": "8ac823c9",
   "metadata": {},
   "outputs": [],
   "source": [
    "A_sys_res=A_system.copy()\n",
    "\n"
   ]
  },
  {
   "cell_type": "code",
   "execution_count": 73,
   "id": "ce6ac299",
   "metadata": {},
   "outputs": [
    {
     "name": "stdout",
     "output_type": "stream",
     "text": [
      "Matrix A_sys_res=[[-1.  3.  7.]\n",
      " [ 0. 11. 22.]]\n"
     ]
    }
   ],
   "source": [
    "A_sys_res[1]=3*A_sys_res[0]+A_sys_res[1]\n",
    "print(f\"Matrix A_sys_res={A_sys_res}\")"
   ]
  },
  {
   "cell_type": "code",
   "execution_count": 74,
   "id": "322bd44d",
   "metadata": {},
   "outputs": [
    {
     "name": "stdout",
     "output_type": "stream",
     "text": [
      "Matrix A_sys_res=[[-1.  3.  7.]\n",
      " [ 0.  1.  2.]]\n"
     ]
    }
   ],
   "source": [
    "A_sys_res[1]=1/11*A_sys_res[1]\n",
    "print(f\"Matrix A_sys_res={A_sys_res}\")"
   ]
  },
  {
   "cell_type": "code",
   "execution_count": 75,
   "id": "72ab2040",
   "metadata": {},
   "outputs": [
    {
     "name": "stdout",
     "output_type": "stream",
     "text": [
      "[0. 1. 2.]\n"
     ]
    }
   ],
   "source": [
    "print(A_sys_res[1])"
   ]
  },
  {
   "cell_type": "markdown",
   "id": "88a32cc1",
   "metadata": {},
   "source": [
    "As row 2 has equation 0x+y=2 so value for y is 2 i.e y=2 and for x\n",
    "we will put value of y in 1st equation i.e -x+3(2)=7 -> -x=7-6-> x=-1"
   ]
  },
  {
   "cell_type": "markdown",
   "id": "d82efc5c",
   "metadata": {},
   "source": [
    "GRAPHICAL REPRESENTATION OF SOLUTION:"
   ]
  },
  {
   "cell_type": "code",
   "execution_count": 76,
   "id": "3d7524f8",
   "metadata": {},
   "outputs": [],
   "source": [
    "import matplotlib.pyplot as plt\n",
    "\n",
    "def plot_lines(M):\n",
    "      x1=np.linspace(-10,10,100)\n",
    "      y1=(M[0,2]-M[0,0]*x1)/M[0,1]\n",
    "      y2=(M[1,2]-M[1,0]*x1)/M[1,1]\n",
    "      _,ax=plt.subplots(figsize=(10,10))\n",
    "      ax.plot(x1,y1,'-',linewidth=2,color='red',label='3x1+2x2=7')\n",
    "      ax.plot(x1,y2,'-',linewidth=2,color='blue',label='3x1+2x2=1')\n",
    "\n",
    "      A=M[:,0:-1]\n",
    "      b=M[:, -1::].flatten()\n",
    "      d=np.linalg.det(A)\n",
    "      if d!=0:\n",
    "          solution=np.linalg.solve(A,b)\n",
    "          ax.plot(solution[0],solution[1],'o',markersize=10,color='black',markeredgecolor='black',markeredgewidth=2)\n",
    "          ax.text(solution[0]-0.25,solution[1]+0.75,f\"${solution[0]:.0f},{solution[1]:.0f}$\",fontsize=12)\n",
    "          ax.tick_params(axis='x',labelsize=14)\n",
    "          ax.tick_params(axis='y',labelsize=14)\n",
    "          ax.set_xticks(np.arange(-10,10))\n",
    "          ax.set_yticks(np.arange(-10,10))\n",
    "          ax.set_xlabel('x1',fontsize=14)\n",
    "          ax.set_ylabel('x2',fontsize=14)\n",
    "          plt.legend(loc='upper right',fontsize=14)\n",
    "          plt.axis([-10,10,-10,10])\n",
    "          plt.grid()          \n",
    "          plt.gca().set_aspect('equal')\n",
    "\n",
    "          plt.show()\n",
    "      \n",
    "      \n"
   ]
  },
  {
   "cell_type": "code",
   "execution_count": 77,
   "id": "e488da50",
   "metadata": {},
   "outputs": [
    {
     "data": {
      "image/png": "[encoded data removed]",
      "text/plain": [
       "<Figure size 1000x1000 with 1 Axes>"
      ]
     },
     "metadata": {},
     "output_type": "display_data"
    }
   ],
   "source": [
    "\n",
    "plot_lines(A_sys_res)"
   ]
  },
  {
   "cell_type": "markdown",
   "id": "65bb9f25",
   "metadata": {},
   "source": [
    "```markdown\n",
    "# System of Linear Equations with No Solution\n",
    "\n",
    "The equations are:\n",
    "\n",
    "- \\( -x + 3y = 7 \\)  \n",
    "- \\( 3x - 9y = 1 \\)\n",
    "```"
   ]
  },
  {
   "cell_type": "code",
   "execution_count": 78,
   "id": "596f96f0",
   "metadata": {},
   "outputs": [
    {
     "name": "stdout",
     "output_type": "stream",
     "text": [
      "Determinant of A3=0.0\n"
     ]
    }
   ],
   "source": [
    "A2=np.array([[-1,3,7],\n",
    "             [3,-9,1]])\n",
    "A3=A2[:,0:-1]\n",
    "b2=A2[:,-1::].flatten()\n",
    "d3=np.linalg.det(A3)\n",
    "print(f\"Determinant of A3={d3}\")\n"
   ]
  },
  {
   "cell_type": "code",
   "execution_count": 79,
   "id": "04d3986b",
   "metadata": {},
   "outputs": [
    {
     "name": "stdout",
     "output_type": "stream",
     "text": [
      "it is Singular matrix\n"
     ]
    }
   ],
   "source": [
    "try:\n",
    "    x2=np.linalg.solve(A3,b2)\n",
    "    print(f\"x2={x2}\")\n",
    "except np.linalg.LinAlgError as err:\n",
    "    print(f\"it is {err}\")"
   ]
  },
  {
   "cell_type": "code",
   "execution_count": 80,
   "id": "d000fbd4",
   "metadata": {},
   "outputs": [
    {
     "name": "stdout",
     "output_type": "stream",
     "text": [
      "Matrix A2_res=[[-1  3  7]\n",
      " [ 0  0 22]]\n"
     ]
    }
   ],
   "source": [
    "# lets try to apply elemination method\n",
    "A2_res=A2.copy()\n",
    "A2_res[1]=3*A2_res[0]+A2_res[1]\n",
    "print(f\"Matrix A2_res={A2_res}\")"
   ]
  },
  {
   "cell_type": "markdown",
   "id": "cac6d9d5",
   "metadata": {},
   "source": [
    "As in above system the second eq become 0+0=22 its mean it has no solution\n"
   ]
  },
  {
   "cell_type": "code",
   "execution_count": 81,
   "id": "ab37f07e",
   "metadata": {},
   "outputs": [
    {
     "name": "stderr",
     "output_type": "stream",
     "text": [
      "/var/folders/6n/ndsjwkks0kn541czwk8ff3hc0000gn/T/ipykernel_23259/2664307109.py:6: RuntimeWarning: divide by zero encountered in divide\n",
      "  y2=(M[1,2]-M[1,0]*x1)/M[1,1]\n"
     ]
    },
    {
     "data": {
      "image/png": "[encoded data removed]",
      "text/plain": [
       "<Figure size 1000x1000 with 1 Axes>"
      ]
     },
     "metadata": {},
     "output_type": "display_data"
    },
    {
     "data": {
      "image/png": "[encoded data removed]",
      "text/plain": [
       "<Figure size 1000x1000 with 1 Axes>"
      ]
     },
     "metadata": {},
     "output_type": "display_data"
    }
   ],
   "source": [
    "plot_lines(A2)\n",
    "plot_lines(A2_res)"
   ]
  },
  {
   "cell_type": "markdown",
   "id": "523ae1f1",
   "metadata": {},
   "source": [
    "```markdown\n",
    "# System of Linear Equations with Infinite Solutions\n",
    "\n",
    "The equations are:\n",
    "\n",
    "- \\( -x + 3y = 7 \\)  \n",
    "- \\( 3x - 9y = -21 \\)\n",
    "```"
   ]
  },
  {
   "cell_type": "code",
   "execution_count": 82,
   "id": "665f682a",
   "metadata": {},
   "outputs": [],
   "source": [
    "A5=A2[:,0:-1]"
   ]
  },
  {
   "cell_type": "code",
   "execution_count": 83,
   "id": "c08c91d8",
   "metadata": {},
   "outputs": [
    {
     "name": "stdout",
     "output_type": "stream",
     "text": [
      "Matrix A3=[[ -1   3   7]\n",
      " [  3  -9 -21]]\n"
     ]
    }
   ],
   "source": [
    "b3=np.array([7,-21])\n",
    "A5=np.concatenate((A5,b3.reshape(2,1)),axis=1)\n",
    "print(f\"Matrix A3={A5}\")\n"
   ]
  },
  {
   "cell_type": "code",
   "execution_count": 84,
   "id": "0cc5c333",
   "metadata": {},
   "outputs": [
    {
     "name": "stdout",
     "output_type": "stream",
     "text": [
      "Matrix A5_res=[[-1  3  7]\n",
      " [ 0  0  0]]\n"
     ]
    }
   ],
   "source": [
    "A5_res=A5.copy()\n",
    "A5_res[1]=3*A5_res[0]+A5_res[1]\n",
    "print(f\"Matrix A5_res={A5_res}\")"
   ]
  },
  {
   "cell_type": "markdown",
   "id": "8646b75a",
   "metadata": {},
   "source": [
    "The 2nd equation become 0=0\n",
    "SO, the solutions of linear system are: x=3y-7"
   ]
  },
  {
   "cell_type": "markdown",
   "id": "0d7f64a0",
   "metadata": {},
   "source": [
    "Lets plot the graph for this system"
   ]
  },
  {
   "cell_type": "code",
   "execution_count": 85,
   "id": "1949a41d",
   "metadata": {},
   "outputs": [
    {
     "name": "stderr",
     "output_type": "stream",
     "text": [
      "/var/folders/6n/ndsjwkks0kn541czwk8ff3hc0000gn/T/ipykernel_23259/2664307109.py:6: RuntimeWarning: invalid value encountered in divide\n",
      "  y2=(M[1,2]-M[1,0]*x1)/M[1,1]\n"
     ]
    },
    {
     "data": {
      "image/png": "[encoded data removed]",
      "text/plain": [
       "<Figure size 1000x1000 with 1 Axes>"
      ]
     },
     "metadata": {},
     "output_type": "display_data"
    }
   ],
   "source": [
    "plot_lines(A5_res)"
   ]
  },
  {
   "cell_type": "markdown",
   "id": "8a67075a",
   "metadata": {},
   "source": [
    "Quiz"
   ]
  },
  {
   "cell_type": "code",
   "execution_count": 86,
   "id": "ef713e44",
   "metadata": {},
   "outputs": [
    {
     "name": "stdout",
     "output_type": "stream",
     "text": [
      "Select one of the options given:\n"
     ]
    },
    {
     "data": {
      "application/vnd.jupyter.widget-view+json": {
       "model_id": "2ece703f7d01473aa2b4e795b03560ed",
       "version_major": 2,
       "version_minor": 0
      },
      "text/plain": [
       "interactive(children=(Dropdown(description='Answer:', layout=Layout(width='25%'), options=('A', 'B', 'C', 'D')…"
      ]
     },
     "metadata": {},
     "output_type": "display_data"
    }
   ],
   "source": [
    "import ipywidgets as widgets\n",
    "from ipywidgets import interact, Dropdown\n",
    "from IPython.display import display, HTML\n",
    "\n",
    "question1 = \"Select one of the options given:\"\n",
    "solution1 = {\n",
    "    'A': \"<span style='color: red;'>Not quite. While both functions are used to create empty arrays, np.zeros() is initialized with the value 0.</span>\",\n",
    "    'B': \"<span style='color: red;'>Not quite. np.zeros() is initialized, and it gives an output of 0's.</span>\",\n",
    "    'C': \"<span style='color: red;'>Not quite. Most often, np.empty() is faster since it is not initialized.</span>\",\n",
    "    'D': \"<span style='color: green;'>True! np.empty() creates an array with uninitialized elements from available memory space and may be faster to execute.</span>\"\n",
    "}\n",
    "\n",
    "def mcq(question, solution):\n",
    "    print(question)  # Print the question\n",
    "    \n",
    "    answer_w = Dropdown(\n",
    "        options=solution.keys(),\n",
    "        value=None,\n",
    "        description=\"Answer:\",\n",
    "        layout=widgets.Layout(width='25%')\n",
    "    )\n",
    "\n",
    "    @interact(Answer=answer_w)\n",
    "    def display_answer(Answer):\n",
    "        if Answer:\n",
    "            display(HTML(solution[Answer]))\n",
    "\n",
    "# Run the function to show the quiz\n",
    "mcq(question1, solution1)\n"
   ]
  },
  {
   "cell_type": "markdown",
   "id": "cd01cffe",
   "metadata": {},
   "source": [
    "Now solving using row reduction "
   ]
  },
  {
   "cell_type": "code",
   "execution_count": 87,
   "id": "e4649b65",
   "metadata": {},
   "outputs": [
    {
     "data": {
      "image/png": "[encoded data removed]",
      "text/plain": [
       "<Figure size 1000x1000 with 1 Axes>"
      ]
     },
     "metadata": {},
     "output_type": "display_data"
    }
   ],
   "source": [
    "import matplotlib.pyplot as plt\n",
    "\n",
    "def plot_vectors(list_v, list_label, list_color):\n",
    "    _, ax = plt.subplots(figsize=(10, 10))\n",
    "    ax.tick_params(axis='x', labelsize=14)\n",
    "    ax.tick_params(axis='y', labelsize=14)\n",
    "    ax.set_xticks(np.arange(-10, 10))\n",
    "    ax.set_yticks(np.arange(-10, 10))\n",
    "    \n",
    "    \n",
    "    plt.axis([-10, 10, -10, 10])\n",
    "    for i, v in enumerate(list_v):\n",
    "        sgn =  np.array([[1] if i==0 else [i] for i in np.sign(v)])\n",
    "        plt.quiver(v[0], v[1], color=list_color[i], angles='xy', scale_units='xy', scale=1)\n",
    "        ax.text(v[0]+sgn[0], v[1]+sgn[1], list_label[i], fontsize=14, color=list_color[i])\n",
    "\n",
    "    plt.grid()\n",
    "    plt.gca().set_aspect(\"equal\")\n",
    "    plt.show()\n",
    "\n",
    "v = np.array([[-1],[-2]])\n",
    "# Arguments: list of vectors as NumPy arrays, labels, colors.\n",
    "plot_vectors([v], [f\"$r$\"], [\"red\"])\n"
   ]
  },
  {
   "cell_type": "code",
   "execution_count": 88,
   "id": "9db21c20",
   "metadata": {},
   "outputs": [
    {
     "data": {
      "image/png": "[encoded data removed]",
      "text/plain": [
       "<Figure size 1000x1000 with 1 Axes>"
      ]
     },
     "metadata": {},
     "output_type": "display_data"
    }
   ],
   "source": [
    "plot_vectors([v,2*v,-2*v],['$v$','$2V$','$-2V$'],['red','pink','black'])"
   ]
  },
  {
   "cell_type": "code",
   "execution_count": 89,
   "id": "951bb962",
   "metadata": {},
   "outputs": [
    {
     "data": {
      "image/png": "[encoded data removed]",
      "text/plain": [
       "<Figure size 1000x1000 with 1 Axes>"
      ]
     },
     "metadata": {},
     "output_type": "display_data"
    }
   ],
   "source": [
    "v = np.array([[1],[3]])\n",
    "w = np.array([[4],[-1]])\n",
    "\n",
    "plot_vectors([v, w, v + w], [\"$v$\", \"$w$\", \"$v + w$\"], [\"black\", \"black\", \"red\"])"
   ]
  },
  {
   "cell_type": "code",
   "execution_count": 90,
   "id": "c19888b2",
   "metadata": {},
   "outputs": [],
   "source": [
    "def dot(x, y):\n",
    "    s=0\n",
    "    for xi, yi in zip(x, y):\n",
    "        s += xi * yi\n",
    "    return s"
   ]
  },
  {
   "cell_type": "code",
   "execution_count": 91,
   "id": "ccea6d8e",
   "metadata": {},
   "outputs": [],
   "source": [
    "a = np.random.rand(1000000)\n",
    "b = np.random.rand(1000000)\n"
   ]
  },
  {
   "cell_type": "code",
   "execution_count": 92,
   "id": "5dc28075",
   "metadata": {},
   "outputs": [
    {
     "name": "stdout",
     "output_type": "stream",
     "text": [
      "Dot product:  249121.81507150884\n",
      "Time for the loop version:476.254940032959 ms\n"
     ]
    }
   ],
   "source": [
    "import time\n",
    "\n",
    "tic = time.time()\n",
    "c = dot(a,b)\n",
    "toc = time.time()\n",
    "print(\"Dot product: \", c)\n",
    "print (\"Time for the loop version:\" + str(1000*(toc-tic)) + \" ms\")\n"
   ]
  },
  {
   "cell_type": "code",
   "execution_count": 93,
   "id": "8fa4e6e5",
   "metadata": {},
   "outputs": [
    {
     "name": "stdout",
     "output_type": "stream",
     "text": [
      "Dot product:  249121.8150715005\n",
      "Time for the vectorized version, np.dot() function: 1.734018325805664 ms\n"
     ]
    }
   ],
   "source": [
    "tic = time.time()\n",
    "c = np.dot(a,b)\n",
    "toc = time.time()\n",
    "print(\"Dot product: \", c)\n",
    "print (\"Time for the vectorized version, np.dot() function: \" + str(1000*(toc-tic)) + \" ms\")\n"
   ]
  },
  {
   "cell_type": "code",
   "execution_count": 94,
   "id": "df62a282",
   "metadata": {},
   "outputs": [
    {
     "name": "stdout",
     "output_type": "stream",
     "text": [
      "Dot product:  249121.8150715005\n",
      "Time for the vectorized version, @ function: 1.4498233795166016 ms\n"
     ]
    }
   ],
   "source": [
    "tic = time.time()\n",
    "c = a @ b\n",
    "toc = time.time()\n",
    "print(\"Dot product: \", c)\n",
    "print (\"Time for the vectorized version, @ function: \" + str(1000*(toc-tic)) + \" ms\")\n"
   ]
  },
  {
   "cell_type": "code",
   "execution_count": 95,
   "id": "6422eff7",
   "metadata": {},
   "outputs": [
    {
     "name": "stdout",
     "output_type": "stream",
     "text": [
      "Matrix A (3 by 3):\n",
      " [[4 9 9]\n",
      " [9 1 6]\n",
      " [9 2 3]]\n",
      "Matrix B (3 by 2):\n",
      " [[2 2]\n",
      " [5 7]\n",
      " [4 4]]\n"
     ]
    }
   ],
   "source": [
    "A = np.array([[4, 9, 9], [9, 1, 6], [9, 2, 3]])\n",
    "print(\"Matrix A (3 by 3):\\n\", A)\n",
    "\n",
    "B = np.array([[2, 2], [5, 7], [4, 4]])\n",
    "print(\"Matrix B (3 by 2):\\n\", B)\n"
   ]
  },
  {
   "cell_type": "code",
   "execution_count": 96,
   "id": "f574b2b6",
   "metadata": {},
   "outputs": [
    {
     "data": {
      "text/plain": [
       "array([[ 89, 107],\n",
       "       [ 47,  49],\n",
       "       [ 40,  44]])"
      ]
     },
     "execution_count": 96,
     "metadata": {},
     "output_type": "execute_result"
    }
   ],
   "source": [
    "np.matmul(A, B)\n"
   ]
  },
  {
   "cell_type": "code",
   "execution_count": 97,
   "id": "cf647bdb",
   "metadata": {},
   "outputs": [
    {
     "data": {
      "text/plain": [
       "array([[ 89, 107],\n",
       "       [ 47,  49],\n",
       "       [ 40,  44]])"
      ]
     },
     "execution_count": 97,
     "metadata": {},
     "output_type": "execute_result"
    }
   ],
   "source": [
    "\n",
    "A @ B\n"
   ]
  },
  {
   "cell_type": "code",
   "execution_count": 98,
   "id": "6e956f99",
   "metadata": {},
   "outputs": [
    {
     "name": "stdout",
     "output_type": "stream",
     "text": [
      "matmul: Input operand 1 has a mismatch in its core dimension 0, with gufunc signature (n?,k),(k,m?)->(n?,m?) (size 3 is different from 2)\n"
     ]
    }
   ],
   "source": [
    "try:\n",
    "    np.matmul(B, A)\n",
    "except ValueError as err:\n",
    "    print(err)\n"
   ]
  },
  {
   "cell_type": "code",
   "execution_count": 99,
   "id": "246bae0b",
   "metadata": {},
   "outputs": [
    {
     "name": "stdout",
     "output_type": "stream",
     "text": [
      "matmul: Input operand 1 has a mismatch in its core dimension 0, with gufunc signature (n?,k),(k,m?)->(n?,m?) (size 3 is different from 2)\n"
     ]
    }
   ],
   "source": [
    "try:\n",
    "    B @ A\n",
    "except ValueError as err:\n",
    "    print(err)\n"
   ]
  },
  {
   "cell_type": "code",
   "execution_count": 100,
   "id": "b1a871d9",
   "metadata": {},
   "outputs": [
    {
     "name": "stdout",
     "output_type": "stream",
     "text": [
      "Shape of vector x: (3,)\n",
      "Number of dimensions of vector x: 1\n",
      "Shape of vector x, reshaped to a matrix: (3, 1)\n",
      "Number of dimensions of vector x, reshaped to a matrix: 2\n"
     ]
    }
   ],
   "source": [
    "x = np.array([1, -2, -5])\n",
    "y = np.array([4, 3, -1])\n",
    "\n",
    "print(\"Shape of vector x:\", x.shape)\n",
    "print(\"Number of dimensions of vector x:\", x.ndim)\n",
    "print(\"Shape of vector x, reshaped to a matrix:\", x.reshape((3, 1)).shape)\n",
    "print(\"Number of dimensions of vector x, reshaped to a matrix:\", x.reshape((3, 1)).ndim)\n"
   ]
  },
  {
   "cell_type": "code",
   "execution_count": 101,
   "id": "1b53531d",
   "metadata": {},
   "outputs": [
    {
     "data": {
      "text/plain": [
       "np.int64(3)"
      ]
     },
     "execution_count": 101,
     "metadata": {},
     "output_type": "execute_result"
    }
   ],
   "source": [
    "np.matmul(x,y)\n"
   ]
  },
  {
   "cell_type": "code",
   "execution_count": 102,
   "id": "832562b4",
   "metadata": {},
   "outputs": [
    {
     "name": "stdout",
     "output_type": "stream",
     "text": [
      "matmul: Input operand 1 has a mismatch in its core dimension 0, with gufunc signature (n?,k),(k,m?)->(n?,m?) (size 3 is different from 1)\n"
     ]
    }
   ],
   "source": [
    "try:\n",
    "    np.matmul(x.reshape((3, 1)), y.reshape((3, 1)))\n",
    "except ValueError as err:\n",
    "    print(err)\n"
   ]
  },
  {
   "cell_type": "code",
   "execution_count": 103,
   "id": "15ec6eba",
   "metadata": {},
   "outputs": [
    {
     "data": {
      "text/plain": [
       "array([[ 89, 107],\n",
       "       [ 47,  49],\n",
       "       [ 40,  44]])"
      ]
     },
     "execution_count": 103,
     "metadata": {},
     "output_type": "execute_result"
    }
   ],
   "source": [
    "np.dot(A, B)\n"
   ]
  },
  {
   "cell_type": "code",
   "execution_count": 104,
   "id": "e9334849",
   "metadata": {},
   "outputs": [
    {
     "data": {
      "text/plain": [
       "array([[ 2,  7,  7],\n",
       "       [ 7, -1,  4],\n",
       "       [ 7,  0,  1]])"
      ]
     },
     "execution_count": 104,
     "metadata": {},
     "output_type": "execute_result"
    }
   ],
   "source": [
    "A - 2\n"
   ]
  },
  {
   "cell_type": "code",
   "execution_count": 105,
   "id": "596f8383",
   "metadata": {},
   "outputs": [
    {
     "name": "stdout",
     "output_type": "stream",
     "text": [
      "Original vector:\n",
      " [[3]\n",
      " [5]] \n",
      "\n",
      " Result of the transformation:\n",
      " [[  9.]\n",
      " [  0.]\n",
      " [-10.]]\n"
     ]
    }
   ],
   "source": [
    "def T(v):\n",
    "    w = np.zeros((3,1))\n",
    "    w[0,0] = 3*v[0,0]\n",
    "    w[2,0] = -2*v[1,0]\n",
    "    \n",
    "    return w\n",
    "\n",
    "v = np.array([[3], [5]])\n",
    "w = T(v)\n",
    "\n",
    "print(\"Original vector:\\n\", v, \"\\n\\n Result of the transformation:\\n\", w)\n"
   ]
  },
  {
   "cell_type": "code",
   "execution_count": 106,
   "id": "9fbfe2c5",
   "metadata": {},
   "outputs": [
    {
     "name": "stdout",
     "output_type": "stream",
     "text": [
      "[[ 1]\n",
      " [-2]]\n",
      "----\n",
      "[[2]\n",
      " [4]]\n",
      "T(k*v):\n",
      " [[ 42.]\n",
      " [  0.]\n",
      " [-56.]] \n",
      " k*T(v):\n",
      " [[ 42.]\n",
      " [  0.]\n",
      " [-56.]] \n",
      "\n",
      "\n",
      "T(u+v):\n",
      " [[ 9.]\n",
      " [ 0.]\n",
      " [-4.]] \n",
      " T(u)+T(v):\n",
      " [[ 9.]\n",
      " [ 0.]\n",
      " [-4.]]\n"
     ]
    }
   ],
   "source": [
    "u = np.array([[1], [-2]])\n",
    "v = np.array([[2], [4]])\n",
    "print(u)\n",
    "print('----')\n",
    "print(v)\n",
    "\n",
    "k = 7\n",
    "\n",
    "print(\"T(k*v):\\n\", T(k*v), \"\\n k*T(v):\\n\", k*T(v), \"\\n\\n\")\n",
    "print(\"T(u+v):\\n\", T(u+v), \"\\n T(u)+T(v):\\n\", T(u)+T(v))\n"
   ]
  },
  {
   "cell_type": "code",
   "execution_count": 107,
   "id": "5b537f94",
   "metadata": {},
   "outputs": [
    {
     "name": "stdout",
     "output_type": "stream",
     "text": [
      "Transformation matrix:\n",
      " [[ 3  0]\n",
      " [ 0  0]\n",
      " [ 0 -2]] \n",
      "\n",
      "Original vector:\n",
      " [[3]\n",
      " [5]] \n",
      "\n",
      " Result of the transformation:\n",
      " [[  9]\n",
      " [  0]\n",
      " [-10]]\n"
     ]
    }
   ],
   "source": [
    "def L(v):\n",
    "    A = np.array([[3,0], [0,0], [0,-2]])\n",
    "    print(\"Transformation matrix:\\n\", A, \"\\n\")\n",
    "    w = A @ v\n",
    "    \n",
    "    return w\n",
    "\n",
    "v = np.array([[3], [5]])\n",
    "w = L(v)\n",
    "\n",
    "print(\"Original vector:\\n\", v, \"\\n\\n Result of the transformation:\\n\", w)\n"
   ]
  },
  {
   "cell_type": "code",
   "execution_count": 108,
   "id": "28bae126",
   "metadata": {},
   "outputs": [
    {
     "name": "stdout",
     "output_type": "stream",
     "text": [
      "Original vectors:\n",
      " e1= \n",
      " [[1]\n",
      " [0]] \n",
      " e2=\n",
      " [[0]\n",
      " [1]] \n",
      "\n",
      " Result of the transformation (matrix form):\n",
      " [[2 0]\n",
      " [0 1]]\n"
     ]
    }
   ],
   "source": [
    "def T_hscaling(v):\n",
    "    A = np.array([[2,0], [0,1]])\n",
    "    w = A @ v\n",
    "    \n",
    "    return w\n",
    "    \n",
    "    \n",
    "def transform_vectors(T, v1, v2):\n",
    "    V = np.hstack((v1, v2))\n",
    "    W = T(V)\n",
    "    \n",
    "    return W\n",
    "    \n",
    "e1 = np.array([[1], [0]])\n",
    "e2 = np.array([[0], [1]])\n",
    "\n",
    "transformation_result_hscaling = transform_vectors(T_hscaling, e1, e2)\n",
    "\n",
    "print(\"Original vectors:\\n e1= \\n\", e1, \"\\n e2=\\n\", e2, \n",
    "      \"\\n\\n Result of the transformation (matrix form):\\n\", transformation_result_hscaling)\n"
   ]
  },
  {
   "cell_type": "code",
   "execution_count": 109,
   "id": "a13b5422",
   "metadata": {},
   "outputs": [
    {
     "ename": "ValueError",
     "evalue": "setting an array element with a sequence. The requested array has an inhomogeneous shape after 1 dimensions. The detected shape was (4,) + inhomogeneous part.",
     "output_type": "error",
     "traceback": [
      "\u001b[0;31m---------------------------------------------------------------------------\u001b[0m",
      "\u001b[0;31mValueError\u001b[0m                                Traceback (most recent call last)",
      "Cell \u001b[0;32mIn[109], line 41\u001b[0m\n\u001b[1;32m     38\u001b[0m     plt\u001b[38;5;241m.\u001b[39mgca()\u001b[38;5;241m.\u001b[39mset_aspect(\u001b[38;5;124m\"\u001b[39m\u001b[38;5;124mequal\u001b[39m\u001b[38;5;124m\"\u001b[39m)\n\u001b[1;32m     39\u001b[0m     plt\u001b[38;5;241m.\u001b[39mshow()\n\u001b[0;32m---> 41\u001b[0m \u001b[43mplot_transformation\u001b[49m\u001b[43m(\u001b[49m\u001b[43mT_hscaling\u001b[49m\u001b[43m,\u001b[49m\u001b[43m \u001b[49m\u001b[43me1\u001b[49m\u001b[43m,\u001b[49m\u001b[43m \u001b[49m\u001b[43me2\u001b[49m\u001b[43m)\u001b[49m\n",
      "Cell \u001b[0;32mIn[109], line 15\u001b[0m, in \u001b[0;36mplot_transformation\u001b[0;34m(T, e1, e2)\u001b[0m\n\u001b[1;32m     13\u001b[0m plt\u001b[38;5;241m.\u001b[39maxis([\u001b[38;5;241m-\u001b[39m\u001b[38;5;241m5\u001b[39m, \u001b[38;5;241m5\u001b[39m, \u001b[38;5;241m-\u001b[39m\u001b[38;5;241m5\u001b[39m, \u001b[38;5;241m5\u001b[39m])\n\u001b[1;32m     14\u001b[0m plt\u001b[38;5;241m.\u001b[39mquiver([\u001b[38;5;241m0\u001b[39m, \u001b[38;5;241m0\u001b[39m],[\u001b[38;5;241m0\u001b[39m, \u001b[38;5;241m0\u001b[39m], [e1[\u001b[38;5;241m0\u001b[39m], e2[\u001b[38;5;241m0\u001b[39m]], [e1[\u001b[38;5;241m1\u001b[39m], e2[\u001b[38;5;241m1\u001b[39m]], color\u001b[38;5;241m=\u001b[39mcolor_original, angles\u001b[38;5;241m=\u001b[39m\u001b[38;5;124m'\u001b[39m\u001b[38;5;124mxy\u001b[39m\u001b[38;5;124m'\u001b[39m, scale_units\u001b[38;5;241m=\u001b[39m\u001b[38;5;124m'\u001b[39m\u001b[38;5;124mxy\u001b[39m\u001b[38;5;124m'\u001b[39m, scale\u001b[38;5;241m=\u001b[39m\u001b[38;5;241m1\u001b[39m)\n\u001b[0;32m---> 15\u001b[0m \u001b[43mplt\u001b[49m\u001b[38;5;241;43m.\u001b[39;49m\u001b[43mplot\u001b[49m\u001b[43m(\u001b[49m\u001b[43m[\u001b[49m\u001b[38;5;241;43m0\u001b[39;49m\u001b[43m,\u001b[49m\u001b[43m \u001b[49m\u001b[43me2\u001b[49m\u001b[43m[\u001b[49m\u001b[38;5;241;43m0\u001b[39;49m\u001b[43m]\u001b[49m\u001b[43m,\u001b[49m\u001b[43m \u001b[49m\u001b[43me1\u001b[49m\u001b[43m[\u001b[49m\u001b[38;5;241;43m0\u001b[39;49m\u001b[43m]\u001b[49m\u001b[43m,\u001b[49m\u001b[43m \u001b[49m\u001b[43me1\u001b[49m\u001b[43m[\u001b[49m\u001b[38;5;241;43m0\u001b[39;49m\u001b[43m]\u001b[49m\u001b[43m]\u001b[49m\u001b[43m,\u001b[49m\u001b[43m \u001b[49m\n\u001b[1;32m     16\u001b[0m \u001b[43m         \u001b[49m\u001b[43m[\u001b[49m\u001b[38;5;241;43m0\u001b[39;49m\u001b[43m,\u001b[49m\u001b[43m \u001b[49m\u001b[43me2\u001b[49m\u001b[43m[\u001b[49m\u001b[38;5;241;43m1\u001b[39;49m\u001b[43m]\u001b[49m\u001b[43m,\u001b[49m\u001b[43m \u001b[49m\u001b[43me2\u001b[49m\u001b[43m[\u001b[49m\u001b[38;5;241;43m1\u001b[39;49m\u001b[43m]\u001b[49m\u001b[43m,\u001b[49m\u001b[43m \u001b[49m\u001b[43me1\u001b[49m\u001b[43m[\u001b[49m\u001b[38;5;241;43m1\u001b[39;49m\u001b[43m]\u001b[49m\u001b[43m]\u001b[49m\u001b[43m,\u001b[49m\u001b[43m \u001b[49m\n\u001b[1;32m     17\u001b[0m \u001b[43m         \u001b[49m\u001b[43mcolor\u001b[49m\u001b[38;5;241;43m=\u001b[39;49m\u001b[43mcolor_original\u001b[49m\u001b[43m)\u001b[49m\n\u001b[1;32m     18\u001b[0m e1_sgn \u001b[38;5;241m=\u001b[39m \u001b[38;5;241m0.4\u001b[39m \u001b[38;5;241m*\u001b[39m np\u001b[38;5;241m.\u001b[39marray([[\u001b[38;5;241m1\u001b[39m] \u001b[38;5;28;01mif\u001b[39;00m i\u001b[38;5;241m==\u001b[39m\u001b[38;5;241m0\u001b[39m \u001b[38;5;28;01melse\u001b[39;00m [i] \u001b[38;5;28;01mfor\u001b[39;00m i \u001b[38;5;129;01min\u001b[39;00m np\u001b[38;5;241m.\u001b[39msign(e1)])\n\u001b[1;32m     19\u001b[0m ax\u001b[38;5;241m.\u001b[39mtext(e1[\u001b[38;5;241m0\u001b[39m]\u001b[38;5;241m-\u001b[39m\u001b[38;5;241m0.2\u001b[39m\u001b[38;5;241m+\u001b[39me1_sgn[\u001b[38;5;241m0\u001b[39m], e1[\u001b[38;5;241m1\u001b[39m]\u001b[38;5;241m-\u001b[39m\u001b[38;5;241m0.2\u001b[39m\u001b[38;5;241m+\u001b[39me1_sgn[\u001b[38;5;241m1\u001b[39m], \u001b[38;5;124mf\u001b[39m\u001b[38;5;124m'\u001b[39m\u001b[38;5;124m$e_1$\u001b[39m\u001b[38;5;124m'\u001b[39m, fontsize\u001b[38;5;241m=\u001b[39m\u001b[38;5;241m14\u001b[39m, color\u001b[38;5;241m=\u001b[39mcolor_original)\n",
      "File \u001b[0;32m/Library/Frameworks/Python.framework/Versions/3.12/lib/python3.12/site-packages/matplotlib/pyplot.py:3827\u001b[0m, in \u001b[0;36mplot\u001b[0;34m(scalex, scaley, data, *args, **kwargs)\u001b[0m\n\u001b[1;32m   3819\u001b[0m \u001b[38;5;129m@_copy_docstring_and_deprecators\u001b[39m(Axes\u001b[38;5;241m.\u001b[39mplot)\n\u001b[1;32m   3820\u001b[0m \u001b[38;5;28;01mdef\u001b[39;00m \u001b[38;5;21mplot\u001b[39m(\n\u001b[1;32m   3821\u001b[0m     \u001b[38;5;241m*\u001b[39margs: \u001b[38;5;28mfloat\u001b[39m \u001b[38;5;241m|\u001b[39m ArrayLike \u001b[38;5;241m|\u001b[39m \u001b[38;5;28mstr\u001b[39m,\n\u001b[0;32m   (...)\u001b[0m\n\u001b[1;32m   3825\u001b[0m     \u001b[38;5;241m*\u001b[39m\u001b[38;5;241m*\u001b[39mkwargs,\n\u001b[1;32m   3826\u001b[0m ) \u001b[38;5;241m-\u001b[39m\u001b[38;5;241m>\u001b[39m \u001b[38;5;28mlist\u001b[39m[Line2D]:\n\u001b[0;32m-> 3827\u001b[0m     \u001b[38;5;28;01mreturn\u001b[39;00m \u001b[43mgca\u001b[49m\u001b[43m(\u001b[49m\u001b[43m)\u001b[49m\u001b[38;5;241;43m.\u001b[39;49m\u001b[43mplot\u001b[49m\u001b[43m(\u001b[49m\n\u001b[1;32m   3828\u001b[0m \u001b[43m        \u001b[49m\u001b[38;5;241;43m*\u001b[39;49m\u001b[43margs\u001b[49m\u001b[43m,\u001b[49m\n\u001b[1;32m   3829\u001b[0m \u001b[43m        \u001b[49m\u001b[43mscalex\u001b[49m\u001b[38;5;241;43m=\u001b[39;49m\u001b[43mscalex\u001b[49m\u001b[43m,\u001b[49m\n\u001b[1;32m   3830\u001b[0m \u001b[43m        \u001b[49m\u001b[43mscaley\u001b[49m\u001b[38;5;241;43m=\u001b[39;49m\u001b[43mscaley\u001b[49m\u001b[43m,\u001b[49m\n\u001b[1;32m   3831\u001b[0m \u001b[43m        \u001b[49m\u001b[38;5;241;43m*\u001b[39;49m\u001b[38;5;241;43m*\u001b[39;49m\u001b[43m(\u001b[49m\u001b[43m{\u001b[49m\u001b[38;5;124;43m\"\u001b[39;49m\u001b[38;5;124;43mdata\u001b[39;49m\u001b[38;5;124;43m\"\u001b[39;49m\u001b[43m:\u001b[49m\u001b[43m \u001b[49m\u001b[43mdata\u001b[49m\u001b[43m}\u001b[49m\u001b[43m \u001b[49m\u001b[38;5;28;43;01mif\u001b[39;49;00m\u001b[43m \u001b[49m\u001b[43mdata\u001b[49m\u001b[43m \u001b[49m\u001b[38;5;129;43;01mis\u001b[39;49;00m\u001b[43m \u001b[49m\u001b[38;5;129;43;01mnot\u001b[39;49;00m\u001b[43m \u001b[49m\u001b[38;5;28;43;01mNone\u001b[39;49;00m\u001b[43m \u001b[49m\u001b[38;5;28;43;01melse\u001b[39;49;00m\u001b[43m \u001b[49m\u001b[43m{\u001b[49m\u001b[43m}\u001b[49m\u001b[43m)\u001b[49m\u001b[43m,\u001b[49m\n\u001b[1;32m   3832\u001b[0m \u001b[43m        \u001b[49m\u001b[38;5;241;43m*\u001b[39;49m\u001b[38;5;241;43m*\u001b[39;49m\u001b[43mkwargs\u001b[49m\u001b[43m,\u001b[49m\n\u001b[1;32m   3833\u001b[0m \u001b[43m    \u001b[49m\u001b[43m)\u001b[49m\n",
      "File \u001b[0;32m/Library/Frameworks/Python.framework/Versions/3.12/lib/python3.12/site-packages/matplotlib/axes/_axes.py:1777\u001b[0m, in \u001b[0;36mAxes.plot\u001b[0;34m(self, scalex, scaley, data, *args, **kwargs)\u001b[0m\n\u001b[1;32m   1534\u001b[0m \u001b[38;5;250m\u001b[39m\u001b[38;5;124;03m\"\"\"\u001b[39;00m\n\u001b[1;32m   1535\u001b[0m \u001b[38;5;124;03mPlot y versus x as lines and/or markers.\u001b[39;00m\n\u001b[1;32m   1536\u001b[0m \n\u001b[0;32m   (...)\u001b[0m\n\u001b[1;32m   1774\u001b[0m \u001b[38;5;124;03m(``'green'``) or hex strings (``'#008000'``).\u001b[39;00m\n\u001b[1;32m   1775\u001b[0m \u001b[38;5;124;03m\"\"\"\u001b[39;00m\n\u001b[1;32m   1776\u001b[0m kwargs \u001b[38;5;241m=\u001b[39m cbook\u001b[38;5;241m.\u001b[39mnormalize_kwargs(kwargs, mlines\u001b[38;5;241m.\u001b[39mLine2D)\n\u001b[0;32m-> 1777\u001b[0m lines \u001b[38;5;241m=\u001b[39m [\u001b[38;5;241m*\u001b[39m\u001b[38;5;28mself\u001b[39m\u001b[38;5;241m.\u001b[39m_get_lines(\u001b[38;5;28mself\u001b[39m, \u001b[38;5;241m*\u001b[39margs, data\u001b[38;5;241m=\u001b[39mdata, \u001b[38;5;241m*\u001b[39m\u001b[38;5;241m*\u001b[39mkwargs)]\n\u001b[1;32m   1778\u001b[0m \u001b[38;5;28;01mfor\u001b[39;00m line \u001b[38;5;129;01min\u001b[39;00m lines:\n\u001b[1;32m   1779\u001b[0m     \u001b[38;5;28mself\u001b[39m\u001b[38;5;241m.\u001b[39madd_line(line)\n",
      "File \u001b[0;32m/Library/Frameworks/Python.framework/Versions/3.12/lib/python3.12/site-packages/matplotlib/axes/_base.py:297\u001b[0m, in \u001b[0;36m_process_plot_var_args.__call__\u001b[0;34m(self, axes, data, return_kwargs, *args, **kwargs)\u001b[0m\n\u001b[1;32m    295\u001b[0m     this \u001b[38;5;241m+\u001b[39m\u001b[38;5;241m=\u001b[39m args[\u001b[38;5;241m0\u001b[39m],\n\u001b[1;32m    296\u001b[0m     args \u001b[38;5;241m=\u001b[39m args[\u001b[38;5;241m1\u001b[39m:]\n\u001b[0;32m--> 297\u001b[0m \u001b[38;5;28;01myield from\u001b[39;00m \u001b[38;5;28;43mself\u001b[39;49m\u001b[38;5;241;43m.\u001b[39;49m\u001b[43m_plot_args\u001b[49m\u001b[43m(\u001b[49m\n\u001b[1;32m    298\u001b[0m \u001b[43m    \u001b[49m\u001b[43maxes\u001b[49m\u001b[43m,\u001b[49m\u001b[43m \u001b[49m\u001b[43mthis\u001b[49m\u001b[43m,\u001b[49m\u001b[43m \u001b[49m\u001b[43mkwargs\u001b[49m\u001b[43m,\u001b[49m\u001b[43m \u001b[49m\u001b[43mambiguous_fmt_datakey\u001b[49m\u001b[38;5;241;43m=\u001b[39;49m\u001b[43mambiguous_fmt_datakey\u001b[49m\u001b[43m,\u001b[49m\n\u001b[1;32m    299\u001b[0m \u001b[43m    \u001b[49m\u001b[43mreturn_kwargs\u001b[49m\u001b[38;5;241;43m=\u001b[39;49m\u001b[43mreturn_kwargs\u001b[49m\n\u001b[1;32m    300\u001b[0m \u001b[43m\u001b[49m\u001b[43m)\u001b[49m\n",
      "File \u001b[0;32m/Library/Frameworks/Python.framework/Versions/3.12/lib/python3.12/site-packages/matplotlib/axes/_base.py:483\u001b[0m, in \u001b[0;36m_process_plot_var_args._plot_args\u001b[0;34m(self, axes, tup, kwargs, return_kwargs, ambiguous_fmt_datakey)\u001b[0m\n\u001b[1;32m    480\u001b[0m         kw[prop_name] \u001b[38;5;241m=\u001b[39m val\n\u001b[1;32m    482\u001b[0m \u001b[38;5;28;01mif\u001b[39;00m \u001b[38;5;28mlen\u001b[39m(xy) \u001b[38;5;241m==\u001b[39m \u001b[38;5;241m2\u001b[39m:\n\u001b[0;32m--> 483\u001b[0m     x \u001b[38;5;241m=\u001b[39m \u001b[43m_check_1d\u001b[49m\u001b[43m(\u001b[49m\u001b[43mxy\u001b[49m\u001b[43m[\u001b[49m\u001b[38;5;241;43m0\u001b[39;49m\u001b[43m]\u001b[49m\u001b[43m)\u001b[49m\n\u001b[1;32m    484\u001b[0m     y \u001b[38;5;241m=\u001b[39m _check_1d(xy[\u001b[38;5;241m1\u001b[39m])\n\u001b[1;32m    485\u001b[0m \u001b[38;5;28;01melse\u001b[39;00m:\n",
      "File \u001b[0;32m/Library/Frameworks/Python.framework/Versions/3.12/lib/python3.12/site-packages/matplotlib/cbook.py:1368\u001b[0m, in \u001b[0;36m_check_1d\u001b[0;34m(x)\u001b[0m\n\u001b[1;32m   1362\u001b[0m \u001b[38;5;66;03m# plot requires `shape` and `ndim`.  If passed an\u001b[39;00m\n\u001b[1;32m   1363\u001b[0m \u001b[38;5;66;03m# object that doesn't provide them, then force to numpy array.\u001b[39;00m\n\u001b[1;32m   1364\u001b[0m \u001b[38;5;66;03m# Note this will strip unit information.\u001b[39;00m\n\u001b[1;32m   1365\u001b[0m \u001b[38;5;28;01mif\u001b[39;00m (\u001b[38;5;129;01mnot\u001b[39;00m \u001b[38;5;28mhasattr\u001b[39m(x, \u001b[38;5;124m'\u001b[39m\u001b[38;5;124mshape\u001b[39m\u001b[38;5;124m'\u001b[39m) \u001b[38;5;129;01mor\u001b[39;00m\n\u001b[1;32m   1366\u001b[0m         \u001b[38;5;129;01mnot\u001b[39;00m \u001b[38;5;28mhasattr\u001b[39m(x, \u001b[38;5;124m'\u001b[39m\u001b[38;5;124mndim\u001b[39m\u001b[38;5;124m'\u001b[39m) \u001b[38;5;129;01mor\u001b[39;00m\n\u001b[1;32m   1367\u001b[0m         \u001b[38;5;28mlen\u001b[39m(x\u001b[38;5;241m.\u001b[39mshape) \u001b[38;5;241m<\u001b[39m \u001b[38;5;241m1\u001b[39m):\n\u001b[0;32m-> 1368\u001b[0m     \u001b[38;5;28;01mreturn\u001b[39;00m \u001b[43mnp\u001b[49m\u001b[38;5;241;43m.\u001b[39;49m\u001b[43matleast_1d\u001b[49m\u001b[43m(\u001b[49m\u001b[43mx\u001b[49m\u001b[43m)\u001b[49m\n\u001b[1;32m   1369\u001b[0m \u001b[38;5;28;01melse\u001b[39;00m:\n\u001b[1;32m   1370\u001b[0m     \u001b[38;5;28;01mreturn\u001b[39;00m x\n",
      "File \u001b[0;32m/Library/Frameworks/Python.framework/Versions/3.12/lib/python3.12/site-packages/numpy/_core/shape_base.py:63\u001b[0m, in \u001b[0;36matleast_1d\u001b[0;34m(*arys)\u001b[0m\n\u001b[1;32m     23\u001b[0m \u001b[38;5;250m\u001b[39m\u001b[38;5;124;03m\"\"\"\u001b[39;00m\n\u001b[1;32m     24\u001b[0m \u001b[38;5;124;03mConvert inputs to arrays with at least one dimension.\u001b[39;00m\n\u001b[1;32m     25\u001b[0m \n\u001b[0;32m   (...)\u001b[0m\n\u001b[1;32m     60\u001b[0m \n\u001b[1;32m     61\u001b[0m \u001b[38;5;124;03m\"\"\"\u001b[39;00m\n\u001b[1;32m     62\u001b[0m \u001b[38;5;28;01mif\u001b[39;00m \u001b[38;5;28mlen\u001b[39m(arys) \u001b[38;5;241m==\u001b[39m \u001b[38;5;241m1\u001b[39m:\n\u001b[0;32m---> 63\u001b[0m     result \u001b[38;5;241m=\u001b[39m \u001b[43masanyarray\u001b[49m\u001b[43m(\u001b[49m\u001b[43marys\u001b[49m\u001b[43m[\u001b[49m\u001b[38;5;241;43m0\u001b[39;49m\u001b[43m]\u001b[49m\u001b[43m)\u001b[49m\n\u001b[1;32m     64\u001b[0m     \u001b[38;5;28;01mif\u001b[39;00m result\u001b[38;5;241m.\u001b[39mndim \u001b[38;5;241m==\u001b[39m \u001b[38;5;241m0\u001b[39m:\n\u001b[1;32m     65\u001b[0m         result \u001b[38;5;241m=\u001b[39m result\u001b[38;5;241m.\u001b[39mreshape(\u001b[38;5;241m1\u001b[39m)\n",
      "\u001b[0;31mValueError\u001b[0m: setting an array element with a sequence. The requested array has an inhomogeneous shape after 1 dimensions. The detected shape was (4,) + inhomogeneous part."
     ]
    },
    {
     "data": {
      "image/png": "[encoded data removed]",
      "text/plain": [
       "<Figure size 700x700 with 1 Axes>"
      ]
     },
     "metadata": {},
     "output_type": "display_data"
    }
   ],
   "source": [
    "import matplotlib.pyplot as plt\n",
    "\n",
    "def plot_transformation(T, e1, e2):\n",
    "    color_original = \"#129cab\"\n",
    "    color_transformed = \"#cc8933\"\n",
    "    \n",
    "    _, ax = plt.subplots(figsize=(7, 7))\n",
    "    ax.tick_params(axis='x', labelsize=14)\n",
    "    ax.tick_params(axis='y', labelsize=14)\n",
    "    ax.set_xticks(np.arange(-5, 5))\n",
    "    ax.set_yticks(np.arange(-5, 5))\n",
    "    \n",
    "    plt.axis([-5, 5, -5, 5])\n",
    "    plt.quiver([0, 0],[0, 0], [e1[0], e2[0]], [e1[1], e2[1]], color=color_original, angles='xy', scale_units='xy', scale=1)\n",
    "    plt.plot([0, e2[0], e1[0], e1[0]], \n",
    "             [0, e2[1], e2[1], e1[1]], \n",
    "             color=color_original)\n",
    "    e1_sgn = 0.4 * np.array([[1] if i==0 else [i] for i in np.sign(e1)])\n",
    "    ax.text(e1[0]-0.2+e1_sgn[0], e1[1]-0.2+e1_sgn[1], f'$e_1$', fontsize=14, color=color_original)\n",
    "    e2_sgn = 0.4 * np.array([[1] if i==0 else [i] for i in np.sign(e2)])\n",
    "    ax.text(e2[0]-0.2+e2_sgn[0], e2[1]-0.2+e2_sgn[1], f'$e_2$', fontsize=14, color=color_original)\n",
    "    \n",
    "    e1_transformed = T(e1)\n",
    "    e2_transformed = T(e2)\n",
    "    \n",
    "    plt.quiver([0, 0],[0, 0], [e1_transformed[0], e2_transformed[0]], [e1_transformed[1], e2_transformed[1]], \n",
    "               color=color_transformed, angles='xy', scale_units='xy', scale=1)\n",
    "    plt.plot([0,e2_transformed[0], e1_transformed[0]+e2_transformed[0], e1_transformed[0]], \n",
    "             [0,e2_transformed[1], e1_transformed[1]+e2_transformed[1], e1_transformed[1]], \n",
    "             color=color_transformed)\n",
    "    e1_transformed_sgn = 0.4 * np.array([[1] if i==0 else [i] for i in np.sign(e1_transformed)])\n",
    "    ax.text(e1_transformed[0]-0.2+e1_transformed_sgn[0], e1_transformed[1]-e1_transformed_sgn[1], \n",
    "            f'$T(e_1)$', fontsize=14, color=color_transformed)\n",
    "    e2_transformed_sgn = 0.4 * np.array([[1] if i==0 else [i] for i in np.sign(e2_transformed)])\n",
    "    ax.text(e2_transformed[0]-0.2+e2_transformed_sgn[0], e2_transformed[1]-e2_transformed_sgn[1], \n",
    "            f'$T(e_2)$', fontsize=14, color=color_transformed)\n",
    "    \n",
    "    plt.gca().set_aspect(\"equal\")\n",
    "    plt.show()\n",
    "    \n",
    "plot_transformation(T_hscaling, e1, e2)\n"
   ]
  },
  {
   "cell_type": "code",
   "execution_count": 111,
   "id": "fcd9e4fb",
   "metadata": {},
   "outputs": [
    {
     "data": {
      "image/png": "[encoded data removed]",
      "text/plain": [
       "<Figure size 700x700 with 1 Axes>"
      ]
     },
     "metadata": {},
     "output_type": "display_data"
    }
   ],
   "source": [
    "import numpy as np\n",
    "import matplotlib.pyplot as plt\n",
    "\n",
    "def plot_transformation(T, e1, e2):\n",
    "    color_original = \"#129cab\"\n",
    "    color_transformed = \"#cc8933\"\n",
    "    \n",
    "    # Flatten column vectors to 1D arrays for plotting\n",
    "    e1 = e1.flatten()\n",
    "    e2 = e2.flatten()\n",
    "    \n",
    "    _, ax = plt.subplots(figsize=(7, 7))\n",
    "    ax.tick_params(axis='x', labelsize=14)\n",
    "    ax.tick_params(axis='y', labelsize=14)\n",
    "    ax.set_xticks(np.arange(-5, 6))\n",
    "    ax.set_yticks(np.arange(-5, 6))\n",
    "    \n",
    "    plt.axis([-5, 5, -5, 5])\n",
    "\n",
    "    # Original basis vectors\n",
    "    plt.quiver([0, 0], [0, 0], [e1[0], e2[0]], [e1[1], e2[1]],\n",
    "               color=color_original, angles='xy', scale_units='xy', scale=1)\n",
    "    plt.plot([0, e2[0], e1[0] + e2[0], e1[0]], \n",
    "             [0, e2[1], e1[1] + e2[1], e1[1]], \n",
    "             color=color_original)\n",
    "\n",
    "    e1_sgn = 0.4 * np.sign(e1)\n",
    "    e2_sgn = 0.4 * np.sign(e2)\n",
    "    e1_sgn[e1_sgn == 0] = 0.4\n",
    "    e2_sgn[e2_sgn == 0] = 0.4\n",
    "\n",
    "    ax.text(e1[0] - 0.2 + e1_sgn[0], e1[1] - 0.2 + e1_sgn[1], '$e_1$', fontsize=14, color=color_original)\n",
    "    ax.text(e2[0] - 0.2 + e2_sgn[0], e2[1] - 0.2 + e2_sgn[1], '$e_2$', fontsize=14, color=color_original)\n",
    "\n",
    "    # Apply transformation and flatten\n",
    "    e1_transformed = T(e1).flatten()\n",
    "    e2_transformed = T(e2).flatten()\n",
    "\n",
    "    # Transformed vectors\n",
    "    plt.quiver([0, 0], [0, 0], [e1_transformed[0], e2_transformed[0]],\n",
    "               [e1_transformed[1], e2_transformed[1]],\n",
    "               color=color_transformed, angles='xy', scale_units='xy', scale=1)\n",
    "    plt.plot([0, e2_transformed[0], e1_transformed[0] + e2_transformed[0], e1_transformed[0]], \n",
    "             [0, e2_transformed[1], e1_transformed[1] + e2_transformed[1], e1_transformed[1]], \n",
    "             color=color_transformed)\n",
    "\n",
    "    e1_trans_sgn = 0.4 * np.sign(e1_transformed)\n",
    "    e2_trans_sgn = 0.4 * np.sign(e2_transformed)\n",
    "    e1_trans_sgn[e1_trans_sgn == 0] = 0.4\n",
    "    e2_trans_sgn[e2_trans_sgn == 0] = 0.4\n",
    "\n",
    "    ax.text(e1_transformed[0] - 0.2 + e1_trans_sgn[0],\n",
    "            e1_transformed[1] - 0.2 + e1_trans_sgn[1],\n",
    "            '$T(e_1)$', fontsize=14, color=color_transformed)\n",
    "\n",
    "    ax.text(e2_transformed[0] - 0.2 + e2_trans_sgn[0],\n",
    "            e2_transformed[1] - 0.2 + e2_trans_sgn[1],\n",
    "            '$T(e_2)$', fontsize=14, color=color_transformed)\n",
    "\n",
    "    plt.grid()\n",
    "    plt.gca().set_aspect(\"equal\")\n",
    "    plt.show()\n",
    "plot_transformation(T_hscaling, e1, e2)\n"
   ]
  },
  {
   "cell_type": "code",
   "execution_count": 112,
   "id": "ba2e7c2b",
   "metadata": {},
   "outputs": [
    {
     "name": "stdout",
     "output_type": "stream",
     "text": [
      "Original vectors:\n",
      " e1= \n",
      " [[1]\n",
      " [0]] \n",
      " e2=\n",
      " [[0]\n",
      " [1]] \n",
      "\n",
      " Result of the transformation (matrix form):\n",
      " [[-1  0]\n",
      " [ 0  1]]\n"
     ]
    }
   ],
   "source": [
    "def T_reflection_yaxis(v):\n",
    "    A = np.array([[-1,0], [0,1]])\n",
    "    w = A @ v\n",
    "    \n",
    "    return w\n",
    "    \n",
    "e1 = np.array([[1], [0]])\n",
    "e2 = np.array([[0], [1]])\n",
    "\n",
    "transformation_result_reflection_yaxis = transform_vectors(T_reflection_yaxis, e1, e2)\n",
    "\n",
    "print(\"Original vectors:\\n e1= \\n\", e1,\"\\n e2=\\n\", e2, \n",
    "      \"\\n\\n Result of the transformation (matrix form):\\n\", transformation_result_reflection_yaxis)\n"
   ]
  },
  {
   "cell_type": "code",
   "execution_count": 113,
   "id": "422fdd02",
   "metadata": {},
   "outputs": [
    {
     "data": {
      "image/png": "[encoded data removed]",
      "text/plain": [
       "<Figure size 700x700 with 1 Axes>"
      ]
     },
     "metadata": {},
     "output_type": "display_data"
    }
   ],
   "source": [
    "plot_transformation(T_reflection_yaxis, e1, e2)\n"
   ]
  },
  {
   "cell_type": "code",
   "execution_count": null,
   "id": "150b292b",
   "metadata": {},
   "outputs": [],
   "source": []
  },
  {
   "cell_type": "code",
   "execution_count": 2,
   "id": "e2a2f2ef",
   "metadata": {},
   "outputs": [
    {
     "name": "stdout",
     "output_type": "stream",
     "text": [
      "Requirement already satisfied: opencv-python in /Library/Frameworks/Python.framework/Versions/3.12/lib/python3.12/site-packages (4.11.0.86)\n",
      "Requirement already satisfied: numpy>=1.21.2 in /Library/Frameworks/Python.framework/Versions/3.12/lib/python3.12/site-packages (from opencv-python) (2.2.3)\n",
      "Note: you may need to restart the kernel to use updated packages.\n"
     ]
    }
   ],
   "source": [
    "pip install opencv-python"
   ]
  },
  {
   "cell_type": "code",
   "execution_count": 3,
   "id": "98b9a031",
   "metadata": {},
   "outputs": [],
   "source": [
    "import cv2\n",
    "import matplotlib.pyplot as plt"
   ]
  },
  {
   "cell_type": "code",
   "execution_count": 4,
   "id": "ea772fe6",
   "metadata": {},
   "outputs": [
    {
     "name": "stderr",
     "output_type": "stream",
     "text": [
      "[ WARN:0@23.970] global loadsave.cpp:268 findDecoder imread_('images/leaf_original.png'): can't open/read file: check file path/integrity\n"
     ]
    },
    {
     "ename": "TypeError",
     "evalue": "Image data of dtype object cannot be converted to float",
     "output_type": "error",
     "traceback": [
      "\u001b[0;31m---------------------------------------------------------------------------\u001b[0m",
      "\u001b[0;31mTypeError\u001b[0m                                 Traceback (most recent call last)",
      "Cell \u001b[0;32mIn[4], line 2\u001b[0m\n\u001b[1;32m      1\u001b[0m img \u001b[38;5;241m=\u001b[39m cv2\u001b[38;5;241m.\u001b[39mimread(\u001b[38;5;124m'\u001b[39m\u001b[38;5;124mimages/leaf_original.png\u001b[39m\u001b[38;5;124m'\u001b[39m, \u001b[38;5;241m0\u001b[39m)\n\u001b[0;32m----> 2\u001b[0m \u001b[43mplt\u001b[49m\u001b[38;5;241;43m.\u001b[39;49m\u001b[43mimshow\u001b[49m\u001b[43m(\u001b[49m\u001b[43mimg\u001b[49m\u001b[43m)\u001b[49m\n",
      "File \u001b[0;32m/Library/Frameworks/Python.framework/Versions/3.12/lib/python3.12/site-packages/matplotlib/pyplot.py:3590\u001b[0m, in \u001b[0;36mimshow\u001b[0;34m(X, cmap, norm, aspect, interpolation, alpha, vmin, vmax, colorizer, origin, extent, interpolation_stage, filternorm, filterrad, resample, url, data, **kwargs)\u001b[0m\n\u001b[1;32m   3568\u001b[0m \u001b[38;5;129m@_copy_docstring_and_deprecators\u001b[39m(Axes\u001b[38;5;241m.\u001b[39mimshow)\n\u001b[1;32m   3569\u001b[0m \u001b[38;5;28;01mdef\u001b[39;00m \u001b[38;5;21mimshow\u001b[39m(\n\u001b[1;32m   3570\u001b[0m     X: ArrayLike \u001b[38;5;241m|\u001b[39m PIL\u001b[38;5;241m.\u001b[39mImage\u001b[38;5;241m.\u001b[39mImage,\n\u001b[0;32m   (...)\u001b[0m\n\u001b[1;32m   3588\u001b[0m     \u001b[38;5;241m*\u001b[39m\u001b[38;5;241m*\u001b[39mkwargs,\n\u001b[1;32m   3589\u001b[0m ) \u001b[38;5;241m-\u001b[39m\u001b[38;5;241m>\u001b[39m AxesImage:\n\u001b[0;32m-> 3590\u001b[0m     __ret \u001b[38;5;241m=\u001b[39m \u001b[43mgca\u001b[49m\u001b[43m(\u001b[49m\u001b[43m)\u001b[49m\u001b[38;5;241;43m.\u001b[39;49m\u001b[43mimshow\u001b[49m\u001b[43m(\u001b[49m\n\u001b[1;32m   3591\u001b[0m \u001b[43m        \u001b[49m\u001b[43mX\u001b[49m\u001b[43m,\u001b[49m\n\u001b[1;32m   3592\u001b[0m \u001b[43m        \u001b[49m\u001b[43mcmap\u001b[49m\u001b[38;5;241;43m=\u001b[39;49m\u001b[43mcmap\u001b[49m\u001b[43m,\u001b[49m\n\u001b[1;32m   3593\u001b[0m \u001b[43m        \u001b[49m\u001b[43mnorm\u001b[49m\u001b[38;5;241;43m=\u001b[39;49m\u001b[43mnorm\u001b[49m\u001b[43m,\u001b[49m\n\u001b[1;32m   3594\u001b[0m \u001b[43m        \u001b[49m\u001b[43maspect\u001b[49m\u001b[38;5;241;43m=\u001b[39;49m\u001b[43maspect\u001b[49m\u001b[43m,\u001b[49m\n\u001b[1;32m   3595\u001b[0m \u001b[43m        \u001b[49m\u001b[43minterpolation\u001b[49m\u001b[38;5;241;43m=\u001b[39;49m\u001b[43minterpolation\u001b[49m\u001b[43m,\u001b[49m\n\u001b[1;32m   3596\u001b[0m \u001b[43m        \u001b[49m\u001b[43malpha\u001b[49m\u001b[38;5;241;43m=\u001b[39;49m\u001b[43malpha\u001b[49m\u001b[43m,\u001b[49m\n\u001b[1;32m   3597\u001b[0m \u001b[43m        \u001b[49m\u001b[43mvmin\u001b[49m\u001b[38;5;241;43m=\u001b[39;49m\u001b[43mvmin\u001b[49m\u001b[43m,\u001b[49m\n\u001b[1;32m   3598\u001b[0m \u001b[43m        \u001b[49m\u001b[43mvmax\u001b[49m\u001b[38;5;241;43m=\u001b[39;49m\u001b[43mvmax\u001b[49m\u001b[43m,\u001b[49m\n\u001b[1;32m   3599\u001b[0m \u001b[43m        \u001b[49m\u001b[43mcolorizer\u001b[49m\u001b[38;5;241;43m=\u001b[39;49m\u001b[43mcolorizer\u001b[49m\u001b[43m,\u001b[49m\n\u001b[1;32m   3600\u001b[0m \u001b[43m        \u001b[49m\u001b[43morigin\u001b[49m\u001b[38;5;241;43m=\u001b[39;49m\u001b[43morigin\u001b[49m\u001b[43m,\u001b[49m\n\u001b[1;32m   3601\u001b[0m \u001b[43m        \u001b[49m\u001b[43mextent\u001b[49m\u001b[38;5;241;43m=\u001b[39;49m\u001b[43mextent\u001b[49m\u001b[43m,\u001b[49m\n\u001b[1;32m   3602\u001b[0m \u001b[43m        \u001b[49m\u001b[43minterpolation_stage\u001b[49m\u001b[38;5;241;43m=\u001b[39;49m\u001b[43minterpolation_stage\u001b[49m\u001b[43m,\u001b[49m\n\u001b[1;32m   3603\u001b[0m \u001b[43m        \u001b[49m\u001b[43mfilternorm\u001b[49m\u001b[38;5;241;43m=\u001b[39;49m\u001b[43mfilternorm\u001b[49m\u001b[43m,\u001b[49m\n\u001b[1;32m   3604\u001b[0m \u001b[43m        \u001b[49m\u001b[43mfilterrad\u001b[49m\u001b[38;5;241;43m=\u001b[39;49m\u001b[43mfilterrad\u001b[49m\u001b[43m,\u001b[49m\n\u001b[1;32m   3605\u001b[0m \u001b[43m        \u001b[49m\u001b[43mresample\u001b[49m\u001b[38;5;241;43m=\u001b[39;49m\u001b[43mresample\u001b[49m\u001b[43m,\u001b[49m\n\u001b[1;32m   3606\u001b[0m \u001b[43m        \u001b[49m\u001b[43murl\u001b[49m\u001b[38;5;241;43m=\u001b[39;49m\u001b[43murl\u001b[49m\u001b[43m,\u001b[49m\n\u001b[1;32m   3607\u001b[0m \u001b[43m        \u001b[49m\u001b[38;5;241;43m*\u001b[39;49m\u001b[38;5;241;43m*\u001b[39;49m\u001b[43m(\u001b[49m\u001b[43m{\u001b[49m\u001b[38;5;124;43m\"\u001b[39;49m\u001b[38;5;124;43mdata\u001b[39;49m\u001b[38;5;124;43m\"\u001b[39;49m\u001b[43m:\u001b[49m\u001b[43m \u001b[49m\u001b[43mdata\u001b[49m\u001b[43m}\u001b[49m\u001b[43m \u001b[49m\u001b[38;5;28;43;01mif\u001b[39;49;00m\u001b[43m \u001b[49m\u001b[43mdata\u001b[49m\u001b[43m \u001b[49m\u001b[38;5;129;43;01mis\u001b[39;49;00m\u001b[43m \u001b[49m\u001b[38;5;129;43;01mnot\u001b[39;49;00m\u001b[43m \u001b[49m\u001b[38;5;28;43;01mNone\u001b[39;49;00m\u001b[43m \u001b[49m\u001b[38;5;28;43;01melse\u001b[39;49;00m\u001b[43m \u001b[49m\u001b[43m{\u001b[49m\u001b[43m}\u001b[49m\u001b[43m)\u001b[49m\u001b[43m,\u001b[49m\n\u001b[1;32m   3608\u001b[0m \u001b[43m        \u001b[49m\u001b[38;5;241;43m*\u001b[39;49m\u001b[38;5;241;43m*\u001b[39;49m\u001b[43mkwargs\u001b[49m\u001b[43m,\u001b[49m\n\u001b[1;32m   3609\u001b[0m \u001b[43m    \u001b[49m\u001b[43m)\u001b[49m\n\u001b[1;32m   3610\u001b[0m     sci(__ret)\n\u001b[1;32m   3611\u001b[0m     \u001b[38;5;28;01mreturn\u001b[39;00m __ret\n",
      "File \u001b[0;32m/Library/Frameworks/Python.framework/Versions/3.12/lib/python3.12/site-packages/matplotlib/__init__.py:1521\u001b[0m, in \u001b[0;36m_preprocess_data.<locals>.inner\u001b[0;34m(ax, data, *args, **kwargs)\u001b[0m\n\u001b[1;32m   1518\u001b[0m \u001b[38;5;129m@functools\u001b[39m\u001b[38;5;241m.\u001b[39mwraps(func)\n\u001b[1;32m   1519\u001b[0m \u001b[38;5;28;01mdef\u001b[39;00m \u001b[38;5;21minner\u001b[39m(ax, \u001b[38;5;241m*\u001b[39margs, data\u001b[38;5;241m=\u001b[39m\u001b[38;5;28;01mNone\u001b[39;00m, \u001b[38;5;241m*\u001b[39m\u001b[38;5;241m*\u001b[39mkwargs):\n\u001b[1;32m   1520\u001b[0m     \u001b[38;5;28;01mif\u001b[39;00m data \u001b[38;5;129;01mis\u001b[39;00m \u001b[38;5;28;01mNone\u001b[39;00m:\n\u001b[0;32m-> 1521\u001b[0m         \u001b[38;5;28;01mreturn\u001b[39;00m \u001b[43mfunc\u001b[49m\u001b[43m(\u001b[49m\n\u001b[1;32m   1522\u001b[0m \u001b[43m            \u001b[49m\u001b[43max\u001b[49m\u001b[43m,\u001b[49m\n\u001b[1;32m   1523\u001b[0m \u001b[43m            \u001b[49m\u001b[38;5;241;43m*\u001b[39;49m\u001b[38;5;28;43mmap\u001b[39;49m\u001b[43m(\u001b[49m\u001b[43mcbook\u001b[49m\u001b[38;5;241;43m.\u001b[39;49m\u001b[43msanitize_sequence\u001b[49m\u001b[43m,\u001b[49m\u001b[43m \u001b[49m\u001b[43margs\u001b[49m\u001b[43m)\u001b[49m\u001b[43m,\u001b[49m\n\u001b[1;32m   1524\u001b[0m \u001b[43m            \u001b[49m\u001b[38;5;241;43m*\u001b[39;49m\u001b[38;5;241;43m*\u001b[39;49m\u001b[43m{\u001b[49m\u001b[43mk\u001b[49m\u001b[43m:\u001b[49m\u001b[43m \u001b[49m\u001b[43mcbook\u001b[49m\u001b[38;5;241;43m.\u001b[39;49m\u001b[43msanitize_sequence\u001b[49m\u001b[43m(\u001b[49m\u001b[43mv\u001b[49m\u001b[43m)\u001b[49m\u001b[43m \u001b[49m\u001b[38;5;28;43;01mfor\u001b[39;49;00m\u001b[43m \u001b[49m\u001b[43mk\u001b[49m\u001b[43m,\u001b[49m\u001b[43m \u001b[49m\u001b[43mv\u001b[49m\u001b[43m \u001b[49m\u001b[38;5;129;43;01min\u001b[39;49;00m\u001b[43m \u001b[49m\u001b[43mkwargs\u001b[49m\u001b[38;5;241;43m.\u001b[39;49m\u001b[43mitems\u001b[49m\u001b[43m(\u001b[49m\u001b[43m)\u001b[49m\u001b[43m}\u001b[49m\u001b[43m)\u001b[49m\n\u001b[1;32m   1526\u001b[0m     bound \u001b[38;5;241m=\u001b[39m new_sig\u001b[38;5;241m.\u001b[39mbind(ax, \u001b[38;5;241m*\u001b[39margs, \u001b[38;5;241m*\u001b[39m\u001b[38;5;241m*\u001b[39mkwargs)\n\u001b[1;32m   1527\u001b[0m     auto_label \u001b[38;5;241m=\u001b[39m (bound\u001b[38;5;241m.\u001b[39marguments\u001b[38;5;241m.\u001b[39mget(label_namer)\n\u001b[1;32m   1528\u001b[0m                   \u001b[38;5;129;01mor\u001b[39;00m bound\u001b[38;5;241m.\u001b[39mkwargs\u001b[38;5;241m.\u001b[39mget(label_namer))\n",
      "File \u001b[0;32m/Library/Frameworks/Python.framework/Versions/3.12/lib/python3.12/site-packages/matplotlib/axes/_axes.py:5976\u001b[0m, in \u001b[0;36mAxes.imshow\u001b[0;34m(self, X, cmap, norm, aspect, interpolation, alpha, vmin, vmax, colorizer, origin, extent, interpolation_stage, filternorm, filterrad, resample, url, **kwargs)\u001b[0m\n\u001b[1;32m   5973\u001b[0m \u001b[38;5;28;01mif\u001b[39;00m aspect \u001b[38;5;129;01mis\u001b[39;00m \u001b[38;5;129;01mnot\u001b[39;00m \u001b[38;5;28;01mNone\u001b[39;00m:\n\u001b[1;32m   5974\u001b[0m     \u001b[38;5;28mself\u001b[39m\u001b[38;5;241m.\u001b[39mset_aspect(aspect)\n\u001b[0;32m-> 5976\u001b[0m \u001b[43mim\u001b[49m\u001b[38;5;241;43m.\u001b[39;49m\u001b[43mset_data\u001b[49m\u001b[43m(\u001b[49m\u001b[43mX\u001b[49m\u001b[43m)\u001b[49m\n\u001b[1;32m   5977\u001b[0m im\u001b[38;5;241m.\u001b[39mset_alpha(alpha)\n\u001b[1;32m   5978\u001b[0m \u001b[38;5;28;01mif\u001b[39;00m im\u001b[38;5;241m.\u001b[39mget_clip_path() \u001b[38;5;129;01mis\u001b[39;00m \u001b[38;5;28;01mNone\u001b[39;00m:\n\u001b[1;32m   5979\u001b[0m     \u001b[38;5;66;03m# image does not already have clipping set, clip to Axes patch\u001b[39;00m\n",
      "File \u001b[0;32m/Library/Frameworks/Python.framework/Versions/3.12/lib/python3.12/site-packages/matplotlib/image.py:685\u001b[0m, in \u001b[0;36m_ImageBase.set_data\u001b[0;34m(self, A)\u001b[0m\n\u001b[1;32m    683\u001b[0m \u001b[38;5;28;01mif\u001b[39;00m \u001b[38;5;28misinstance\u001b[39m(A, PIL\u001b[38;5;241m.\u001b[39mImage\u001b[38;5;241m.\u001b[39mImage):\n\u001b[1;32m    684\u001b[0m     A \u001b[38;5;241m=\u001b[39m pil_to_array(A)  \u001b[38;5;66;03m# Needed e.g. to apply png palette.\u001b[39;00m\n\u001b[0;32m--> 685\u001b[0m \u001b[38;5;28mself\u001b[39m\u001b[38;5;241m.\u001b[39m_A \u001b[38;5;241m=\u001b[39m \u001b[38;5;28;43mself\u001b[39;49m\u001b[38;5;241;43m.\u001b[39;49m\u001b[43m_normalize_image_array\u001b[49m\u001b[43m(\u001b[49m\u001b[43mA\u001b[49m\u001b[43m)\u001b[49m\n\u001b[1;32m    686\u001b[0m \u001b[38;5;28mself\u001b[39m\u001b[38;5;241m.\u001b[39m_imcache \u001b[38;5;241m=\u001b[39m \u001b[38;5;28;01mNone\u001b[39;00m\n\u001b[1;32m    687\u001b[0m \u001b[38;5;28mself\u001b[39m\u001b[38;5;241m.\u001b[39mstale \u001b[38;5;241m=\u001b[39m \u001b[38;5;28;01mTrue\u001b[39;00m\n",
      "File \u001b[0;32m/Library/Frameworks/Python.framework/Versions/3.12/lib/python3.12/site-packages/matplotlib/image.py:648\u001b[0m, in \u001b[0;36m_ImageBase._normalize_image_array\u001b[0;34m(A)\u001b[0m\n\u001b[1;32m    646\u001b[0m A \u001b[38;5;241m=\u001b[39m cbook\u001b[38;5;241m.\u001b[39msafe_masked_invalid(A, copy\u001b[38;5;241m=\u001b[39m\u001b[38;5;28;01mTrue\u001b[39;00m)\n\u001b[1;32m    647\u001b[0m \u001b[38;5;28;01mif\u001b[39;00m A\u001b[38;5;241m.\u001b[39mdtype \u001b[38;5;241m!=\u001b[39m np\u001b[38;5;241m.\u001b[39muint8 \u001b[38;5;129;01mand\u001b[39;00m \u001b[38;5;129;01mnot\u001b[39;00m np\u001b[38;5;241m.\u001b[39mcan_cast(A\u001b[38;5;241m.\u001b[39mdtype, \u001b[38;5;28mfloat\u001b[39m, \u001b[38;5;124m\"\u001b[39m\u001b[38;5;124msame_kind\u001b[39m\u001b[38;5;124m\"\u001b[39m):\n\u001b[0;32m--> 648\u001b[0m     \u001b[38;5;28;01mraise\u001b[39;00m \u001b[38;5;167;01mTypeError\u001b[39;00m(\u001b[38;5;124mf\u001b[39m\u001b[38;5;124m\"\u001b[39m\u001b[38;5;124mImage data of dtype \u001b[39m\u001b[38;5;132;01m{\u001b[39;00mA\u001b[38;5;241m.\u001b[39mdtype\u001b[38;5;132;01m}\u001b[39;00m\u001b[38;5;124m cannot be \u001b[39m\u001b[38;5;124m\"\u001b[39m\n\u001b[1;32m    649\u001b[0m                     \u001b[38;5;124mf\u001b[39m\u001b[38;5;124m\"\u001b[39m\u001b[38;5;124mconverted to float\u001b[39m\u001b[38;5;124m\"\u001b[39m)\n\u001b[1;32m    650\u001b[0m \u001b[38;5;28;01mif\u001b[39;00m A\u001b[38;5;241m.\u001b[39mndim \u001b[38;5;241m==\u001b[39m \u001b[38;5;241m3\u001b[39m \u001b[38;5;129;01mand\u001b[39;00m A\u001b[38;5;241m.\u001b[39mshape[\u001b[38;5;241m-\u001b[39m\u001b[38;5;241m1\u001b[39m] \u001b[38;5;241m==\u001b[39m \u001b[38;5;241m1\u001b[39m:\n\u001b[1;32m    651\u001b[0m     A \u001b[38;5;241m=\u001b[39m A\u001b[38;5;241m.\u001b[39msqueeze(\u001b[38;5;241m-\u001b[39m\u001b[38;5;241m1\u001b[39m)  \u001b[38;5;66;03m# If just (M, N, 1), assume scalar and apply colormap.\u001b[39;00m\n",
      "\u001b[0;31mTypeError\u001b[0m: Image data of dtype object cannot be converted to float"
     ]
    },
    {
     "data": {
      "image/png": "[encoded data removed]",
      "text/plain": [
       "<Figure size 640x480 with 1 Axes>"
      ]
     },
     "metadata": {},
     "output_type": "display_data"
    }
   ],
   "source": [
    "img = cv2.imread('images/leaf_original.png', 0)\n",
    "plt.imshow(img)\n"
   ]
  },
  {
   "cell_type": "code",
   "execution_count": 119,
   "id": "c9ca2d17",
   "metadata": {},
   "outputs": [
    {
     "ename": "ModuleNotFoundError",
     "evalue": "No module named 'w3_tools'",
     "output_type": "error",
     "traceback": [
      "\u001b[0;31m---------------------------------------------------------------------------\u001b[0m",
      "\u001b[0;31mModuleNotFoundError\u001b[0m                       Traceback (most recent call last)",
      "Cell \u001b[0;32mIn[119], line 1\u001b[0m\n\u001b[0;32m----> 1\u001b[0m \u001b[38;5;28;01mimport\u001b[39;00m \u001b[38;5;21;01mw3_tools\u001b[39;00m\n",
      "\u001b[0;31mModuleNotFoundError\u001b[0m: No module named 'w3_tools'"
     ]
    }
   ],
   "source": [
    "import w3_tools\n"
   ]
  },
  {
   "cell_type": "code",
   "execution_count": 8,
   "id": "5560f21b",
   "metadata": {},
   "outputs": [
    {
     "data": {
      "image/png": "[encoded data removed]",
      "text/plain": [
       "<Figure size 640x480 with 1 Axes>"
      ]
     },
     "metadata": {},
     "output_type": "display_data"
    }
   ],
   "source": [
    "import cv2\n",
    "import matplotlib.pyplot as plt\n",
    "\n",
    "img = cv2.imread('leaf_original.png', 0)\n",
    "\n",
    "if img is not None:\n",
    "    plt.imshow(img)\n",
    "    plt.title(\"Loaded Image\")\n",
    "    plt.axis('off')\n",
    "    plt.show()\n",
    "else:\n",
    "    print(\"Error: Image not found or couldn't be read.\")\n"
   ]
  },
  {
   "cell_type": "code",
   "execution_count": 7,
   "id": "5c89dfb1",
   "metadata": {},
   "outputs": [
    {
     "data": {
      "text/plain": [
       "<matplotlib.image.AxesImage at 0x110e01af0>"
      ]
     },
     "execution_count": 7,
     "metadata": {},
     "output_type": "execute_result"
    },
    {
     "data": {
      "image/png": "[encoded data removed]",
      "text/plain": [
       "<Figure size 640x480 with 1 Axes>"
      ]
     },
     "metadata": {},
     "output_type": "display_data"
    }
   ],
   "source": [
    "image_rotated = cv2.rotate(img, cv2.ROTATE_90_CLOCKWISE)\n",
    "\n",
    "plt.imshow(image_rotated)\n"
   ]
  },
  {
   "cell_type": "code",
   "execution_count": 10,
   "id": "5bf8c684",
   "metadata": {},
   "outputs": [],
   "source": [
    "import numpy as np"
   ]
  },
  {
   "cell_type": "code",
   "execution_count": 11,
   "id": "ba839cab",
   "metadata": {},
   "outputs": [
    {
     "data": {
      "text/plain": [
       "<matplotlib.image.AxesImage at 0x110e110d0>"
      ]
     },
     "execution_count": 11,
     "metadata": {},
     "output_type": "execute_result"
    },
    {
     "data": {
      "image/png": "[encoded data removed]",
      "text/plain": [
       "<Figure size 640x480 with 1 Axes>"
      ]
     },
     "metadata": {},
     "output_type": "display_data"
    }
   ],
   "source": [
    "rows,cols = image_rotated.shape\n",
    "# 3 by 3 matrix as it is required for the OpenCV library, don't worry about the details of it for now.\n",
    "M = np.float32([[1, 0.5, 0], [0, 1, 0], [0, 0, 1]])\n",
    "image_rotated_sheared = cv2.warpPerspective(image_rotated, M, (int(cols), int(rows)))\n",
    "plt.imshow(image_rotated_sheared)\n"
   ]
  },
  {
   "cell_type": "code",
   "execution_count": 12,
   "id": "0755250e",
   "metadata": {},
   "outputs": [
    {
     "data": {
      "text/plain": [
       "<matplotlib.image.AxesImage at 0x115cf13a0>"
      ]
     },
     "execution_count": 12,
     "metadata": {},
     "output_type": "execute_result"
    },
    {
     "data": {
      "image/png": "[encoded data removed]",
      "text/plain": [
       "<Figure size 640x480 with 1 Axes>"
      ]
     },
     "metadata": {},
     "output_type": "display_data"
    }
   ],
   "source": [
    "image_sheared = cv2.warpPerspective(img, M, (int(cols), int(rows)))\n",
    "image_sheared_rotated = cv2.rotate(image_sheared, cv2.ROTATE_90_CLOCKWISE)\n",
    "plt.imshow(image_sheared_rotated)\n"
   ]
  },
  {
   "cell_type": "code",
   "execution_count": 13,
   "id": "fbe0ef31",
   "metadata": {},
   "outputs": [
    {
     "name": "stdout",
     "output_type": "stream",
     "text": [
      "90 degrees clockwise rotation matrix:\n",
      " [[ 0  1]\n",
      " [-1  0]]\n",
      "Matrix for the shear along x-axis:\n",
      " [[1.  0.5]\n",
      " [0.  1. ]]\n"
     ]
    }
   ],
   "source": [
    "M_rotation_90_clockwise = np.array([[0, 1], [-1, 0]])\n",
    "M_shear_x = np.array([[1, 0.5], [0, 1]])\n",
    "\n",
    "print(\"90 degrees clockwise rotation matrix:\\n\", M_rotation_90_clockwise)\n",
    "print(\"Matrix for the shear along x-axis:\\n\", M_shear_x)\n"
   ]
  },
  {
   "cell_type": "code",
   "execution_count": 14,
   "id": "7a0c739f",
   "metadata": {},
   "outputs": [
    {
     "name": "stdout",
     "output_type": "stream",
     "text": [
      "M_rotation_90_clockwise by M_shear_x:\n",
      " [[ 0.   1. ]\n",
      " [-1.  -0.5]]\n",
      "M_shear_x by M_rotation_90_clockwise:\n",
      " [[-0.5  1. ]\n",
      " [-1.   0. ]]\n"
     ]
    }
   ],
   "source": [
    "print(\"M_rotation_90_clockwise by M_shear_x:\\n\", M_rotation_90_clockwise @ M_shear_x)\n",
    "print(\"M_shear_x by M_rotation_90_clockwise:\\n\", M_shear_x @ M_rotation_90_clockwise)\n"
   ]
  },
  {
   "cell_type": "code",
   "execution_count": 16,
   "id": "7e6e9124",
   "metadata": {},
   "outputs": [],
   "source": [
    "import numpy as np\n",
    "import matplotlib.pyplot as plt\n",
    "# A function to create a dataset.\n",
    "from sklearn.datasets import make_regression\n",
    "# A library for data manipulation and analysis.\n",
    "import pandas as pd\n",
    "# Some functions defined specifically for this notebook.\n",
    "\n",
    "# Output of plotting commands is displayed inline within the Jupyter notebook.\n",
    "%matplotlib inline \n",
    "\n",
    "# Set a seed so that the results are consistent.\n",
    "np.random.seed(3) \n"
   ]
  },
  {
   "cell_type": "code",
   "execution_count": 17,
   "id": "6e541521",
   "metadata": {},
   "outputs": [
    {
     "name": "stdout",
     "output_type": "stream",
     "text": [
      "Training dataset X:\n",
      "[[ 0.3190391  -1.07296862  0.86540763 -0.17242821  1.14472371  0.50249434\n",
      "  -2.3015387  -0.68372786 -0.38405435 -0.87785842 -2.06014071 -1.10061918\n",
      "  -1.09989127  1.13376944  1.74481176 -0.12289023 -0.93576943  1.62434536\n",
      "   1.46210794  0.90159072 -0.7612069   0.53035547 -0.52817175 -0.26788808\n",
      "   0.58281521  0.04221375  0.90085595 -0.24937038 -0.61175641 -0.3224172 ]]\n",
      "Training dataset Y\n",
      "[[ -3.01854669 -65.65047675  26.96755728   8.70562603  57.94332628\n",
      "   -0.69293498 -78.66594473 -12.73881492 -13.26721663 -24.80488085\n",
      "  -74.24484385 -39.99533724 -22.70174437  73.46766345  55.7257405\n",
      "   23.80417646 -13.45481508  25.57952246  75.91238321  50.91155323\n",
      "  -43.7191551   -1.7025559  -16.44931235 -33.54041234  20.4505961\n",
      "   18.35949302  37.69029586  -1.04801683  -4.47915933 -20.89431647]]\n"
     ]
    }
   ],
   "source": [
    "m = 30\n",
    "\n",
    "X, Y = make_regression(n_samples=m, n_features=1, noise=20, random_state=1)\n",
    "\n",
    "X = X.reshape((1, m))\n",
    "Y = Y.reshape((1, m))\n",
    "\n",
    "print('Training dataset X:')\n",
    "print(X)\n",
    "print('Training dataset Y')\n",
    "print(Y)\n"
   ]
  },
  {
   "cell_type": "code",
   "execution_count": 18,
   "id": "97e06417",
   "metadata": {},
   "outputs": [
    {
     "data": {
      "text/plain": [
       "Text(0, 0.5, '$y$')"
      ]
     },
     "execution_count": 18,
     "metadata": {},
     "output_type": "execute_result"
    },
    {
     "data": {
      "image/png": "[encoded data removed]",
      "text/plain": [
       "<Figure size 640x480 with 1 Axes>"
      ]
     },
     "metadata": {},
     "output_type": "display_data"
    }
   ],
   "source": [
    "plt.scatter(X,  Y, c=\"black\")\n",
    "\n",
    "plt.xlabel(\"$x$\")\n",
    "plt.ylabel(\"$y$\")\n"
   ]
  },
  {
   "cell_type": "code",
   "execution_count": 19,
   "id": "abd405e7",
   "metadata": {},
   "outputs": [
    {
     "name": "stdout",
     "output_type": "stream",
     "text": [
      "The shape of X: (1, 30)\n",
      "The shape of Y: (1, 30)\n",
      "I have m = 30 training examples!\n"
     ]
    }
   ],
   "source": [
    "shape_X = X.shape\n",
    "# Shape of variable Y.\n",
    "shape_Y = Y.shape\n",
    "# Training set size.\n",
    "m = X.shape[1]\n",
    "### END CODE HERE ###\n",
    "\n",
    "print ('The shape of X: ' + str(shape_X))\n",
    "print ('The shape of Y: ' + str(shape_Y))\n",
    "print ('I have m = %d training examples!' % (m))\n"
   ]
  },
  {
   "cell_type": "code",
   "execution_count": 20,
   "id": "29a54302",
   "metadata": {},
   "outputs": [],
   "source": [
    "def layer_sizes(X, Y):\n",
    "    \"\"\"\n",
    "    Arguments:\n",
    "    X -- input dataset of shape (input size, number of examples)\n",
    "    Y -- labels of shape (output size, number of examples)\n",
    "    \n",
    "    Returns:\n",
    "    n_x -- the size of the input layer\n",
    "    n_y -- the size of the output layer\n",
    "    \"\"\"\n",
    "    ### START CODE HERE ### (~ 2 lines of code)\n",
    "    # Size of input layer.\n",
    "    n_x = X.shape[0]\n",
    "    # Size of output layer.\n",
    "    n_y = Y.shape[0]\n",
    "    ### END CODE HERE ###\n",
    "    return (n_x, n_y)\n"
   ]
  },
  {
   "cell_type": "code",
   "execution_count": 21,
   "id": "7e166464",
   "metadata": {},
   "outputs": [
    {
     "name": "stdout",
     "output_type": "stream",
     "text": [
      "The size of the input layer is: n_x = 1\n",
      "The size of the output layer is: n_y = 1\n"
     ]
    }
   ],
   "source": [
    "(n_x, n_y) = layer_sizes(X, Y)\n",
    "print(\"The size of the input layer is: n_x = \" + str(n_x))\n",
    "print(\"The size of the output layer is: n_y = \" + str(n_y))\n"
   ]
  },
  {
   "cell_type": "code",
   "execution_count": null,
   "id": "224240bf",
   "metadata": {},
   "outputs": [],
   "source": []
  }
 ],
 "metadata": {
  "kernelspec": {
   "display_name": "Python 3",
   "language": "python",
   "name": "python3"
  },
  "language_info": {
   "codemirror_mode": {
    "name": "ipython",
    "version": 3
   },
   "file_extension": ".py",
   "mimetype": "text/x-python",
   "name": "python",
   "nbconvert_exporter": "python",
   "pygments_lexer": "ipython3",
   "version": "3.12.3"
  }
 },
 "nbformat": 4,
 "nbformat_minor": 5
}
