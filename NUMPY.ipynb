{
 "cells": [
  {
   "cell_type": "code",
   "execution_count": 4,
   "id": "6fb2d5bb-0bb0-44e6-8eac-813960a2e428",
   "metadata": {},
   "outputs": [],
   "source": [
    "import numpy as np"
   ]
  },
  {
   "cell_type": "code",
   "execution_count": 5,
   "id": "a98c81a5-8ede-4b5a-9497-e56b870852c4",
   "metadata": {},
   "outputs": [],
   "source": [
    "arr1=np.array([5,3,4])\n",
    "arr2=np.array([1,2,3])"
   ]
  },
  {
   "cell_type": "code",
   "execution_count": 6,
   "id": "97fea41e-24f4-497e-9fc3-da9443941f39",
   "metadata": {},
   "outputs": [
    {
     "data": {
      "text/plain": [
       "array([ 5,  6, 12])"
      ]
     },
     "execution_count": 6,
     "metadata": {},
     "output_type": "execute_result"
    }
   ],
   "source": [
    "arr1*arr2"
   ]
  },
  {
   "cell_type": "code",
   "execution_count": 7,
   "id": "1a87d034-98d8-48f3-b771-d97420627ec8",
   "metadata": {},
   "outputs": [
    {
     "name": "stdout",
     "output_type": "stream",
     "text": [
      "23\n"
     ]
    }
   ],
   "source": [
    "pro=np.dot(arr1,arr2)\n",
    "print(pro)"
   ]
  },
  {
   "cell_type": "code",
   "execution_count": 8,
   "id": "d63d99e3-21db-4d7d-884c-b1466ba54f57",
   "metadata": {},
   "outputs": [
    {
     "name": "stdout",
     "output_type": "stream",
     "text": [
      "Help on built-in function sum in module builtins:\n",
      "\n",
      "sum(iterable, /, start=0)\n",
      "    Return the sum of a 'start' value (default: 0) plus an iterable of numbers\n",
      "\n",
      "    When the iterable is empty, return the start value.\n",
      "    This function is intended specifically for use with numeric values and may\n",
      "    reject non-numeric types.\n",
      "\n"
     ]
    }
   ],
   "source": [
    "help(sum)\n"
   ]
  },
  {
   "cell_type": "code",
   "execution_count": 9,
   "id": "e68841b1-52ea-4727-98ba-a71835effb2c",
   "metadata": {},
   "outputs": [
    {
     "name": "stdout",
     "output_type": "stream",
     "text": [
      "12\n"
     ]
    }
   ],
   "source": [
    "print(arr1.sum())"
   ]
  },
  {
   "cell_type": "code",
   "execution_count": 10,
   "id": "432a38a6-5771-437d-b87f-36cec8416945",
   "metadata": {},
   "outputs": [
    {
     "data": {
      "text/plain": [
       "(3,)"
      ]
     },
     "execution_count": 10,
     "metadata": {},
     "output_type": "execute_result"
    }
   ],
   "source": [
    "arr1.shape"
   ]
  },
  {
   "cell_type": "code",
   "execution_count": 11,
   "id": "09236bd5-1d2c-4e12-802a-215f27e66e02",
   "metadata": {},
   "outputs": [
    {
     "data": {
      "text/plain": [
       "array([5, 3, 4])"
      ]
     },
     "execution_count": 11,
     "metadata": {},
     "output_type": "execute_result"
    }
   ],
   "source": [
    "arr1"
   ]
  },
  {
   "cell_type": "code",
   "execution_count": 12,
   "id": "c6e538ba-6665-4c0b-a6d8-eeecc215ab0c",
   "metadata": {},
   "outputs": [],
   "source": [
    "arr3=np.array([[2,3],\n",
    "               [2,3]])\n"
   ]
  },
  {
   "cell_type": "code",
   "execution_count": 13,
   "id": "baf810f0-90b7-4246-a1e5-942aeeda0147",
   "metadata": {},
   "outputs": [
    {
     "data": {
      "text/plain": [
       "dtype('int64')"
      ]
     },
     "execution_count": 13,
     "metadata": {},
     "output_type": "execute_result"
    }
   ],
   "source": [
    "arr3.dtype"
   ]
  },
  {
   "cell_type": "code",
   "execution_count": 14,
   "id": "745539a4-d153-417c-9d0c-da463fc21fc8",
   "metadata": {},
   "outputs": [
    {
     "name": "stdout",
     "output_type": "stream",
     "text": [
      "23\n"
     ]
    }
   ],
   "source": [
    "import numpy as np\n",
    "arr1=np.array([5,3,4])\n",
    "arr2=np.array([1,2,3])\n",
    "print(np.matmul(arr2,arr1))"
   ]
  },
  {
   "cell_type": "code",
   "execution_count": 15,
   "id": "afe4fbfd-d63b-4b43-bb07-049b63ab983d",
   "metadata": {},
   "outputs": [
    {
     "data": {
      "text/plain": [
       "(3, 3)"
      ]
     },
     "execution_count": 15,
     "metadata": {},
     "output_type": "execute_result"
    }
   ],
   "source": [
    "lis1=np.array([[1,2,3],\n",
    "               [1,2,3]])\n",
    "lis2=np.array([[0,1,0],\n",
    "               [1,2,0],\n",
    "              [1,2,0]])\n",
    "lis2.shape\n"
   ]
  },
  {
   "cell_type": "code",
   "execution_count": 16,
   "id": "f84d50d4-eafb-40bd-98f6-ca28737332c9",
   "metadata": {},
   "outputs": [
    {
     "data": {
      "text/plain": [
       "array([[ 5, 11,  0],\n",
       "       [ 5, 11,  0]])"
      ]
     },
     "execution_count": 16,
     "metadata": {},
     "output_type": "execute_result"
    }
   ],
   "source": [
    "np.matmul(lis1,lis2)"
   ]
  },
  {
   "cell_type": "code",
   "execution_count": 17,
   "id": "8c631987-b810-4518-be1c-37dbc5669854",
   "metadata": {},
   "outputs": [
    {
     "name": "stdout",
     "output_type": "stream",
     "text": [
      "Requirement already satisfied: pandas in /Library/Frameworks/Python.framework/Versions/3.12/lib/python3.12/site-packages (2.2.3)\n",
      "Requirement already satisfied: numpy>=1.26.0 in /Library/Frameworks/Python.framework/Versions/3.12/lib/python3.12/site-packages (from pandas) (2.2.3)\n",
      "Requirement already satisfied: python-dateutil>=2.8.2 in /Library/Frameworks/Python.framework/Versions/3.12/lib/python3.12/site-packages (from pandas) (2.9.0.post0)\n",
      "Requirement already satisfied: pytz>=2020.1 in /Library/Frameworks/Python.framework/Versions/3.12/lib/python3.12/site-packages (from pandas) (2025.1)\n",
      "Requirement already satisfied: tzdata>=2022.7 in /Library/Frameworks/Python.framework/Versions/3.12/lib/python3.12/site-packages (from pandas) (2025.1)\n",
      "Requirement already satisfied: six>=1.5 in /Library/Frameworks/Python.framework/Versions/3.12/lib/python3.12/site-packages (from python-dateutil>=2.8.2->pandas) (1.17.0)\n",
      "Note: you may need to restart the kernel to use updated packages.\n"
     ]
    }
   ],
   "source": [
    "pip install pandas\n"
   ]
  },
  {
   "cell_type": "code",
   "execution_count": 18,
   "id": "4cd0a9d4-60cc-4507-acc0-c6b600df35a8",
   "metadata": {},
   "outputs": [],
   "source": [
    "data=np.genfromtxt('winequality-red.txt',delimiter=';',skip_header=2,usecols=(0,1,2))"
   ]
  },
  {
   "cell_type": "code",
   "execution_count": 19,
   "id": "97f7a299-ea47-49cc-bfce-101f88eb4540",
   "metadata": {},
   "outputs": [
    {
     "data": {
      "text/plain": [
       "(1598, 3)"
      ]
     },
     "execution_count": 19,
     "metadata": {},
     "output_type": "execute_result"
    }
   ],
   "source": [
    "data.shape"
   ]
  },
  {
   "cell_type": "code",
   "execution_count": 20,
   "id": "219d7ef9-bcec-4a3b-a948-fd01d87dd361",
   "metadata": {},
   "outputs": [
    {
     "name": "stdout",
     "output_type": "stream",
     "text": [
      "[[ 7.8    0.88   0.   ]\n",
      " [ 7.8    0.76   0.04 ]\n",
      " [11.2    0.28   0.56 ]\n",
      " ...\n",
      " [ 6.3    0.51   0.13 ]\n",
      " [ 5.9    0.645  0.12 ]\n",
      " [ 6.     0.31   0.47 ]]\n"
     ]
    }
   ],
   "source": [
    "print(data)"
   ]
  },
  {
   "cell_type": "code",
   "execution_count": 49,
   "id": "af25ae16-1daf-47eb-800f-37b805076d5e",
   "metadata": {},
   "outputs": [
    {
     "data": {
      "text/plain": [
       "array([[2, 3],\n",
       "       [2, 3]])"
      ]
     },
     "execution_count": 49,
     "metadata": {},
     "output_type": "execute_result"
    }
   ],
   "source": [
    "arr3"
   ]
  },
  {
   "cell_type": "code",
   "execution_count": 22,
   "id": "8990d97d-d967-484f-966e-b3bf23fc6402",
   "metadata": {},
   "outputs": [
    {
     "data": {
      "text/plain": [
       "array([ 5,  6, 12])"
      ]
     },
     "execution_count": 22,
     "metadata": {},
     "output_type": "execute_result"
    }
   ],
   "source": [
    "arr1*arr2"
   ]
  },
  {
   "cell_type": "code",
   "execution_count": 23,
   "id": "9d856479-5363-463b-8e99-cdb879a2e950",
   "metadata": {},
   "outputs": [
    {
     "data": {
      "text/plain": [
       "array([5, 3, 4])"
      ]
     },
     "execution_count": 23,
     "metadata": {},
     "output_type": "execute_result"
    }
   ],
   "source": [
    "arr1\n"
   ]
  },
  {
   "cell_type": "code",
   "execution_count": 24,
   "id": "68a73349-581f-497c-b379-af8d03674deb",
   "metadata": {},
   "outputs": [
    {
     "data": {
      "text/plain": [
       "array([1, 2, 3])"
      ]
     },
     "execution_count": 24,
     "metadata": {},
     "output_type": "execute_result"
    }
   ],
   "source": [
    "arr2"
   ]
  },
  {
   "cell_type": "code",
   "execution_count": 25,
   "id": "51b449b3-bc11-452e-b264-3bcbf812b64c",
   "metadata": {},
   "outputs": [
    {
     "name": "stdout",
     "output_type": "stream",
     "text": [
      "23\n"
     ]
    }
   ],
   "source": [
    "print(np.dot(arr1,arr2))"
   ]
  },
  {
   "cell_type": "code",
   "execution_count": 26,
   "id": "4380f160-d6e5-465c-a979-34fd5aaed29e",
   "metadata": {},
   "outputs": [],
   "source": [
    "dp=data@arr1"
   ]
  },
  {
   "cell_type": "code",
   "execution_count": 27,
   "id": "9d2dc538-4191-4689-901a-7c752b9c7781",
   "metadata": {},
   "outputs": [
    {
     "data": {
      "text/plain": [
       "(1598, 3)"
      ]
     },
     "execution_count": 27,
     "metadata": {},
     "output_type": "execute_result"
    }
   ],
   "source": [
    "data.shape"
   ]
  },
  {
   "cell_type": "code",
   "execution_count": 28,
   "id": "c3c4b13e-f2e5-4035-b839-6b9a0708349f",
   "metadata": {},
   "outputs": [
    {
     "data": {
      "text/plain": [
       "(1598,)"
      ]
     },
     "execution_count": 28,
     "metadata": {},
     "output_type": "execute_result"
    }
   ],
   "source": [
    "dp.shape"
   ]
  },
  {
   "cell_type": "code",
   "execution_count": 29,
   "id": "7cf5d970-560c-4d7a-a01f-d3bdc230c5f0",
   "metadata": {},
   "outputs": [
    {
     "data": {
      "text/plain": [
       "(3,)"
      ]
     },
     "execution_count": 29,
     "metadata": {},
     "output_type": "execute_result"
    }
   ],
   "source": [
    "arr1.shape"
   ]
  },
  {
   "cell_type": "code",
   "execution_count": 30,
   "id": "90cfe49a-68a0-4622-8227-597861173789",
   "metadata": {},
   "outputs": [
    {
     "data": {
      "text/plain": [
       "(1598,)"
      ]
     },
     "execution_count": 30,
     "metadata": {},
     "output_type": "execute_result"
    }
   ],
   "source": [
    "dp\n",
    "dp.shape"
   ]
  },
  {
   "cell_type": "code",
   "execution_count": 31,
   "id": "ac3fe834-a1b7-4860-bd60-71ef3b5b0e72",
   "metadata": {},
   "outputs": [],
   "source": [
    "res=np.concatenate((data, dp.reshape(1598,1)),axis=1)"
   ]
  },
  {
   "cell_type": "code",
   "execution_count": 32,
   "id": "46a5d9e3-2ad3-4eae-9f87-b3c539320715",
   "metadata": {},
   "outputs": [
    {
     "data": {
      "text/plain": [
       "array([[7.8000e+00, 8.8000e-01, 0.0000e+00, 4.1640e+01],\n",
       "       [7.8000e+00, 7.6000e-01, 4.0000e-02, 4.1440e+01],\n",
       "       [1.1200e+01, 2.8000e-01, 5.6000e-01, 5.9080e+01],\n",
       "       ...,\n",
       "       [6.3000e+00, 5.1000e-01, 1.3000e-01, 3.3550e+01],\n",
       "       [5.9000e+00, 6.4500e-01, 1.2000e-01, 3.1915e+01],\n",
       "       [6.0000e+00, 3.1000e-01, 4.7000e-01, 3.2810e+01]], shape=(1598, 4))"
      ]
     },
     "execution_count": 32,
     "metadata": {},
     "output_type": "execute_result"
    }
   ],
   "source": [
    "res"
   ]
  },
  {
   "cell_type": "code",
   "execution_count": 33,
   "id": "66ee48b8-37a8-42e0-8a61-5d6c29330ba0",
   "metadata": {},
   "outputs": [
    {
     "data": {
      "text/plain": [
       "dtype('float64')"
      ]
     },
     "execution_count": 33,
     "metadata": {},
     "output_type": "execute_result"
    }
   ],
   "source": [
    "res.dtype"
   ]
  },
  {
   "cell_type": "code",
   "execution_count": 34,
   "id": "4b5208e6-0a00-4dbb-b713-6c6868f8b5cc",
   "metadata": {},
   "outputs": [],
   "source": [
    "arr=np.array([[1,2,3]])"
   ]
  },
  {
   "cell_type": "code",
   "execution_count": 35,
   "id": "8d4c83fb-dd60-4c9f-9e57-195fc2d5558e",
   "metadata": {},
   "outputs": [
    {
     "data": {
      "text/plain": [
       "(1, 3)"
      ]
     },
     "execution_count": 35,
     "metadata": {},
     "output_type": "execute_result"
    }
   ],
   "source": [
    "arr.shape"
   ]
  },
  {
   "cell_type": "code",
   "execution_count": 36,
   "id": "831994b7-4aed-47b3-9389-fd3b631988b8",
   "metadata": {},
   "outputs": [
    {
     "name": "stdout",
     "output_type": "stream",
     "text": [
      "Help on _ArrayFunctionDispatcher in module numpy:\n",
      "\n",
      "reshape(a, /, shape=None, order='C', *, newshape=None, copy=None)\n",
      "    Gives a new shape to an array without changing its data.\n",
      "\n",
      "    Parameters\n",
      "    ----------\n",
      "    a : array_like\n",
      "        Array to be reshaped.\n",
      "    shape : int or tuple of ints\n",
      "        The new shape should be compatible with the original shape. If\n",
      "        an integer, then the result will be a 1-D array of that length.\n",
      "        One shape dimension can be -1. In this case, the value is\n",
      "        inferred from the length of the array and remaining dimensions.\n",
      "    order : {'C', 'F', 'A'}, optional\n",
      "        Read the elements of ``a`` using this index order, and place the\n",
      "        elements into the reshaped array using this index order. 'C'\n",
      "        means to read / write the elements using C-like index order,\n",
      "        with the last axis index changing fastest, back to the first\n",
      "        axis index changing slowest. 'F' means to read / write the\n",
      "        elements using Fortran-like index order, with the first index\n",
      "        changing fastest, and the last index changing slowest. Note that\n",
      "        the 'C' and 'F' options take no account of the memory layout of\n",
      "        the underlying array, and only refer to the order of indexing.\n",
      "        'A' means to read / write the elements in Fortran-like index\n",
      "        order if ``a`` is Fortran *contiguous* in memory, C-like order\n",
      "        otherwise.\n",
      "    newshape : int or tuple of ints\n",
      "        .. deprecated:: 2.1\n",
      "            Replaced by ``shape`` argument. Retained for backward\n",
      "            compatibility.\n",
      "    copy : bool, optional\n",
      "        If ``True``, then the array data is copied. If ``None``, a copy will\n",
      "        only be made if it's required by ``order``. For ``False`` it raises\n",
      "        a ``ValueError`` if a copy cannot be avoided. Default: ``None``.\n",
      "\n",
      "    Returns\n",
      "    -------\n",
      "    reshaped_array : ndarray\n",
      "        This will be a new view object if possible; otherwise, it will\n",
      "        be a copy.  Note there is no guarantee of the *memory layout* (C- or\n",
      "        Fortran- contiguous) of the returned array.\n",
      "\n",
      "    See Also\n",
      "    --------\n",
      "    ndarray.reshape : Equivalent method.\n",
      "\n",
      "    Notes\n",
      "    -----\n",
      "    It is not always possible to change the shape of an array without copying\n",
      "    the data.\n",
      "\n",
      "    The ``order`` keyword gives the index ordering both for *fetching*\n",
      "    the values from ``a``, and then *placing* the values into the output\n",
      "    array. For example, let's say you have an array:\n",
      "\n",
      "    >>> a = np.arange(6).reshape((3, 2))\n",
      "    >>> a\n",
      "    array([[0, 1],\n",
      "           [2, 3],\n",
      "           [4, 5]])\n",
      "\n",
      "    You can think of reshaping as first raveling the array (using the given\n",
      "    index order), then inserting the elements from the raveled array into the\n",
      "    new array using the same kind of index ordering as was used for the\n",
      "    raveling.\n",
      "\n",
      "    >>> np.reshape(a, (2, 3)) # C-like index ordering\n",
      "    array([[0, 1, 2],\n",
      "           [3, 4, 5]])\n",
      "    >>> np.reshape(np.ravel(a), (2, 3)) # equivalent to C ravel then C reshape\n",
      "    array([[0, 1, 2],\n",
      "           [3, 4, 5]])\n",
      "    >>> np.reshape(a, (2, 3), order='F') # Fortran-like index ordering\n",
      "    array([[0, 4, 3],\n",
      "           [2, 1, 5]])\n",
      "    >>> np.reshape(np.ravel(a, order='F'), (2, 3), order='F')\n",
      "    array([[0, 4, 3],\n",
      "           [2, 1, 5]])\n",
      "\n",
      "    Examples\n",
      "    --------\n",
      "    >>> import numpy as np\n",
      "    >>> a = np.array([[1,2,3], [4,5,6]])\n",
      "    >>> np.reshape(a, 6)\n",
      "    array([1, 2, 3, 4, 5, 6])\n",
      "    >>> np.reshape(a, 6, order='F')\n",
      "    array([1, 4, 2, 5, 3, 6])\n",
      "\n",
      "    >>> np.reshape(a, (3,-1))       # the unspecified value is inferred to be 2\n",
      "    array([[1, 2],\n",
      "           [3, 4],\n",
      "           [5, 6]])\n",
      "\n"
     ]
    }
   ],
   "source": [
    "help(np.reshape)\n"
   ]
  },
  {
   "cell_type": "code",
   "execution_count": 37,
   "id": "cde1fb0d-191c-45d6-9c9a-a5653c052013",
   "metadata": {},
   "outputs": [
    {
     "data": {
      "text/plain": [
       "array([5, 3, 4, 1, 2, 3])"
      ]
     },
     "execution_count": 37,
     "metadata": {},
     "output_type": "execute_result"
    }
   ],
   "source": [
    "np.concatenate((arr1,arr2),axis=0)"
   ]
  },
  {
   "cell_type": "code",
   "execution_count": 38,
   "id": "3fa38ccd-f3e4-4242-bcd7-4aba2f3be1e7",
   "metadata": {},
   "outputs": [
    {
     "data": {
      "text/plain": [
       "(3,)"
      ]
     },
     "execution_count": 38,
     "metadata": {},
     "output_type": "execute_result"
    }
   ],
   "source": [
    "arr1.shape"
   ]
  },
  {
   "cell_type": "code",
   "execution_count": 39,
   "id": "b24bda1f-e6cf-4f40-bfe7-4286a73ace26",
   "metadata": {},
   "outputs": [
    {
     "data": {
      "text/plain": [
       "(1598, 4)"
      ]
     },
     "execution_count": 39,
     "metadata": {},
     "output_type": "execute_result"
    }
   ],
   "source": [
    "res.shape"
   ]
  },
  {
   "cell_type": "code",
   "execution_count": 40,
   "id": "92ba2ac4-fdb7-4bff-9314-7df3497c911d",
   "metadata": {},
   "outputs": [],
   "source": [
    "np.savetxt('result.txt',res,delimiter=',',fmt='%.2f',header='yes,no,why,wow',comments='')"
   ]
  },
  {
   "cell_type": "code",
   "execution_count": 41,
   "id": "e8e882ba-b3f2-4b77-a4bc-e8fd2c41fba1",
   "metadata": {},
   "outputs": [],
   "source": [
    "import numpy as np\n",
    "newdata=np.genfromtxt('result.txt',delimiter=',',skip_header=1)"
   ]
  },
  {
   "cell_type": "code",
   "execution_count": 42,
   "id": "f32fc1a3-979f-46db-ab83-419647985536",
   "metadata": {},
   "outputs": [
    {
     "data": {
      "text/plain": [
       "array([[7.800e+00, 8.800e-01, 0.000e+00, 4.164e+01],\n",
       "       [7.800e+00, 7.600e-01, 4.000e-02, 4.144e+01],\n",
       "       [1.120e+01, 2.800e-01, 5.600e-01, 5.908e+01],\n",
       "       ...,\n",
       "       [6.300e+00, 5.100e-01, 1.300e-01, 3.355e+01],\n",
       "       [5.900e+00, 6.500e-01, 1.200e-01, 3.192e+01],\n",
       "       [6.000e+00, 3.100e-01, 4.700e-01, 3.281e+01]], shape=(1598, 4))"
      ]
     },
     "execution_count": 42,
     "metadata": {},
     "output_type": "execute_result"
    }
   ],
   "source": [
    "newdata\n"
   ]
  },
  {
   "cell_type": "code",
   "execution_count": 43,
   "id": "b47ac23c-8321-452c-ad9e-fca9aa3660c0",
   "metadata": {},
   "outputs": [],
   "source": [
    "np.savetxt('wow.csv',newdata,delimiter=';',fmt='%.1f',header='yes;no;wow;jao',comments='')"
   ]
  },
  {
   "cell_type": "code",
   "execution_count": 44,
   "id": "a8d1d0fa-0359-431d-b365-38a478e1a701",
   "metadata": {},
   "outputs": [],
   "source": [
    "array1=np.array([[1,2],\n",
    "                 [1,2]])"
   ]
  },
  {
   "cell_type": "code",
   "execution_count": 45,
   "id": "2e461322-506d-411c-95ae-f4c7aca4690f",
   "metadata": {},
   "outputs": [],
   "source": [
    "array2=np.array([1,2,3,4])"
   ]
  },
  {
   "cell_type": "code",
   "execution_count": 46,
   "id": "5e6dd86a-2f93-4789-be6b-180cd1045a11",
   "metadata": {},
   "outputs": [
    {
     "data": {
      "text/plain": [
       "array([[1, 2, 1, 2],\n",
       "       [1, 2, 3, 4]])"
      ]
     },
     "execution_count": 46,
     "metadata": {},
     "output_type": "execute_result"
    }
   ],
   "source": [
    "np.concatenate((array1,array2.reshape(2,2)),axis=1)"
   ]
  },
  {
   "cell_type": "code",
   "execution_count": 47,
   "id": "d883984a-4df4-4198-a46d-e96b46b4e955",
   "metadata": {},
   "outputs": [
    {
     "data": {
      "text/plain": [
       "(2, 2)"
      ]
     },
     "execution_count": 47,
     "metadata": {},
     "output_type": "execute_result"
    }
   ],
   "source": [
    "array1.shape"
   ]
  },
  {
   "cell_type": "code",
   "execution_count": 48,
   "id": "aba913d7-c739-40e8-9682-abfc9efa92cf",
   "metadata": {},
   "outputs": [
    {
     "data": {
      "text/plain": [
       "(4,)"
      ]
     },
     "execution_count": 48,
     "metadata": {},
     "output_type": "execute_result"
    }
   ],
   "source": [
    "array2.shape"
   ]
  },
  {
   "cell_type": "raw",
   "id": "e3a318a5-56b4-4388-b76e-2141d948ea2e",
   "metadata": {},
   "source": [
    "array2.shape"
   ]
  },
  {
   "cell_type": "code",
   "execution_count": 49,
   "id": "dff35a4b-451e-407c-9ebd-3fe892c3b9e3",
   "metadata": {},
   "outputs": [
    {
     "data": {
      "text/plain": [
       "(2, 2)"
      ]
     },
     "execution_count": 49,
     "metadata": {},
     "output_type": "execute_result"
    }
   ],
   "source": [
    "array1.shape"
   ]
  },
  {
   "cell_type": "code",
   "execution_count": 50,
   "id": "3a1c78ca-19a8-4051-b7ba-098803cd7bc7",
   "metadata": {},
   "outputs": [
    {
     "data": {
      "text/plain": [
       "(4,)"
      ]
     },
     "execution_count": 50,
     "metadata": {},
     "output_type": "execute_result"
    }
   ],
   "source": [
    "array2.shape"
   ]
  },
  {
   "cell_type": "code",
   "execution_count": 51,
   "id": "fa241583-b0a4-40af-9cac-63282fdc9ca1",
   "metadata": {},
   "outputs": [
    {
     "data": {
      "text/plain": [
       "array([[1, 2],\n",
       "       [3, 4]])"
      ]
     },
     "execution_count": 51,
     "metadata": {},
     "output_type": "execute_result"
    }
   ],
   "source": [
    "array2.reshape(2,2)"
   ]
  },
  {
   "cell_type": "code",
   "execution_count": 52,
   "id": "a40dcfea-502c-45f3-9a32-92208300df24",
   "metadata": {},
   "outputs": [
    {
     "data": {
      "text/plain": [
       "(4,)"
      ]
     },
     "execution_count": 52,
     "metadata": {},
     "output_type": "execute_result"
    }
   ],
   "source": [
    "array2.shape"
   ]
  },
  {
   "cell_type": "code",
   "execution_count": 55,
   "id": "fcb68d01-f307-48da-be27-801c90781064",
   "metadata": {},
   "outputs": [
    {
     "data": {
      "text/plain": [
       "array([[2, 4],\n",
       "       [4, 6]])"
      ]
     },
     "execution_count": 55,
     "metadata": {},
     "output_type": "execute_result"
    }
   ],
   "source": [
    "array2.reshape(2,2)+array1"
   ]
  },
  {
   "cell_type": "code",
   "execution_count": 56,
   "id": "94b2f37b-59fd-4830-9145-8de9196e9459",
   "metadata": {},
   "outputs": [
    {
     "data": {
      "text/plain": [
       "array([[1, 2, 3, 4]])"
      ]
     },
     "execution_count": 56,
     "metadata": {},
     "output_type": "execute_result"
    }
   ],
   "source": [
    "array2.reshape(1,4)"
   ]
  },
  {
   "cell_type": "code",
   "execution_count": 57,
   "id": "f9c210d2-556a-42a3-bf84-2a8c1b846b2a",
   "metadata": {},
   "outputs": [],
   "source": [
    "array3=np.array([[[[1,2,3],\n",
    "                  [1,2,3]]],\n",
    "                 [[[1,2,3],\n",
    "                  [1,2,3]]]])"
   ]
  },
  {
   "cell_type": "code",
   "execution_count": 58,
   "id": "59a10bbc-b5b6-4a24-a816-1e23541727e1",
   "metadata": {},
   "outputs": [
    {
     "data": {
      "text/plain": [
       "(2, 1, 2, 3)"
      ]
     },
     "execution_count": 58,
     "metadata": {},
     "output_type": "execute_result"
    }
   ],
   "source": [
    "array3.shape"
   ]
  },
  {
   "cell_type": "code",
   "execution_count": 59,
   "id": "e0b51baa-b74c-4fe4-84f9-aec556c16e37",
   "metadata": {},
   "outputs": [],
   "source": [
    "array4=np.array([1,2,3])"
   ]
  },
  {
   "cell_type": "code",
   "execution_count": 60,
   "id": "6f9a2824-62be-48a5-b973-32eb38514275",
   "metadata": {},
   "outputs": [
    {
     "data": {
      "text/plain": [
       "array([[[[2, 4, 6],\n",
       "         [2, 4, 6]]],\n",
       "\n",
       "\n",
       "       [[[2, 4, 6],\n",
       "         [2, 4, 6]]]])"
      ]
     },
     "execution_count": 60,
     "metadata": {},
     "output_type": "execute_result"
    }
   ],
   "source": [
    "array3+array4"
   ]
  },
  {
   "cell_type": "code",
   "execution_count": 61,
   "id": "e901ae32-6fe1-4025-babd-c315e05b8383",
   "metadata": {},
   "outputs": [
    {
     "data": {
      "text/plain": [
       "array([[[[2, 4, 6],\n",
       "         [2, 4, 6]]],\n",
       "\n",
       "\n",
       "       [[[2, 4, 6],\n",
       "         [2, 4, 6]]]])"
      ]
     },
     "execution_count": 61,
     "metadata": {},
     "output_type": "execute_result"
    }
   ],
   "source": [
    "array4+array3"
   ]
  },
  {
   "cell_type": "code",
   "execution_count": 62,
   "id": "b39e87d9-50a4-4caa-8f07-4953d92b177b",
   "metadata": {},
   "outputs": [
    {
     "name": "stdout",
     "output_type": "stream",
     "text": [
      "Requirement already satisfied: matplotlib in /Library/Frameworks/Python.framework/Versions/3.12/lib/python3.12/site-packages (3.10.1)\n",
      "Requirement already satisfied: contourpy>=1.0.1 in /Library/Frameworks/Python.framework/Versions/3.12/lib/python3.12/site-packages (from matplotlib) (1.3.1)\n",
      "Requirement already satisfied: cycler>=0.10 in /Library/Frameworks/Python.framework/Versions/3.12/lib/python3.12/site-packages (from matplotlib) (0.12.1)\n",
      "Requirement already satisfied: fonttools>=4.22.0 in /Library/Frameworks/Python.framework/Versions/3.12/lib/python3.12/site-packages (from matplotlib) (4.56.0)\n",
      "Requirement already satisfied: kiwisolver>=1.3.1 in /Library/Frameworks/Python.framework/Versions/3.12/lib/python3.12/site-packages (from matplotlib) (1.4.8)\n",
      "Requirement already satisfied: numpy>=1.23 in /Library/Frameworks/Python.framework/Versions/3.12/lib/python3.12/site-packages (from matplotlib) (2.2.3)\n",
      "Requirement already satisfied: packaging>=20.0 in /Library/Frameworks/Python.framework/Versions/3.12/lib/python3.12/site-packages (from matplotlib) (24.2)\n",
      "Requirement already satisfied: pillow>=8 in /Library/Frameworks/Python.framework/Versions/3.12/lib/python3.12/site-packages (from matplotlib) (11.1.0)\n",
      "Requirement already satisfied: pyparsing>=2.3.1 in /Library/Frameworks/Python.framework/Versions/3.12/lib/python3.12/site-packages (from matplotlib) (3.2.1)\n",
      "Requirement already satisfied: python-dateutil>=2.7 in /Library/Frameworks/Python.framework/Versions/3.12/lib/python3.12/site-packages (from matplotlib) (2.9.0.post0)\n",
      "Requirement already satisfied: six>=1.5 in /Library/Frameworks/Python.framework/Versions/3.12/lib/python3.12/site-packages (from python-dateutil>=2.7->matplotlib) (1.17.0)\n",
      "Note: you may need to restart the kernel to use updated packages.\n"
     ]
    }
   ],
   "source": [
    "pip install matplotlib\n"
   ]
  },
  {
   "cell_type": "code",
   "execution_count": 63,
   "id": "b77042cb-2dc8-417d-b689-86cfd2cb3d32",
   "metadata": {},
   "outputs": [
    {
     "name": "stdout",
     "output_type": "stream",
     "text": [
      "[ 22.25878424  10.54738348   4.17169505   1.5466019  -17.43117809\n",
      "   8.53211782]\n"
     ]
    },
    {
     "data": {
      "image/png": "[encoded data removed]",
      "text/plain": [
       "<Figure size 640x480 with 1 Axes>"
      ]
     },
     "metadata": {},
     "output_type": "display_data"
    }
   ],
   "source": [
    "import matplotlib.pyplot as plt\n",
    "import numpy as np\n",
    "\n",
    "# Generate 10,000 random numbers\n",
    "data = 5+15*np.random.randn(6)\n",
    "print(data)\n",
    "# Plot histogram\n",
    "plt.hist(data, bins=50, density=True, alpha=0.6, color='b')\n",
    "\n",
    "# Show plot\n",
    "plt.title(\"Histogram of randn() values\")\n",
    "plt.xlabel(\"Value\")\n",
    "plt.ylabel(\"Frequency\")\n",
    "plt.show()\n"
   ]
  },
  {
   "cell_type": "code",
   "execution_count": 64,
   "id": "39d2af4c-acc1-4088-b8af-58691e99f8fb",
   "metadata": {},
   "outputs": [
    {
     "data": {
      "text/plain": [
       "array([[[ 2],\n",
       "        [ 4]],\n",
       "\n",
       "       [[ 6],\n",
       "        [ 8]],\n",
       "\n",
       "       [[10],\n",
       "        [12]],\n",
       "\n",
       "       [[14],\n",
       "        [16]],\n",
       "\n",
       "       [[18],\n",
       "        [20]],\n",
       "\n",
       "       [[22],\n",
       "        [24]],\n",
       "\n",
       "       [[26],\n",
       "        [28]]])"
      ]
     },
     "execution_count": 64,
     "metadata": {},
     "output_type": "execute_result"
    }
   ],
   "source": [
    "np.arange(2,30,2).reshape(7,2,1)"
   ]
  },
  {
   "cell_type": "code",
   "execution_count": 65,
   "id": "2f9ca379-2ba7-4589-bcd5-5073f29ef789",
   "metadata": {},
   "outputs": [],
   "source": [
    "arr=np.linspace(1,20,10).reshape(2,5)"
   ]
  },
  {
   "cell_type": "code",
   "execution_count": 66,
   "id": "2a94ff17-2c66-45cb-b19c-2b4ec39c9973",
   "metadata": {},
   "outputs": [
    {
     "name": "stdout",
     "output_type": "stream",
     "text": [
      "[[[ 1.  2.  3.  4.  5.]\n",
      "  [ 6.  7.  8.  9. 10.]\n",
      "  [11. 12. 13. 14. 15.]]\n",
      "\n",
      " [[16. 17. 18. 19. 20.]\n",
      "  [21. 22. 23. 24. 25.]\n",
      "  [26. 27. 28. 29. 30.]]]\n"
     ]
    }
   ],
   "source": [
    "import numpy as np\n",
    "\n",
    "# Create a 3D array with 30 values, reshaped into (2, 3, 5)\n",
    "arr_3d = np.linspace(1, 30, 30).reshape(2, 3, 5)\n",
    "\n",
    "# Round to 2 decimal places\n",
    "rounded_arr_3d = np.round(arr_3d, 2)\n",
    "\n",
    "print(rounded_arr_3d)\n"
   ]
  },
  {
   "cell_type": "code",
   "execution_count": 67,
   "id": "edb5bb8a-9aa4-45eb-80bb-91f5787e14ca",
   "metadata": {},
   "outputs": [
    {
     "name": "stdout",
     "output_type": "stream",
     "text": [
      "['1.00', '2.00', '3.00', '4.00', '5.00']\n",
      "['6.00', '7.00', '8.00', '9.00', '10.00']\n",
      "['11.00', '12.00', '13.00', '14.00', '15.00']\n",
      "['16.00', '17.00', '18.00', '19.00', '20.00']\n",
      "['21.00', '22.00', '23.00', '24.00', '25.00']\n",
      "['26.00', '27.00', '28.00', '29.00', '30.00']\n"
     ]
    }
   ],
   "source": [
    "for matrix in rounded_arr_3d:\n",
    "    for row in matrix:\n",
    "        print([\"{:.2f}\".format(num) for num in row])\n"
   ]
  },
  {
   "cell_type": "code",
   "execution_count": 68,
   "id": "584f33a4-4db5-4713-9bdb-16a2b7ccbab6",
   "metadata": {},
   "outputs": [],
   "source": [
    "zero=np.zeros((1,1))"
   ]
  },
  {
   "cell_type": "code",
   "execution_count": 69,
   "id": "8c475381-968c-4798-ba32-d82be9e8ff86",
   "metadata": {},
   "outputs": [],
   "source": [
    "one=np.ones((1,2))"
   ]
  },
  {
   "cell_type": "code",
   "execution_count": 70,
   "id": "d2852686-2626-43fe-a331-b951f935e582",
   "metadata": {},
   "outputs": [
    {
     "data": {
      "text/plain": [
       "array([[0.],\n",
       "       [1.],\n",
       "       [1.]])"
      ]
     },
     "execution_count": 70,
     "metadata": {},
     "output_type": "execute_result"
    }
   ],
   "source": [
    "np.concatenate((zero,one.reshape(2,1)),axis=0)"
   ]
  },
  {
   "cell_type": "code",
   "execution_count": 71,
   "id": "9c417ff6-f2c7-4290-9cd2-b6522458047e",
   "metadata": {},
   "outputs": [],
   "source": [
    "daty=np.genfromtxt(\"nyc_taxis.csv\",delimiter=',',dtype=float,skip_header=True)"
   ]
  },
  {
   "cell_type": "code",
   "execution_count": 72,
   "id": "44ac4a6b-7b75-4589-91de-3b11d373dc8e",
   "metadata": {},
   "outputs": [
    {
     "name": "stdout",
     "output_type": "stream",
     "text": [
      "[[2.016e+03 1.000e+00 1.000e+00 ... 1.165e+01 6.999e+01 1.000e+00]\n",
      " [2.016e+03 1.000e+00 1.000e+00 ... 8.000e+00 5.430e+01 1.000e+00]\n",
      " [2.016e+03 1.000e+00 1.000e+00 ... 0.000e+00 3.780e+01 2.000e+00]\n",
      " ...\n",
      " [2.016e+03 6.000e+00 3.000e+01 ... 5.000e+00 6.334e+01 1.000e+00]\n",
      " [2.016e+03 6.000e+00 3.000e+01 ... 8.950e+00 4.475e+01 1.000e+00]\n",
      " [2.016e+03 6.000e+00 3.000e+01 ... 0.000e+00 5.484e+01 2.000e+00]]\n"
     ]
    }
   ],
   "source": [
    "print(daty)"
   ]
  }
 ],
 "metadata": {
  "kernelspec": {
   "display_name": "Python 3 (ipykernel)",
   "language": "python",
   "name": "python3"
  },
  "language_info": {
   "codemirror_mode": {
    "name": "ipython",
    "version": 3
   },
   "file_extension": ".py",
   "mimetype": "text/x-python",
   "name": "python",
   "nbconvert_exporter": "python",
   "pygments_lexer": "ipython3",
   "version": "3.12.3"
  }
 },
 "nbformat": 4,
 "nbformat_minor": 5
}
