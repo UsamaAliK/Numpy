{
 "cells": [
  {
   "cell_type": "code",
   "execution_count": 1,
   "id": "6fb2d5bb-0bb0-44e6-8eac-813960a2e428",
   "metadata": {},
   "outputs": [],
   "source": [
    "import numpy as np"
   ]
  },
  {
   "cell_type": "code",
   "execution_count": 2,
   "id": "a98c81a5-8ede-4b5a-9497-e56b870852c4",
   "metadata": {},
   "outputs": [],
   "source": [
    "arr1=np.array([5,3,4])\n",
    "arr2=np.array([1,2,3])"
   ]
  },
  {
   "cell_type": "code",
   "execution_count": 3,
   "id": "97fea41e-24f4-497e-9fc3-da9443941f39",
   "metadata": {},
   "outputs": [
    {
     "data": {
      "text/plain": [
       "array([ 5,  6, 12])"
      ]
     },
     "execution_count": 3,
     "metadata": {},
     "output_type": "execute_result"
    }
   ],
   "source": [
    "arr1*arr2"
   ]
  },
  {
   "cell_type": "code",
   "execution_count": 4,
   "id": "1a87d034-98d8-48f3-b771-d97420627ec8",
   "metadata": {},
   "outputs": [
    {
     "name": "stdout",
     "output_type": "stream",
     "text": [
      "23\n"
     ]
    }
   ],
   "source": [
    "pro=np.dot(arr1,arr2)\n",
    "print(pro)"
   ]
  },
  {
   "cell_type": "code",
   "execution_count": 5,
   "id": "d63d99e3-21db-4d7d-884c-b1466ba54f57",
   "metadata": {},
   "outputs": [
    {
     "name": "stdout",
     "output_type": "stream",
     "text": [
      "Help on built-in function sum in module builtins:\n",
      "\n",
      "sum(iterable, /, start=0)\n",
      "    Return the sum of a 'start' value (default: 0) plus an iterable of numbers\n",
      "\n",
      "    When the iterable is empty, return the start value.\n",
      "    This function is intended specifically for use with numeric values and may\n",
      "    reject non-numeric types.\n",
      "\n"
     ]
    }
   ],
   "source": [
    "help(sum)\n"
   ]
  },
  {
   "cell_type": "code",
   "execution_count": 6,
   "id": "e68841b1-52ea-4727-98ba-a71835effb2c",
   "metadata": {},
   "outputs": [
    {
     "name": "stdout",
     "output_type": "stream",
     "text": [
      "12\n"
     ]
    }
   ],
   "source": [
    "print(arr1.sum())"
   ]
  },
  {
   "cell_type": "code",
   "execution_count": 7,
   "id": "432a38a6-5771-437d-b87f-36cec8416945",
   "metadata": {},
   "outputs": [
    {
     "data": {
      "text/plain": [
       "(3,)"
      ]
     },
     "execution_count": 7,
     "metadata": {},
     "output_type": "execute_result"
    }
   ],
   "source": [
    "arr1.shape"
   ]
  },
  {
   "cell_type": "code",
   "execution_count": 8,
   "id": "09236bd5-1d2c-4e12-802a-215f27e66e02",
   "metadata": {},
   "outputs": [
    {
     "data": {
      "text/plain": [
       "array([5, 3, 4])"
      ]
     },
     "execution_count": 8,
     "metadata": {},
     "output_type": "execute_result"
    }
   ],
   "source": [
    "arr1"
   ]
  },
  {
   "cell_type": "code",
   "execution_count": 9,
   "id": "c6e538ba-6665-4c0b-a6d8-eeecc215ab0c",
   "metadata": {},
   "outputs": [],
   "source": [
    "arr3=np.array([[2,3],\n",
    "               [2,3]])\n"
   ]
  },
  {
   "cell_type": "code",
   "execution_count": 10,
   "id": "baf810f0-90b7-4246-a1e5-942aeeda0147",
   "metadata": {},
   "outputs": [
    {
     "data": {
      "text/plain": [
       "dtype('int64')"
      ]
     },
     "execution_count": 10,
     "metadata": {},
     "output_type": "execute_result"
    }
   ],
   "source": [
    "arr3.dtype"
   ]
  },
  {
   "cell_type": "code",
   "execution_count": 11,
   "id": "745539a4-d153-417c-9d0c-da463fc21fc8",
   "metadata": {},
   "outputs": [
    {
     "name": "stdout",
     "output_type": "stream",
     "text": [
      "23\n"
     ]
    }
   ],
   "source": [
    "import numpy as np\n",
    "arr1=np.array([5,3,4])\n",
    "arr2=np.array([1,2,3])\n",
    "print(np.matmul(arr2,arr1))"
   ]
  },
  {
   "cell_type": "code",
   "execution_count": 12,
   "id": "afe4fbfd-d63b-4b43-bb07-049b63ab983d",
   "metadata": {},
   "outputs": [
    {
     "data": {
      "text/plain": [
       "(3, 3)"
      ]
     },
     "execution_count": 12,
     "metadata": {},
     "output_type": "execute_result"
    }
   ],
   "source": [
    "lis1=np.array([[1,2,3],\n",
    "               [1,2,3]])\n",
    "lis2=np.array([[0,1,0],\n",
    "               [1,2,0],\n",
    "              [1,2,0]])\n",
    "lis2.shape\n"
   ]
  },
  {
   "cell_type": "code",
   "execution_count": 13,
   "id": "f84d50d4-eafb-40bd-98f6-ca28737332c9",
   "metadata": {},
   "outputs": [
    {
     "data": {
      "text/plain": [
       "array([[ 5, 11,  0],\n",
       "       [ 5, 11,  0]])"
      ]
     },
     "execution_count": 13,
     "metadata": {},
     "output_type": "execute_result"
    }
   ],
   "source": [
    "np.matmul(lis1,lis2)"
   ]
  },
  {
   "cell_type": "code",
   "execution_count": 14,
   "id": "4cd0a9d4-60cc-4507-acc0-c6b600df35a8",
   "metadata": {},
   "outputs": [],
   "source": [
    "data=np.genfromtxt('winequality-red.csv',delimiter=';',skip_header=2,usecols=(0,1,2))"
   ]
  },
  {
   "cell_type": "code",
   "execution_count": 15,
   "id": "97f7a299-ea47-49cc-bfce-101f88eb4540",
   "metadata": {},
   "outputs": [
    {
     "data": {
      "text/plain": [
       "(1598, 3)"
      ]
     },
     "execution_count": 15,
     "metadata": {},
     "output_type": "execute_result"
    }
   ],
   "source": [
    "data.shape"
   ]
  },
  {
   "cell_type": "code",
   "execution_count": 16,
   "id": "219d7ef9-bcec-4a3b-a948-fd01d87dd361",
   "metadata": {},
   "outputs": [
    {
     "name": "stdout",
     "output_type": "stream",
     "text": [
      "[[ 7.8    0.88   0.   ]\n",
      " [ 7.8    0.76   0.04 ]\n",
      " [11.2    0.28   0.56 ]\n",
      " ...\n",
      " [ 6.3    0.51   0.13 ]\n",
      " [ 5.9    0.645  0.12 ]\n",
      " [ 6.     0.31   0.47 ]]\n"
     ]
    }
   ],
   "source": [
    "print(data)"
   ]
  },
  {
   "cell_type": "code",
   "execution_count": 17,
   "id": "af25ae16-1daf-47eb-800f-37b805076d5e",
   "metadata": {},
   "outputs": [
    {
     "data": {
      "text/plain": [
       "array([[2, 3],\n",
       "       [2, 3]])"
      ]
     },
     "execution_count": 17,
     "metadata": {},
     "output_type": "execute_result"
    }
   ],
   "source": [
    "arr3"
   ]
  },
  {
   "cell_type": "code",
   "execution_count": 18,
   "id": "8990d97d-d967-484f-966e-b3bf23fc6402",
   "metadata": {},
   "outputs": [
    {
     "data": {
      "text/plain": [
       "array([ 5,  6, 12])"
      ]
     },
     "execution_count": 18,
     "metadata": {},
     "output_type": "execute_result"
    }
   ],
   "source": [
    "arr1*arr2"
   ]
  },
  {
   "cell_type": "code",
   "execution_count": 19,
   "id": "9d856479-5363-463b-8e99-cdb879a2e950",
   "metadata": {},
   "outputs": [
    {
     "data": {
      "text/plain": [
       "array([5, 3, 4])"
      ]
     },
     "execution_count": 19,
     "metadata": {},
     "output_type": "execute_result"
    }
   ],
   "source": [
    "arr1\n"
   ]
  },
  {
   "cell_type": "code",
   "execution_count": 20,
   "id": "68a73349-581f-497c-b379-af8d03674deb",
   "metadata": {},
   "outputs": [
    {
     "data": {
      "text/plain": [
       "array([1, 2, 3])"
      ]
     },
     "execution_count": 20,
     "metadata": {},
     "output_type": "execute_result"
    }
   ],
   "source": [
    "arr2"
   ]
  },
  {
   "cell_type": "code",
   "execution_count": 21,
   "id": "51b449b3-bc11-452e-b264-3bcbf812b64c",
   "metadata": {},
   "outputs": [
    {
     "name": "stdout",
     "output_type": "stream",
     "text": [
      "23\n"
     ]
    }
   ],
   "source": [
    "print(np.dot(arr1,arr2))"
   ]
  },
  {
   "cell_type": "code",
   "execution_count": 22,
   "id": "4380f160-d6e5-465c-a979-34fd5aaed29e",
   "metadata": {},
   "outputs": [],
   "source": [
    "dp=data@arr1"
   ]
  },
  {
   "cell_type": "code",
   "execution_count": 23,
   "id": "9d2dc538-4191-4689-901a-7c752b9c7781",
   "metadata": {},
   "outputs": [
    {
     "data": {
      "text/plain": [
       "(1598, 3)"
      ]
     },
     "execution_count": 23,
     "metadata": {},
     "output_type": "execute_result"
    }
   ],
   "source": [
    "data.shape"
   ]
  },
  {
   "cell_type": "code",
   "execution_count": 24,
   "id": "c3c4b13e-f2e5-4035-b839-6b9a0708349f",
   "metadata": {},
   "outputs": [
    {
     "data": {
      "text/plain": [
       "(1598,)"
      ]
     },
     "execution_count": 24,
     "metadata": {},
     "output_type": "execute_result"
    }
   ],
   "source": [
    "dp.shape"
   ]
  },
  {
   "cell_type": "code",
   "execution_count": 25,
   "id": "7cf5d970-560c-4d7a-a01f-d3bdc230c5f0",
   "metadata": {},
   "outputs": [
    {
     "data": {
      "text/plain": [
       "(3,)"
      ]
     },
     "execution_count": 25,
     "metadata": {},
     "output_type": "execute_result"
    }
   ],
   "source": [
    "arr1.shape"
   ]
  },
  {
   "cell_type": "code",
   "execution_count": 26,
   "id": "90cfe49a-68a0-4622-8227-597861173789",
   "metadata": {},
   "outputs": [
    {
     "data": {
      "text/plain": [
       "(1598,)"
      ]
     },
     "execution_count": 26,
     "metadata": {},
     "output_type": "execute_result"
    }
   ],
   "source": [
    "dp\n",
    "dp.shape"
   ]
  },
  {
   "cell_type": "code",
   "execution_count": 27,
   "id": "ac3fe834-a1b7-4860-bd60-71ef3b5b0e72",
   "metadata": {},
   "outputs": [],
   "source": [
    "res=np.concatenate((data, dp.reshape(1598,1)),axis=1)"
   ]
  },
  {
   "cell_type": "code",
   "execution_count": 28,
   "id": "46a5d9e3-2ad3-4eae-9f87-b3c539320715",
   "metadata": {},
   "outputs": [
    {
     "data": {
      "text/plain": [
       "array([[7.8000e+00, 8.8000e-01, 0.0000e+00, 4.1640e+01],\n",
       "       [7.8000e+00, 7.6000e-01, 4.0000e-02, 4.1440e+01],\n",
       "       [1.1200e+01, 2.8000e-01, 5.6000e-01, 5.9080e+01],\n",
       "       ...,\n",
       "       [6.3000e+00, 5.1000e-01, 1.3000e-01, 3.3550e+01],\n",
       "       [5.9000e+00, 6.4500e-01, 1.2000e-01, 3.1915e+01],\n",
       "       [6.0000e+00, 3.1000e-01, 4.7000e-01, 3.2810e+01]], shape=(1598, 4))"
      ]
     },
     "execution_count": 28,
     "metadata": {},
     "output_type": "execute_result"
    }
   ],
   "source": [
    "res"
   ]
  },
  {
   "cell_type": "code",
   "execution_count": 29,
   "id": "66ee48b8-37a8-42e0-8a61-5d6c29330ba0",
   "metadata": {},
   "outputs": [
    {
     "data": {
      "text/plain": [
       "dtype('float64')"
      ]
     },
     "execution_count": 29,
     "metadata": {},
     "output_type": "execute_result"
    }
   ],
   "source": [
    "res.dtype"
   ]
  },
  {
   "cell_type": "code",
   "execution_count": 30,
   "id": "4b5208e6-0a00-4dbb-b713-6c6868f8b5cc",
   "metadata": {},
   "outputs": [],
   "source": [
    "arr=np.array([[1,2,3]])"
   ]
  },
  {
   "cell_type": "code",
   "execution_count": 31,
   "id": "8d4c83fb-dd60-4c9f-9e57-195fc2d5558e",
   "metadata": {},
   "outputs": [
    {
     "data": {
      "text/plain": [
       "(1, 3)"
      ]
     },
     "execution_count": 31,
     "metadata": {},
     "output_type": "execute_result"
    }
   ],
   "source": [
    "arr.shape"
   ]
  },
  {
   "cell_type": "code",
   "execution_count": 32,
   "id": "831994b7-4aed-47b3-9389-fd3b631988b8",
   "metadata": {},
   "outputs": [
    {
     "name": "stdout",
     "output_type": "stream",
     "text": [
      "Help on _ArrayFunctionDispatcher in module numpy:\n",
      "\n",
      "reshape(a, /, shape=None, order='C', *, newshape=None, copy=None)\n",
      "    Gives a new shape to an array without changing its data.\n",
      "\n",
      "    Parameters\n",
      "    ----------\n",
      "    a : array_like\n",
      "        Array to be reshaped.\n",
      "    shape : int or tuple of ints\n",
      "        The new shape should be compatible with the original shape. If\n",
      "        an integer, then the result will be a 1-D array of that length.\n",
      "        One shape dimension can be -1. In this case, the value is\n",
      "        inferred from the length of the array and remaining dimensions.\n",
      "    order : {'C', 'F', 'A'}, optional\n",
      "        Read the elements of ``a`` using this index order, and place the\n",
      "        elements into the reshaped array using this index order. 'C'\n",
      "        means to read / write the elements using C-like index order,\n",
      "        with the last axis index changing fastest, back to the first\n",
      "        axis index changing slowest. 'F' means to read / write the\n",
      "        elements using Fortran-like index order, with the first index\n",
      "        changing fastest, and the last index changing slowest. Note that\n",
      "        the 'C' and 'F' options take no account of the memory layout of\n",
      "        the underlying array, and only refer to the order of indexing.\n",
      "        'A' means to read / write the elements in Fortran-like index\n",
      "        order if ``a`` is Fortran *contiguous* in memory, C-like order\n",
      "        otherwise.\n",
      "    newshape : int or tuple of ints\n",
      "        .. deprecated:: 2.1\n",
      "            Replaced by ``shape`` argument. Retained for backward\n",
      "            compatibility.\n",
      "    copy : bool, optional\n",
      "        If ``True``, then the array data is copied. If ``None``, a copy will\n",
      "        only be made if it's required by ``order``. For ``False`` it raises\n",
      "        a ``ValueError`` if a copy cannot be avoided. Default: ``None``.\n",
      "\n",
      "    Returns\n",
      "    -------\n",
      "    reshaped_array : ndarray\n",
      "        This will be a new view object if possible; otherwise, it will\n",
      "        be a copy.  Note there is no guarantee of the *memory layout* (C- or\n",
      "        Fortran- contiguous) of the returned array.\n",
      "\n",
      "    See Also\n",
      "    --------\n",
      "    ndarray.reshape : Equivalent method.\n",
      "\n",
      "    Notes\n",
      "    -----\n",
      "    It is not always possible to change the shape of an array without copying\n",
      "    the data.\n",
      "\n",
      "    The ``order`` keyword gives the index ordering both for *fetching*\n",
      "    the values from ``a``, and then *placing* the values into the output\n",
      "    array. For example, let's say you have an array:\n",
      "\n",
      "    >>> a = np.arange(6).reshape((3, 2))\n",
      "    >>> a\n",
      "    array([[0, 1],\n",
      "           [2, 3],\n",
      "           [4, 5]])\n",
      "\n",
      "    You can think of reshaping as first raveling the array (using the given\n",
      "    index order), then inserting the elements from the raveled array into the\n",
      "    new array using the same kind of index ordering as was used for the\n",
      "    raveling.\n",
      "\n",
      "    >>> np.reshape(a, (2, 3)) # C-like index ordering\n",
      "    array([[0, 1, 2],\n",
      "           [3, 4, 5]])\n",
      "    >>> np.reshape(np.ravel(a), (2, 3)) # equivalent to C ravel then C reshape\n",
      "    array([[0, 1, 2],\n",
      "           [3, 4, 5]])\n",
      "    >>> np.reshape(a, (2, 3), order='F') # Fortran-like index ordering\n",
      "    array([[0, 4, 3],\n",
      "           [2, 1, 5]])\n",
      "    >>> np.reshape(np.ravel(a, order='F'), (2, 3), order='F')\n",
      "    array([[0, 4, 3],\n",
      "           [2, 1, 5]])\n",
      "\n",
      "    Examples\n",
      "    --------\n",
      "    >>> import numpy as np\n",
      "    >>> a = np.array([[1,2,3], [4,5,6]])\n",
      "    >>> np.reshape(a, 6)\n",
      "    array([1, 2, 3, 4, 5, 6])\n",
      "    >>> np.reshape(a, 6, order='F')\n",
      "    array([1, 4, 2, 5, 3, 6])\n",
      "\n",
      "    >>> np.reshape(a, (3,-1))       # the unspecified value is inferred to be 2\n",
      "    array([[1, 2],\n",
      "           [3, 4],\n",
      "           [5, 6]])\n",
      "\n"
     ]
    }
   ],
   "source": [
    "help(np.reshape)\n"
   ]
  },
  {
   "cell_type": "code",
   "execution_count": 33,
   "id": "cde1fb0d-191c-45d6-9c9a-a5653c052013",
   "metadata": {},
   "outputs": [
    {
     "data": {
      "text/plain": [
       "array([5, 3, 4, 1, 2, 3])"
      ]
     },
     "execution_count": 33,
     "metadata": {},
     "output_type": "execute_result"
    }
   ],
   "source": [
    "np.concatenate((arr1,arr2),axis=0)"
   ]
  },
  {
   "cell_type": "code",
   "execution_count": 34,
   "id": "3fa38ccd-f3e4-4242-bcd7-4aba2f3be1e7",
   "metadata": {},
   "outputs": [
    {
     "data": {
      "text/plain": [
       "(3,)"
      ]
     },
     "execution_count": 34,
     "metadata": {},
     "output_type": "execute_result"
    }
   ],
   "source": [
    "arr1.shape"
   ]
  },
  {
   "cell_type": "code",
   "execution_count": 35,
   "id": "b24bda1f-e6cf-4f40-bfe7-4286a73ace26",
   "metadata": {},
   "outputs": [
    {
     "data": {
      "text/plain": [
       "(1598, 4)"
      ]
     },
     "execution_count": 35,
     "metadata": {},
     "output_type": "execute_result"
    }
   ],
   "source": [
    "res.shape"
   ]
  },
  {
   "cell_type": "code",
   "execution_count": 36,
   "id": "92ba2ac4-fdb7-4bff-9314-7df3497c911d",
   "metadata": {},
   "outputs": [],
   "source": [
    "np.savetxt('result.csv',res,delimiter=',',fmt='%.2f',header='yes,no,why,wow',comments='')"
   ]
  },
  {
   "cell_type": "code",
   "execution_count": 37,
   "id": "e8e882ba-b3f2-4b77-a4bc-e8fd2c41fba1",
   "metadata": {},
   "outputs": [],
   "source": [
    "import numpy as np\n",
    "newdata=np.genfromtxt('result.csv',delimiter=',',skip_header=1)"
   ]
  },
  {
   "cell_type": "code",
   "execution_count": 38,
   "id": "f32fc1a3-979f-46db-ab83-419647985536",
   "metadata": {},
   "outputs": [
    {
     "data": {
      "text/plain": [
       "array([[7.800e+00, 8.800e-01, 0.000e+00, 4.164e+01],\n",
       "       [7.800e+00, 7.600e-01, 4.000e-02, 4.144e+01],\n",
       "       [1.120e+01, 2.800e-01, 5.600e-01, 5.908e+01],\n",
       "       ...,\n",
       "       [6.300e+00, 5.100e-01, 1.300e-01, 3.355e+01],\n",
       "       [5.900e+00, 6.500e-01, 1.200e-01, 3.192e+01],\n",
       "       [6.000e+00, 3.100e-01, 4.700e-01, 3.281e+01]], shape=(1598, 4))"
      ]
     },
     "execution_count": 38,
     "metadata": {},
     "output_type": "execute_result"
    }
   ],
   "source": [
    "newdata\n"
   ]
  },
  {
   "cell_type": "code",
   "execution_count": 39,
   "id": "b47ac23c-8321-452c-ad9e-fca9aa3660c0",
   "metadata": {},
   "outputs": [],
   "source": [
    "np.savetxt('wow.csv',newdata,delimiter=';',fmt='%.1f',header='yes;no;wow;jao',comments='')"
   ]
  },
  {
   "cell_type": "code",
   "execution_count": 40,
   "id": "a8d1d0fa-0359-431d-b365-38a478e1a701",
   "metadata": {},
   "outputs": [],
   "source": [
    "array1=np.array([[1,2],\n",
    "                 [1,2]])"
   ]
  },
  {
   "cell_type": "code",
   "execution_count": 41,
   "id": "2e461322-506d-411c-95ae-f4c7aca4690f",
   "metadata": {},
   "outputs": [],
   "source": [
    "array2=np.array([1,2,3,4])"
   ]
  },
  {
   "cell_type": "code",
   "execution_count": 42,
   "id": "5e6dd86a-2f93-4789-be6b-180cd1045a11",
   "metadata": {},
   "outputs": [
    {
     "data": {
      "text/plain": [
       "array([[1, 2, 1, 2],\n",
       "       [1, 2, 3, 4]])"
      ]
     },
     "execution_count": 42,
     "metadata": {},
     "output_type": "execute_result"
    }
   ],
   "source": [
    "np.concatenate((array1,array2.reshape(2,2)),axis=1)"
   ]
  },
  {
   "cell_type": "code",
   "execution_count": 43,
   "id": "d883984a-4df4-4198-a46d-e96b46b4e955",
   "metadata": {},
   "outputs": [
    {
     "data": {
      "text/plain": [
       "(2, 2)"
      ]
     },
     "execution_count": 43,
     "metadata": {},
     "output_type": "execute_result"
    }
   ],
   "source": [
    "array1.shape"
   ]
  },
  {
   "cell_type": "code",
   "execution_count": 44,
   "id": "aba913d7-c739-40e8-9682-abfc9efa92cf",
   "metadata": {},
   "outputs": [
    {
     "data": {
      "text/plain": [
       "(4,)"
      ]
     },
     "execution_count": 44,
     "metadata": {},
     "output_type": "execute_result"
    }
   ],
   "source": [
    "array2.shape"
   ]
  },
  {
   "cell_type": "raw",
   "id": "e3a318a5-56b4-4388-b76e-2141d948ea2e",
   "metadata": {},
   "source": [
    "array2.shape"
   ]
  },
  {
   "cell_type": "code",
   "execution_count": 45,
   "id": "dff35a4b-451e-407c-9ebd-3fe892c3b9e3",
   "metadata": {},
   "outputs": [
    {
     "data": {
      "text/plain": [
       "(2, 2)"
      ]
     },
     "execution_count": 45,
     "metadata": {},
     "output_type": "execute_result"
    }
   ],
   "source": [
    "array1.shape"
   ]
  },
  {
   "cell_type": "code",
   "execution_count": 46,
   "id": "3a1c78ca-19a8-4051-b7ba-098803cd7bc7",
   "metadata": {},
   "outputs": [
    {
     "data": {
      "text/plain": [
       "(4,)"
      ]
     },
     "execution_count": 46,
     "metadata": {},
     "output_type": "execute_result"
    }
   ],
   "source": [
    "array2.shape"
   ]
  },
  {
   "cell_type": "code",
   "execution_count": 47,
   "id": "fa241583-b0a4-40af-9cac-63282fdc9ca1",
   "metadata": {},
   "outputs": [
    {
     "data": {
      "text/plain": [
       "array([[1, 2],\n",
       "       [3, 4]])"
      ]
     },
     "execution_count": 47,
     "metadata": {},
     "output_type": "execute_result"
    }
   ],
   "source": [
    "array2.reshape(2,2)"
   ]
  },
  {
   "cell_type": "code",
   "execution_count": 48,
   "id": "a40dcfea-502c-45f3-9a32-92208300df24",
   "metadata": {},
   "outputs": [
    {
     "data": {
      "text/plain": [
       "(4,)"
      ]
     },
     "execution_count": 48,
     "metadata": {},
     "output_type": "execute_result"
    }
   ],
   "source": [
    "array2.shape"
   ]
  },
  {
   "cell_type": "code",
   "execution_count": 49,
   "id": "fcb68d01-f307-48da-be27-801c90781064",
   "metadata": {},
   "outputs": [
    {
     "data": {
      "text/plain": [
       "array([[2, 4],\n",
       "       [4, 6]])"
      ]
     },
     "execution_count": 49,
     "metadata": {},
     "output_type": "execute_result"
    }
   ],
   "source": [
    "array2.reshape(2,2)+array1"
   ]
  },
  {
   "cell_type": "code",
   "execution_count": 50,
   "id": "94b2f37b-59fd-4830-9145-8de9196e9459",
   "metadata": {},
   "outputs": [
    {
     "data": {
      "text/plain": [
       "array([[1, 2, 3, 4]])"
      ]
     },
     "execution_count": 50,
     "metadata": {},
     "output_type": "execute_result"
    }
   ],
   "source": [
    "array2.reshape(1,4)"
   ]
  },
  {
   "cell_type": "code",
   "execution_count": 51,
   "id": "f9c210d2-556a-42a3-bf84-2a8c1b846b2a",
   "metadata": {},
   "outputs": [],
   "source": [
    "array3=np.array([[[[1,2,3],\n",
    "                  [1,2,3]]],\n",
    "                 [[[1,2,3],\n",
    "                  [1,2,3]]]])"
   ]
  },
  {
   "cell_type": "code",
   "execution_count": 52,
   "id": "59a10bbc-b5b6-4a24-a816-1e23541727e1",
   "metadata": {},
   "outputs": [
    {
     "data": {
      "text/plain": [
       "(2, 1, 2, 3)"
      ]
     },
     "execution_count": 52,
     "metadata": {},
     "output_type": "execute_result"
    }
   ],
   "source": [
    "array3.shape"
   ]
  },
  {
   "cell_type": "code",
   "execution_count": 53,
   "id": "e0b51baa-b74c-4fe4-84f9-aec556c16e37",
   "metadata": {},
   "outputs": [],
   "source": [
    "array4=np.array([1,2,3])"
   ]
  },
  {
   "cell_type": "code",
   "execution_count": 54,
   "id": "6f9a2824-62be-48a5-b973-32eb38514275",
   "metadata": {},
   "outputs": [
    {
     "data": {
      "text/plain": [
       "array([[[[2, 4, 6],\n",
       "         [2, 4, 6]]],\n",
       "\n",
       "\n",
       "       [[[2, 4, 6],\n",
       "         [2, 4, 6]]]])"
      ]
     },
     "execution_count": 54,
     "metadata": {},
     "output_type": "execute_result"
    }
   ],
   "source": [
    "array3+array4"
   ]
  },
  {
   "cell_type": "code",
   "execution_count": 55,
   "id": "e901ae32-6fe1-4025-babd-c315e05b8383",
   "metadata": {},
   "outputs": [
    {
     "data": {
      "text/plain": [
       "array([[[[2, 4, 6],\n",
       "         [2, 4, 6]]],\n",
       "\n",
       "\n",
       "       [[[2, 4, 6],\n",
       "         [2, 4, 6]]]])"
      ]
     },
     "execution_count": 55,
     "metadata": {},
     "output_type": "execute_result"
    }
   ],
   "source": [
    "array4+array3"
   ]
  },
  {
   "cell_type": "code",
   "execution_count": 56,
   "id": "b77042cb-2dc8-417d-b689-86cfd2cb3d32",
   "metadata": {},
   "outputs": [
    {
     "name": "stdout",
     "output_type": "stream",
     "text": [
      "[  7.23799084  -2.39165081  23.67598378 -15.65648805 -13.96221581\n",
      "   2.64900692]\n"
     ]
    },
    {
     "data": {
      "image/png": "[encoded data removed]",
      "text/plain": [
       "<Figure size 640x480 with 1 Axes>"
      ]
     },
     "metadata": {},
     "output_type": "display_data"
    }
   ],
   "source": [
    "import matplotlib.pyplot as plt\n",
    "import numpy as np\n",
    "\n",
    "# Generate 10,000 random numbers\n",
    "data = 5+15*np.random.randn(6)\n",
    "print(data)\n",
    "# Plot histogram\n",
    "plt.hist(data, bins=50, density=True, alpha=0.6, color='b')\n",
    "\n",
    "# Show plot\n",
    "plt.title(\"Histogram of randn() values\")\n",
    "plt.xlabel(\"Value\")\n",
    "plt.ylabel(\"Frequency\")\n",
    "plt.show()\n"
   ]
  },
  {
   "cell_type": "code",
   "execution_count": 57,
   "id": "39d2af4c-acc1-4088-b8af-58691e99f8fb",
   "metadata": {},
   "outputs": [
    {
     "data": {
      "text/plain": [
       "array([[[ 2],\n",
       "        [ 4]],\n",
       "\n",
       "       [[ 6],\n",
       "        [ 8]],\n",
       "\n",
       "       [[10],\n",
       "        [12]],\n",
       "\n",
       "       [[14],\n",
       "        [16]],\n",
       "\n",
       "       [[18],\n",
       "        [20]],\n",
       "\n",
       "       [[22],\n",
       "        [24]],\n",
       "\n",
       "       [[26],\n",
       "        [28]]])"
      ]
     },
     "execution_count": 57,
     "metadata": {},
     "output_type": "execute_result"
    }
   ],
   "source": [
    "np.arange(2,30,2).reshape(7,2,1)"
   ]
  },
  {
   "cell_type": "code",
   "execution_count": 58,
   "id": "2f9ca379-2ba7-4589-bcd5-5073f29ef789",
   "metadata": {},
   "outputs": [],
   "source": [
    "arr=np.linspace(1,20,10).reshape(2,5)"
   ]
  },
  {
   "cell_type": "code",
   "execution_count": 59,
   "id": "2a94ff17-2c66-45cb-b19c-2b4ec39c9973",
   "metadata": {},
   "outputs": [
    {
     "name": "stdout",
     "output_type": "stream",
     "text": [
      "[[[ 1.  2.  3.  4.  5.]\n",
      "  [ 6.  7.  8.  9. 10.]\n",
      "  [11. 12. 13. 14. 15.]]\n",
      "\n",
      " [[16. 17. 18. 19. 20.]\n",
      "  [21. 22. 23. 24. 25.]\n",
      "  [26. 27. 28. 29. 30.]]]\n"
     ]
    }
   ],
   "source": [
    "import numpy as np\n",
    "\n",
    "# Create a 3D array with 30 values, reshaped into (2, 3, 5)\n",
    "arr_3d = np.linspace(1, 30, 30).reshape(2, 3, 5)\n",
    "\n",
    "# Round to 2 decimal places\n",
    "rounded_arr_3d = np.round(arr_3d, 2)\n",
    "\n",
    "print(rounded_arr_3d)\n"
   ]
  },
  {
   "cell_type": "code",
   "execution_count": 60,
   "id": "edb5bb8a-9aa4-45eb-80bb-91f5787e14ca",
   "metadata": {},
   "outputs": [
    {
     "name": "stdout",
     "output_type": "stream",
     "text": [
      "['1.00', '2.00', '3.00', '4.00', '5.00']\n",
      "['6.00', '7.00', '8.00', '9.00', '10.00']\n",
      "['11.00', '12.00', '13.00', '14.00', '15.00']\n",
      "['16.00', '17.00', '18.00', '19.00', '20.00']\n",
      "['21.00', '22.00', '23.00', '24.00', '25.00']\n",
      "['26.00', '27.00', '28.00', '29.00', '30.00']\n"
     ]
    }
   ],
   "source": [
    "for matrix in rounded_arr_3d:\n",
    "    for row in matrix:\n",
    "        print([\"{:.2f}\".format(num) for num in row])\n"
   ]
  },
  {
   "cell_type": "code",
   "execution_count": 61,
   "id": "584f33a4-4db5-4713-9bdb-16a2b7ccbab6",
   "metadata": {},
   "outputs": [],
   "source": [
    "zero=np.zeros((1,1))"
   ]
  },
  {
   "cell_type": "code",
   "execution_count": 62,
   "id": "8c475381-968c-4798-ba32-d82be9e8ff86",
   "metadata": {},
   "outputs": [],
   "source": [
    "one=np.ones((1,2))"
   ]
  },
  {
   "cell_type": "code",
   "execution_count": 63,
   "id": "d2852686-2626-43fe-a331-b951f935e582",
   "metadata": {},
   "outputs": [
    {
     "data": {
      "text/plain": [
       "array([[0.],\n",
       "       [1.],\n",
       "       [1.]])"
      ]
     },
     "execution_count": 63,
     "metadata": {},
     "output_type": "execute_result"
    }
   ],
   "source": [
    "np.concatenate((zero,one.reshape(2,1)),axis=0)"
   ]
  },
  {
   "cell_type": "code",
   "execution_count": 64,
   "id": "9c417ff6-f2c7-4290-9cd2-b6522458047e",
   "metadata": {},
   "outputs": [],
   "source": [
    "daty=np.genfromtxt(\"nyc_taxis.csv\",delimiter=',',dtype=float,skip_header=True)"
   ]
  },
  {
   "cell_type": "code",
   "execution_count": 65,
   "id": "44ac4a6b-7b75-4589-91de-3b11d373dc8e",
   "metadata": {},
   "outputs": [
    {
     "name": "stdout",
     "output_type": "stream",
     "text": [
      "[[2.016e+03 1.000e+00 1.000e+00 ... 1.165e+01 6.999e+01 1.000e+00]\n",
      " [2.016e+03 1.000e+00 1.000e+00 ... 8.000e+00 5.430e+01 1.000e+00]\n",
      " [2.016e+03 1.000e+00 1.000e+00 ... 0.000e+00 3.780e+01 2.000e+00]\n",
      " ...\n",
      " [2.016e+03 6.000e+00 3.000e+01 ... 5.000e+00 6.334e+01 1.000e+00]\n",
      " [2.016e+03 6.000e+00 3.000e+01 ... 8.950e+00 4.475e+01 1.000e+00]\n",
      " [2.016e+03 6.000e+00 3.000e+01 ... 0.000e+00 5.484e+01 2.000e+00]]\n"
     ]
    }
   ],
   "source": [
    "print(daty)"
   ]
  },
  {
   "cell_type": "markdown",
   "id": "532788ca",
   "metadata": {},
   "source": [
    "#  converting system of linear equactions into metrices\n",
    "\n",
    "#     -x+3y=7\n",
    "#     3x+2y=1     \n"
   ]
  },
  {
   "cell_type": "code",
   "execution_count": 66,
   "id": "0ad02884",
   "metadata": {},
   "outputs": [
    {
     "name": "stdout",
     "output_type": "stream",
     "text": [
      "Matrix A=[[-1.  3.]\n",
      " [ 3.  2.]]\n",
      "Matrix B=[7. 1.]\n"
     ]
    }
   ],
   "source": [
    "A=np.array([[-1,3],\n",
    "            [3,2]],dtype=np.dtype(float))\n",
    "B=np.array([7,1],dtype=np.dtype(float))\n",
    "print(f\"Matrix A={A}\")\n",
    "print(f\"Matrix B={B}\")\n"
   ]
  },
  {
   "cell_type": "markdown",
   "id": "378fd3dc",
   "metadata": {
    "slideshow": {
     "slide_type": "slide"
    }
   },
   "source": [
    "# finding solution for the system 0f linear equations\n",
    "# using numpy.linalg.solve()"
   ]
  },
  {
   "cell_type": "code",
   "execution_count": 67,
   "id": "349dc22d",
   "metadata": {},
   "outputs": [
    {
     "name": "stdout",
     "output_type": "stream",
     "text": [
      "x=[-1.  2.]\n"
     ]
    }
   ],
   "source": [
    "x=np.linalg.solve(A,B)\n",
    "print(f\"x={x}\")"
   ]
  },
  {
   "cell_type": "code",
   "execution_count": null,
   "id": "571463c7",
   "metadata": {},
   "outputs": [],
   "source": []
  },
  {
   "cell_type": "markdown",
   "id": "d5377772",
   "metadata": {},
   "source": [
    "#  the above given system of linear equations gives a square matrix of 2x2 and a vector of 2x1\n",
    "# in case of square matrix it is possible to calculate determinant of the matrix \n",
    "# and if the determinant is not equal to zero then the matrix is invertible and\n",
    "#  the solution of the system of linear equations can be found using the formula x=A^(-1)B\n"
   ]
  },
  {
   "cell_type": "code",
   "execution_count": 68,
   "id": "4680b076",
   "metadata": {},
   "outputs": [
    {
     "name": "stdout",
     "output_type": "stream",
     "text": [
      "Determinant of A=-11.000000000000002\n"
     ]
    }
   ],
   "source": [
    "#Calculating determinant\n",
    "det_A=np.linalg.det(A)\n",
    "print(f\"Determinant of A={det_A}\")"
   ]
  },
  {
   "cell_type": "markdown",
   "id": "faf6cbf7",
   "metadata": {},
   "source": [
    "Notice that the determinant is non zero as expected\n"
   ]
  },
  {
   "cell_type": "code",
   "execution_count": null,
   "id": "36fd6215",
   "metadata": {},
   "outputs": [],
   "source": []
  },
  {
   "cell_type": "markdown",
   "id": "d97a6a5e",
   "metadata": {
    "slideshow": {
     "slide_type": "slide"
    }
   },
   "source": [
    "Solving system of linear equations using elemination method"
   ]
  },
  {
   "cell_type": "code",
   "execution_count": 69,
   "id": "bbf9f55a",
   "metadata": {},
   "outputs": [
    {
     "name": "stdout",
     "output_type": "stream",
     "text": [
      "Help on _ArrayFunctionDispatcher in module numpy:\n",
      "\n",
      "hstack(tup, *, dtype=None, casting='same_kind')\n",
      "    Stack arrays in sequence horizontally (column wise).\n",
      "\n",
      "    This is equivalent to concatenation along the second axis, except for 1-D\n",
      "    arrays where it concatenates along the first axis. Rebuilds arrays divided\n",
      "    by `hsplit`.\n",
      "\n",
      "    This function makes most sense for arrays with up to 3 dimensions. For\n",
      "    instance, for pixel-data with a height (first axis), width (second axis),\n",
      "    and r/g/b channels (third axis). The functions `concatenate`, `stack` and\n",
      "    `block` provide more general stacking and concatenation operations.\n",
      "\n",
      "    Parameters\n",
      "    ----------\n",
      "    tup : sequence of ndarrays\n",
      "        The arrays must have the same shape along all but the second axis,\n",
      "        except 1-D arrays which can be any length. In the case of a single\n",
      "        array_like input, it will be treated as a sequence of arrays; i.e.,\n",
      "        each element along the zeroth axis is treated as a separate array.\n",
      "\n",
      "    dtype : str or dtype\n",
      "        If provided, the destination array will have this dtype. Cannot be\n",
      "        provided together with `out`.\n",
      "\n",
      "        .. versionadded:: 1.24\n",
      "\n",
      "    casting : {'no', 'equiv', 'safe', 'same_kind', 'unsafe'}, optional\n",
      "        Controls what kind of data casting may occur. Defaults to 'same_kind'.\n",
      "\n",
      "        .. versionadded:: 1.24\n",
      "\n",
      "    Returns\n",
      "    -------\n",
      "    stacked : ndarray\n",
      "        The array formed by stacking the given arrays.\n",
      "\n",
      "    See Also\n",
      "    --------\n",
      "    concatenate : Join a sequence of arrays along an existing axis.\n",
      "    stack : Join a sequence of arrays along a new axis.\n",
      "    block : Assemble an nd-array from nested lists of blocks.\n",
      "    vstack : Stack arrays in sequence vertically (row wise).\n",
      "    dstack : Stack arrays in sequence depth wise (along third axis).\n",
      "    column_stack : Stack 1-D arrays as columns into a 2-D array.\n",
      "    hsplit : Split an array into multiple sub-arrays\n",
      "             horizontally (column-wise).\n",
      "    unstack : Split an array into a tuple of sub-arrays along an axis.\n",
      "\n",
      "    Examples\n",
      "    --------\n",
      "    >>> import numpy as np\n",
      "    >>> a = np.array((1,2,3))\n",
      "    >>> b = np.array((4,5,6))\n",
      "    >>> np.hstack((a,b))\n",
      "    array([1, 2, 3, 4, 5, 6])\n",
      "    >>> a = np.array([[1],[2],[3]])\n",
      "    >>> b = np.array([[4],[5],[6]])\n",
      "    >>> np.hstack((a,b))\n",
      "    array([[1, 4],\n",
      "           [2, 5],\n",
      "           [3, 6]])\n",
      "\n"
     ]
    }
   ],
   "source": [
    "help(np.hstack)"
   ]
  },
  {
   "cell_type": "code",
   "execution_count": 70,
   "id": "4a49de28",
   "metadata": {},
   "outputs": [
    {
     "name": "stdout",
     "output_type": "stream",
     "text": [
      "Matrix A_system=[[-1.  3.  7.]\n",
      " [ 3.  2.  1.]]\n"
     ]
    }
   ],
   "source": [
    "A_system=np.concatenate((A,B.reshape(2,1)),axis=1)\n",
    "print(f\"Matrix A_system={A_system}\")"
   ]
  },
  {
   "cell_type": "code",
   "execution_count": 71,
   "id": "c807f12b",
   "metadata": {},
   "outputs": [
    {
     "name": "stdout",
     "output_type": "stream",
     "text": [
      "[3. 2. 1.]\n"
     ]
    }
   ],
   "source": [
    "print(A_system[1])"
   ]
  },
  {
   "cell_type": "code",
   "execution_count": 72,
   "id": "8ac823c9",
   "metadata": {},
   "outputs": [],
   "source": [
    "A_sys_res=A_system.copy()\n",
    "\n"
   ]
  },
  {
   "cell_type": "code",
   "execution_count": 73,
   "id": "ce6ac299",
   "metadata": {},
   "outputs": [
    {
     "name": "stdout",
     "output_type": "stream",
     "text": [
      "Matrix A_sys_res=[[-1.  3.  7.]\n",
      " [ 0. 11. 22.]]\n"
     ]
    }
   ],
   "source": [
    "A_sys_res[1]=3*A_sys_res[0]+A_sys_res[1]\n",
    "print(f\"Matrix A_sys_res={A_sys_res}\")"
   ]
  },
  {
   "cell_type": "code",
   "execution_count": 74,
   "id": "322bd44d",
   "metadata": {},
   "outputs": [
    {
     "name": "stdout",
     "output_type": "stream",
     "text": [
      "Matrix A_sys_res=[[-1.  3.  7.]\n",
      " [ 0.  1.  2.]]\n"
     ]
    }
   ],
   "source": [
    "A_sys_res[1]=1/11*A_sys_res[1]\n",
    "print(f\"Matrix A_sys_res={A_sys_res}\")"
   ]
  },
  {
   "cell_type": "code",
   "execution_count": 75,
   "id": "72ab2040",
   "metadata": {},
   "outputs": [
    {
     "name": "stdout",
     "output_type": "stream",
     "text": [
      "[0. 1. 2.]\n"
     ]
    }
   ],
   "source": [
    "print(A_sys_res[1])"
   ]
  },
  {
   "cell_type": "markdown",
   "id": "88a32cc1",
   "metadata": {},
   "source": [
    "As row 2 has equation 0x+y=2 so value for y is 2 i.e y=2 and for x\n",
    "we will put value of y in 1st equation i.e -x+3(2)=7 -> -x=7-6-> x=-1"
   ]
  },
  {
   "cell_type": "markdown",
   "id": "d82efc5c",
   "metadata": {},
   "source": [
    "GRAPHICAL REPRESENTATION OF SOLUTION:"
   ]
  },
  {
   "cell_type": "code",
   "execution_count": 76,
   "id": "3d7524f8",
   "metadata": {},
   "outputs": [],
   "source": [
    "import matplotlib.pyplot as plt\n",
    "\n",
    "def plot_lines(M):\n",
    "      x1=np.linspace(-10,10,100)\n",
    "      y1=(M[0,2]-M[0,0]*x1)/M[0,1]\n",
    "      y2=(M[1,2]-M[1,0]*x1)/M[1,1]\n",
    "      _,ax=plt.subplots(figsize=(10,10))\n",
    "      ax.plot(x1,y1,'-',linewidth=2,color='red',label='3x1+2x2=7')\n",
    "      ax.plot(x1,y2,'-',linewidth=2,color='blue',label='3x1+2x2=1')\n",
    "\n",
    "      A=M[:,0:-1]\n",
    "      b=M[:, -1::].flatten()\n",
    "      d=np.linalg.det(A)\n",
    "      if d!=0:\n",
    "          solution=np.linalg.solve(A,b)\n",
    "          ax.plot(solution[0],solution[1],'o',markersize=10,color='black',markeredgecolor='black',markeredgewidth=2)\n",
    "          ax.text(solution[0]-0.25,solution[1]+0.75,f\"${solution[0]:.0f},{solution[1]:.0f}$\",fontsize=12)\n",
    "          ax.tick_params(axis='x',labelsize=14)\n",
    "          ax.tick_params(axis='y',labelsize=14)\n",
    "          ax.set_xticks(np.arange(-10,10))\n",
    "          ax.set_yticks(np.arange(-10,10))\n",
    "          ax.set_xlabel('x1',fontsize=14)\n",
    "          ax.set_ylabel('x2',fontsize=14)\n",
    "          plt.legend(loc='upper right',fontsize=14)\n",
    "          plt.axis([-10,10,-10,10])\n",
    "          plt.grid()          \n",
    "          plt.gca().set_aspect('equal')\n",
    "\n",
    "          plt.show()\n",
    "      \n",
    "      \n"
   ]
  },
  {
   "cell_type": "code",
   "execution_count": 77,
   "id": "e488da50",
   "metadata": {},
   "outputs": [
    {
     "data": {
      "image/png": "[encoded data removed]",
      "text/plain": [
       "<Figure size 1000x1000 with 1 Axes>"
      ]
     },
     "metadata": {},
     "output_type": "display_data"
    }
   ],
   "source": [
    "\n",
    "plot_lines(A_sys_res)"
   ]
  },
  {
   "cell_type": "markdown",
   "id": "65bb9f25",
   "metadata": {},
   "source": [
    "```markdown\n",
    "# System of Linear Equations with No Solution\n",
    "\n",
    "The equations are:\n",
    "\n",
    "- \\( -x + 3y = 7 \\)  \n",
    "- \\( 3x - 9y = 1 \\)\n",
    "```"
   ]
  },
  {
   "cell_type": "code",
   "execution_count": 78,
   "id": "596f96f0",
   "metadata": {},
   "outputs": [
    {
     "name": "stdout",
     "output_type": "stream",
     "text": [
      "Determinant of A3=0.0\n"
     ]
    }
   ],
   "source": [
    "A2=np.array([[-1,3,7],\n",
    "             [3,-9,1]])\n",
    "A3=A2[:,0:-1]\n",
    "b2=A2[:,-1::].flatten()\n",
    "d3=np.linalg.det(A3)\n",
    "print(f\"Determinant of A3={d3}\")\n"
   ]
  },
  {
   "cell_type": "code",
   "execution_count": 79,
   "id": "04d3986b",
   "metadata": {},
   "outputs": [
    {
     "name": "stdout",
     "output_type": "stream",
     "text": [
      "it is Singular matrix\n"
     ]
    }
   ],
   "source": [
    "try:\n",
    "    x2=np.linalg.solve(A3,b2)\n",
    "    print(f\"x2={x2}\")\n",
    "except np.linalg.LinAlgError as err:\n",
    "    print(f\"it is {err}\")"
   ]
  },
  {
   "cell_type": "code",
   "execution_count": 80,
   "id": "d000fbd4",
   "metadata": {},
   "outputs": [
    {
     "name": "stdout",
     "output_type": "stream",
     "text": [
      "Matrix A2_res=[[-1  3  7]\n",
      " [ 0  0 22]]\n"
     ]
    }
   ],
   "source": [
    "# lets try to apply elemination method\n",
    "A2_res=A2.copy()\n",
    "A2_res[1]=3*A2_res[0]+A2_res[1]\n",
    "print(f\"Matrix A2_res={A2_res}\")"
   ]
  },
  {
   "cell_type": "markdown",
   "id": "cac6d9d5",
   "metadata": {},
   "source": [
    "As in above system the second eq become 0+0=22 its mean it has no solution\n"
   ]
  },
  {
   "cell_type": "code",
   "execution_count": 81,
   "id": "ab37f07e",
   "metadata": {},
   "outputs": [
    {
     "name": "stderr",
     "output_type": "stream",
     "text": [
      "/var/folders/6n/ndsjwkks0kn541czwk8ff3hc0000gn/T/ipykernel_15709/2664307109.py:6: RuntimeWarning: divide by zero encountered in divide\n",
      "  y2=(M[1,2]-M[1,0]*x1)/M[1,1]\n"
     ]
    },
    {
     "data": {
      "image/png": "[encoded data removed]",
      "text/plain": [
       "<Figure size 1000x1000 with 1 Axes>"
      ]
     },
     "metadata": {},
     "output_type": "display_data"
    },
    {
     "data": {
      "image/png": "[encoded data removed]",
      "text/plain": [
       "<Figure size 1000x1000 with 1 Axes>"
      ]
     },
     "metadata": {},
     "output_type": "display_data"
    }
   ],
   "source": [
    "plot_lines(A2)\n",
    "plot_lines(A2_res)"
   ]
  },
  {
   "cell_type": "markdown",
   "id": "523ae1f1",
   "metadata": {},
   "source": [
    "```markdown\n",
    "# System of Linear Equations with Infinite Solutions\n",
    "\n",
    "The equations are:\n",
    "\n",
    "- \\( -x + 3y = 7 \\)  \n",
    "- \\( 3x - 9y = -21 \\)\n",
    "```"
   ]
  },
  {
   "cell_type": "code",
   "execution_count": 82,
   "id": "665f682a",
   "metadata": {},
   "outputs": [],
   "source": [
    "A5=A2[:,0:-1]"
   ]
  },
  {
   "cell_type": "code",
   "execution_count": 83,
   "id": "c08c91d8",
   "metadata": {},
   "outputs": [
    {
     "name": "stdout",
     "output_type": "stream",
     "text": [
      "Matrix A3=[[ -1   3   7]\n",
      " [  3  -9 -21]]\n"
     ]
    }
   ],
   "source": [
    "b3=np.array([7,-21])\n",
    "A5=np.concatenate((A5,b3.reshape(2,1)),axis=1)\n",
    "print(f\"Matrix A3={A5}\")\n"
   ]
  },
  {
   "cell_type": "code",
   "execution_count": 84,
   "id": "0cc5c333",
   "metadata": {},
   "outputs": [
    {
     "name": "stdout",
     "output_type": "stream",
     "text": [
      "Matrix A5_res=[[-1  3  7]\n",
      " [ 0  0  0]]\n"
     ]
    }
   ],
   "source": [
    "A5_res=A5.copy()\n",
    "A5_res[1]=3*A5_res[0]+A5_res[1]\n",
    "print(f\"Matrix A5_res={A5_res}\")"
   ]
  },
  {
   "cell_type": "markdown",
   "id": "8646b75a",
   "metadata": {},
   "source": [
    "The 2nd equation become 0=0\n",
    "SO, the solutions of linear system are: x=3y-7"
   ]
  },
  {
   "cell_type": "markdown",
   "id": "0d7f64a0",
   "metadata": {},
   "source": [
    "Lets plot the graph for this system"
   ]
  },
  {
   "cell_type": "code",
   "execution_count": 85,
   "id": "1949a41d",
   "metadata": {},
   "outputs": [
    {
     "name": "stderr",
     "output_type": "stream",
     "text": [
      "/var/folders/6n/ndsjwkks0kn541czwk8ff3hc0000gn/T/ipykernel_15709/2664307109.py:6: RuntimeWarning: invalid value encountered in divide\n",
      "  y2=(M[1,2]-M[1,0]*x1)/M[1,1]\n"
     ]
    },
    {
     "data": {
      "image/png": "[encoded data removed]",
      "text/plain": [
       "<Figure size 1000x1000 with 1 Axes>"
      ]
     },
     "metadata": {},
     "output_type": "display_data"
    }
   ],
   "source": [
    "plot_lines(A5_res)"
   ]
  },
  {
   "cell_type": "markdown",
   "id": "8a67075a",
   "metadata": {},
   "source": [
    "Quiz"
   ]
  },
  {
   "cell_type": "code",
   "execution_count": 86,
   "id": "ef713e44",
   "metadata": {},
   "outputs": [
    {
     "name": "stdout",
     "output_type": "stream",
     "text": [
      "Select one of the options given:\n"
     ]
    },
    {
     "data": {
      "application/vnd.jupyter.widget-view+json": {
       "model_id": "80ce6d5c905048509b11d0b97e7573ee",
       "version_major": 2,
       "version_minor": 0
      },
      "text/plain": [
       "interactive(children=(Dropdown(description='Answer:', layout=Layout(width='25%'), options=('A', 'B', 'C', 'D')…"
      ]
     },
     "metadata": {},
     "output_type": "display_data"
    }
   ],
   "source": [
    "import ipywidgets as widgets\n",
    "from ipywidgets import interact, Dropdown\n",
    "from IPython.display import display, HTML\n",
    "\n",
    "question1 = \"Select one of the options given:\"\n",
    "solution1 = {\n",
    "    'A': \"<span style='color: red;'>Not quite. While both functions are used to create empty arrays, np.zeros() is initialized with the value 0.</span>\",\n",
    "    'B': \"<span style='color: red;'>Not quite. np.zeros() is initialized, and it gives an output of 0's.</span>\",\n",
    "    'C': \"<span style='color: red;'>Not quite. Most often, np.empty() is faster since it is not initialized.</span>\",\n",
    "    'D': \"<span style='color: green;'>True! np.empty() creates an array with uninitialized elements from available memory space and may be faster to execute.</span>\"\n",
    "}\n",
    "\n",
    "def mcq(question, solution):\n",
    "    print(question)  # Print the question\n",
    "    \n",
    "    answer_w = Dropdown(\n",
    "        options=solution.keys(),\n",
    "        value=None,\n",
    "        description=\"Answer:\",\n",
    "        layout=widgets.Layout(width='25%')\n",
    "    )\n",
    "\n",
    "    @interact(Answer=answer_w)\n",
    "    def display_answer(Answer):\n",
    "        if Answer:\n",
    "            display(HTML(solution[Answer]))\n",
    "\n",
    "# Run the function to show the quiz\n",
    "mcq(question1, solution1)\n"
   ]
  },
  {
   "cell_type": "markdown",
   "id": "cd01cffe",
   "metadata": {},
   "source": [
    "Now solving using row reduction "
   ]
  },
  {
   "cell_type": "code",
   "execution_count": 104,
   "id": "e4649b65",
   "metadata": {},
   "outputs": [
    {
     "data": {
      "image/png": "[encoded data removed]",
      "text/plain": [
       "<Figure size 1000x1000 with 1 Axes>"
      ]
     },
     "metadata": {},
     "output_type": "display_data"
    }
   ],
   "source": [
    "import matplotlib.pyplot as plt\n",
    "\n",
    "def plot_vectors(list_v, list_label, list_color):\n",
    "    _, ax = plt.subplots(figsize=(10, 10))\n",
    "    ax.tick_params(axis='x', labelsize=14)\n",
    "    ax.tick_params(axis='y', labelsize=14)\n",
    "    ax.set_xticks(np.arange(-10, 10))\n",
    "    ax.set_yticks(np.arange(-10, 10))\n",
    "    \n",
    "    \n",
    "    plt.axis([-10, 10, -10, 10])\n",
    "    for i, v in enumerate(list_v):\n",
    "        sgn =  np.array([[1] if i==0 else [i] for i in np.sign(v)])\n",
    "        plt.quiver(v[0], v[1], color=list_color[i], angles='xy', scale_units='xy', scale=1)\n",
    "        ax.text(v[0]+sgn[0], v[1]+sgn[1], list_label[i], fontsize=14, color=list_color[i])\n",
    "\n",
    "    plt.grid()\n",
    "    plt.gca().set_aspect(\"equal\")\n",
    "    plt.show()\n",
    "\n",
    "v = np.array([[-1],[-2]])\n",
    "# Arguments: list of vectors as NumPy arrays, labels, colors.\n",
    "plot_vectors([v], [f\"$r$\"], [\"red\"])\n"
   ]
  },
  {
   "cell_type": "code",
   "execution_count": 106,
   "id": "9db21c20",
   "metadata": {},
   "outputs": [
    {
     "data": {
      "image/png": "[encoded data removed]",
      "text/plain": [
       "<Figure size 1000x1000 with 1 Axes>"
      ]
     },
     "metadata": {},
     "output_type": "display_data"
    }
   ],
   "source": [
    "plot_vectors([v,2*v,-2*v],['$v$','$2V$','$-2V$'],['red','pink','black'])"
   ]
  },
  {
   "cell_type": "code",
   "execution_count": 108,
   "id": "951bb962",
   "metadata": {},
   "outputs": [
    {
     "data": {
      "image/png": "[encoded data removed]",
      "text/plain": [
       "<Figure size 1000x1000 with 1 Axes>"
      ]
     },
     "metadata": {},
     "output_type": "display_data"
    }
   ],
   "source": [
    "v = np.array([[1],[3]])\n",
    "w = np.array([[4],[-1]])\n",
    "\n",
    "plot_vectors([v, w, v + w], [\"$v$\", \"$w$\", \"$v + w$\"], [\"black\", \"black\", \"red\"])"
   ]
  },
  {
   "cell_type": "code",
   "execution_count": 109,
   "id": "c19888b2",
   "metadata": {},
   "outputs": [],
   "source": [
    "def dot(x, y):\n",
    "    s=0\n",
    "    for xi, yi in zip(x, y):\n",
    "        s += xi * yi\n",
    "    return s"
   ]
  },
  {
   "cell_type": "code",
   "execution_count": 110,
   "id": "ccea6d8e",
   "metadata": {},
   "outputs": [],
   "source": [
    "a = np.random.rand(1000000)\n",
    "b = np.random.rand(1000000)\n"
   ]
  },
  {
   "cell_type": "code",
   "execution_count": 111,
   "id": "5dc28075",
   "metadata": {},
   "outputs": [
    {
     "name": "stdout",
     "output_type": "stream",
     "text": [
      "Dot product:  250096.69264996125\n",
      "Time for the loop version:466.4268493652344 ms\n"
     ]
    }
   ],
   "source": [
    "import time\n",
    "\n",
    "tic = time.time()\n",
    "c = dot(a,b)\n",
    "toc = time.time()\n",
    "print(\"Dot product: \", c)\n",
    "print (\"Time for the loop version:\" + str(1000*(toc-tic)) + \" ms\")\n"
   ]
  },
  {
   "cell_type": "code",
   "execution_count": 112,
   "id": "8fa4e6e5",
   "metadata": {},
   "outputs": [
    {
     "name": "stdout",
     "output_type": "stream",
     "text": [
      "Dot product:  250096.6926499532\n",
      "Time for the vectorized version, np.dot() function: 1.8718242645263672 ms\n"
     ]
    }
   ],
   "source": [
    "tic = time.time()\n",
    "c = np.dot(a,b)\n",
    "toc = time.time()\n",
    "print(\"Dot product: \", c)\n",
    "print (\"Time for the vectorized version, np.dot() function: \" + str(1000*(toc-tic)) + \" ms\")\n"
   ]
  },
  {
   "cell_type": "code",
   "execution_count": 113,
   "id": "df62a282",
   "metadata": {},
   "outputs": [
    {
     "name": "stdout",
     "output_type": "stream",
     "text": [
      "Dot product:  250096.6926499532\n",
      "Time for the vectorized version, @ function: 4.562139511108398 ms\n"
     ]
    }
   ],
   "source": [
    "tic = time.time()\n",
    "c = a @ b\n",
    "toc = time.time()\n",
    "print(\"Dot product: \", c)\n",
    "print (\"Time for the vectorized version, @ function: \" + str(1000*(toc-tic)) + \" ms\")\n"
   ]
  },
  {
   "cell_type": "code",
   "execution_count": 114,
   "id": "6422eff7",
   "metadata": {},
   "outputs": [
    {
     "name": "stdout",
     "output_type": "stream",
     "text": [
      "Matrix A (3 by 3):\n",
      " [[4 9 9]\n",
      " [9 1 6]\n",
      " [9 2 3]]\n",
      "Matrix B (3 by 2):\n",
      " [[2 2]\n",
      " [5 7]\n",
      " [4 4]]\n"
     ]
    }
   ],
   "source": [
    "A = np.array([[4, 9, 9], [9, 1, 6], [9, 2, 3]])\n",
    "print(\"Matrix A (3 by 3):\\n\", A)\n",
    "\n",
    "B = np.array([[2, 2], [5, 7], [4, 4]])\n",
    "print(\"Matrix B (3 by 2):\\n\", B)\n"
   ]
  },
  {
   "cell_type": "code",
   "execution_count": 115,
   "id": "f574b2b6",
   "metadata": {},
   "outputs": [
    {
     "data": {
      "text/plain": [
       "array([[ 89, 107],\n",
       "       [ 47,  49],\n",
       "       [ 40,  44]])"
      ]
     },
     "execution_count": 115,
     "metadata": {},
     "output_type": "execute_result"
    }
   ],
   "source": [
    "np.matmul(A, B)\n"
   ]
  },
  {
   "cell_type": "code",
   "execution_count": 116,
   "id": "cf647bdb",
   "metadata": {},
   "outputs": [
    {
     "data": {
      "text/plain": [
       "array([[ 89, 107],\n",
       "       [ 47,  49],\n",
       "       [ 40,  44]])"
      ]
     },
     "execution_count": 116,
     "metadata": {},
     "output_type": "execute_result"
    }
   ],
   "source": [
    "\n",
    "A @ B\n"
   ]
  },
  {
   "cell_type": "code",
   "execution_count": 117,
   "id": "6e956f99",
   "metadata": {},
   "outputs": [
    {
     "name": "stdout",
     "output_type": "stream",
     "text": [
      "matmul: Input operand 1 has a mismatch in its core dimension 0, with gufunc signature (n?,k),(k,m?)->(n?,m?) (size 3 is different from 2)\n"
     ]
    }
   ],
   "source": [
    "try:\n",
    "    np.matmul(B, A)\n",
    "except ValueError as err:\n",
    "    print(err)\n"
   ]
  },
  {
   "cell_type": "code",
   "execution_count": 118,
   "id": "246bae0b",
   "metadata": {},
   "outputs": [
    {
     "name": "stdout",
     "output_type": "stream",
     "text": [
      "matmul: Input operand 1 has a mismatch in its core dimension 0, with gufunc signature (n?,k),(k,m?)->(n?,m?) (size 3 is different from 2)\n"
     ]
    }
   ],
   "source": [
    "try:\n",
    "    B @ A\n",
    "except ValueError as err:\n",
    "    print(err)\n"
   ]
  },
  {
   "cell_type": "code",
   "execution_count": 119,
   "id": "b1a871d9",
   "metadata": {},
   "outputs": [
    {
     "name": "stdout",
     "output_type": "stream",
     "text": [
      "Shape of vector x: (3,)\n",
      "Number of dimensions of vector x: 1\n",
      "Shape of vector x, reshaped to a matrix: (3, 1)\n",
      "Number of dimensions of vector x, reshaped to a matrix: 2\n"
     ]
    }
   ],
   "source": [
    "x = np.array([1, -2, -5])\n",
    "y = np.array([4, 3, -1])\n",
    "\n",
    "print(\"Shape of vector x:\", x.shape)\n",
    "print(\"Number of dimensions of vector x:\", x.ndim)\n",
    "print(\"Shape of vector x, reshaped to a matrix:\", x.reshape((3, 1)).shape)\n",
    "print(\"Number of dimensions of vector x, reshaped to a matrix:\", x.reshape((3, 1)).ndim)\n"
   ]
  },
  {
   "cell_type": "code",
   "execution_count": 120,
   "id": "1b53531d",
   "metadata": {},
   "outputs": [
    {
     "data": {
      "text/plain": [
       "np.int64(3)"
      ]
     },
     "execution_count": 120,
     "metadata": {},
     "output_type": "execute_result"
    }
   ],
   "source": [
    "np.matmul(x,y)\n"
   ]
  },
  {
   "cell_type": "code",
   "execution_count": 121,
   "id": "832562b4",
   "metadata": {},
   "outputs": [
    {
     "name": "stdout",
     "output_type": "stream",
     "text": [
      "matmul: Input operand 1 has a mismatch in its core dimension 0, with gufunc signature (n?,k),(k,m?)->(n?,m?) (size 3 is different from 1)\n"
     ]
    }
   ],
   "source": [
    "try:\n",
    "    np.matmul(x.reshape((3, 1)), y.reshape((3, 1)))\n",
    "except ValueError as err:\n",
    "    print(err)\n"
   ]
  },
  {
   "cell_type": "code",
   "execution_count": 122,
   "id": "15ec6eba",
   "metadata": {},
   "outputs": [
    {
     "data": {
      "text/plain": [
       "array([[ 89, 107],\n",
       "       [ 47,  49],\n",
       "       [ 40,  44]])"
      ]
     },
     "execution_count": 122,
     "metadata": {},
     "output_type": "execute_result"
    }
   ],
   "source": [
    "np.dot(A, B)\n"
   ]
  },
  {
   "cell_type": "code",
   "execution_count": 123,
   "id": "e9334849",
   "metadata": {},
   "outputs": [
    {
     "data": {
      "text/plain": [
       "array([[ 2,  7,  7],\n",
       "       [ 7, -1,  4],\n",
       "       [ 7,  0,  1]])"
      ]
     },
     "execution_count": 123,
     "metadata": {},
     "output_type": "execute_result"
    }
   ],
   "source": [
    "A - 2\n"
   ]
  },
  {
   "cell_type": "code",
   "execution_count": 124,
   "id": "596f8383",
   "metadata": {},
   "outputs": [
    {
     "name": "stdout",
     "output_type": "stream",
     "text": [
      "Original vector:\n",
      " [[3]\n",
      " [5]] \n",
      "\n",
      " Result of the transformation:\n",
      " [[  9.]\n",
      " [  0.]\n",
      " [-10.]]\n"
     ]
    }
   ],
   "source": [
    "def T(v):\n",
    "    w = np.zeros((3,1))\n",
    "    w[0,0] = 3*v[0,0]\n",
    "    w[2,0] = -2*v[1,0]\n",
    "    \n",
    "    return w\n",
    "\n",
    "v = np.array([[3], [5]])\n",
    "w = T(v)\n",
    "\n",
    "print(\"Original vector:\\n\", v, \"\\n\\n Result of the transformation:\\n\", w)\n"
   ]
  },
  {
   "cell_type": "code",
   "execution_count": 127,
   "id": "9fbfe2c5",
   "metadata": {},
   "outputs": [
    {
     "name": "stdout",
     "output_type": "stream",
     "text": [
      "[[ 1]\n",
      " [-2]]\n",
      "----\n",
      "[[2]\n",
      " [4]]\n",
      "T(k*v):\n",
      " [[ 42.]\n",
      " [  0.]\n",
      " [-56.]] \n",
      " k*T(v):\n",
      " [[ 42.]\n",
      " [  0.]\n",
      " [-56.]] \n",
      "\n",
      "\n",
      "T(u+v):\n",
      " [[ 9.]\n",
      " [ 0.]\n",
      " [-4.]] \n",
      " T(u)+T(v):\n",
      " [[ 9.]\n",
      " [ 0.]\n",
      " [-4.]]\n"
     ]
    }
   ],
   "source": [
    "u = np.array([[1], [-2]])\n",
    "v = np.array([[2], [4]])\n",
    "print(u)\n",
    "print('----')\n",
    "print(v)\n",
    "\n",
    "k = 7\n",
    "\n",
    "print(\"T(k*v):\\n\", T(k*v), \"\\n k*T(v):\\n\", k*T(v), \"\\n\\n\")\n",
    "print(\"T(u+v):\\n\", T(u+v), \"\\n T(u)+T(v):\\n\", T(u)+T(v))\n"
   ]
  },
  {
   "cell_type": "code",
   "execution_count": 128,
   "id": "5b537f94",
   "metadata": {},
   "outputs": [
    {
     "name": "stdout",
     "output_type": "stream",
     "text": [
      "Transformation matrix:\n",
      " [[ 3  0]\n",
      " [ 0  0]\n",
      " [ 0 -2]] \n",
      "\n",
      "Original vector:\n",
      " [[3]\n",
      " [5]] \n",
      "\n",
      " Result of the transformation:\n",
      " [[  9]\n",
      " [  0]\n",
      " [-10]]\n"
     ]
    }
   ],
   "source": [
    "def L(v):\n",
    "    A = np.array([[3,0], [0,0], [0,-2]])\n",
    "    print(\"Transformation matrix:\\n\", A, \"\\n\")\n",
    "    w = A @ v\n",
    "    \n",
    "    return w\n",
    "\n",
    "v = np.array([[3], [5]])\n",
    "w = L(v)\n",
    "\n",
    "print(\"Original vector:\\n\", v, \"\\n\\n Result of the transformation:\\n\", w)\n"
   ]
  },
  {
   "cell_type": "code",
   "execution_count": null,
   "id": "28bae126",
   "metadata": {},
   "outputs": [],
   "source": []
  }
 ],
 "metadata": {
  "kernelspec": {
   "display_name": "Python 3",
   "language": "python",
   "name": "python3"
  },
  "language_info": {
   "codemirror_mode": {
    "name": "ipython",
    "version": 3
   },
   "file_extension": ".py",
   "mimetype": "text/x-python",
   "name": "python",
   "nbconvert_exporter": "python",
   "pygments_lexer": "ipython3",
   "version": "3.12.3"
  }
 },
 "nbformat": 4,
 "nbformat_minor": 5
}
