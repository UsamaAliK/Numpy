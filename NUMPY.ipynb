{
 "cells": [
  {
   "cell_type": "code",
   "execution_count": 2,
   "id": "6fb2d5bb-0bb0-44e6-8eac-813960a2e428",
   "metadata": {},
   "outputs": [],
   "source": [
    "import numpy as np"
   ]
  },
  {
   "cell_type": "code",
   "execution_count": null,
   "id": "a98c81a5-8ede-4b5a-9497-e56b870852c4",
   "metadata": {},
   "outputs": [],
   "source": [
    "arr1=np.array([5,3,4])\n",
    "arr2=np.array([1,2,3])"
   ]
  },
  {
   "cell_type": "code",
   "execution_count": null,
   "id": "97fea41e-24f4-497e-9fc3-da9443941f39",
   "metadata": {},
   "outputs": [],
   "source": [
    "arr1*arr2"
   ]
  },
  {
   "cell_type": "code",
   "execution_count": null,
   "id": "1a87d034-98d8-48f3-b771-d97420627ec8",
   "metadata": {},
   "outputs": [],
   "source": [
    "pro=np.dot(arr1,arr2)\n",
    "print(pro)"
   ]
  },
  {
   "cell_type": "code",
   "execution_count": null,
   "id": "d63d99e3-21db-4d7d-884c-b1466ba54f57",
   "metadata": {},
   "outputs": [],
   "source": [
    "help(sum)\n"
   ]
  },
  {
   "cell_type": "code",
   "execution_count": null,
   "id": "e68841b1-52ea-4727-98ba-a71835effb2c",
   "metadata": {},
   "outputs": [],
   "source": [
    "print(arr1.sum())"
   ]
  },
  {
   "cell_type": "code",
   "execution_count": null,
   "id": "432a38a6-5771-437d-b87f-36cec8416945",
   "metadata": {},
   "outputs": [],
   "source": [
    "arr1.shape"
   ]
  },
  {
   "cell_type": "code",
   "execution_count": null,
   "id": "09236bd5-1d2c-4e12-802a-215f27e66e02",
   "metadata": {},
   "outputs": [],
   "source": [
    "arr1"
   ]
  },
  {
   "cell_type": "code",
   "execution_count": null,
   "id": "c6e538ba-6665-4c0b-a6d8-eeecc215ab0c",
   "metadata": {},
   "outputs": [],
   "source": [
    "arr3=np.array([[2,3],\n",
    "               [2,3]])\n"
   ]
  },
  {
   "cell_type": "code",
   "execution_count": null,
   "id": "baf810f0-90b7-4246-a1e5-942aeeda0147",
   "metadata": {},
   "outputs": [],
   "source": [
    "arr3.dtype"
   ]
  },
  {
   "cell_type": "code",
   "execution_count": null,
   "id": "745539a4-d153-417c-9d0c-da463fc21fc8",
   "metadata": {},
   "outputs": [],
   "source": [
    "import numpy as np\n",
    "arr1=np.array([5,3,4])\n",
    "arr2=np.array([1,2,3])\n",
    "print(np.matmul(arr2,arr1))"
   ]
  },
  {
   "cell_type": "code",
   "execution_count": null,
   "id": "afe4fbfd-d63b-4b43-bb07-049b63ab983d",
   "metadata": {},
   "outputs": [],
   "source": [
    "lis1=np.array([[1,2,3],\n",
    "               [1,2,3]])\n",
    "lis2=np.array([[0,1,0],\n",
    "               [1,2,0],\n",
    "              [1,2,0]])\n",
    "lis2.shape\n"
   ]
  },
  {
   "cell_type": "code",
   "execution_count": null,
   "id": "f84d50d4-eafb-40bd-98f6-ca28737332c9",
   "metadata": {},
   "outputs": [],
   "source": [
    "np.matmul(lis1,lis2)"
   ]
  },
  {
   "cell_type": "code",
   "execution_count": null,
   "id": "4cd0a9d4-60cc-4507-acc0-c6b600df35a8",
   "metadata": {},
   "outputs": [],
   "source": [
    "data=np.genfromtxt('winequality-red.csv',delimiter=';',skip_header=2,usecols=(0,1,2))"
   ]
  },
  {
   "cell_type": "code",
   "execution_count": null,
   "id": "97f7a299-ea47-49cc-bfce-101f88eb4540",
   "metadata": {},
   "outputs": [],
   "source": [
    "data.shape"
   ]
  },
  {
   "cell_type": "code",
   "execution_count": null,
   "id": "219d7ef9-bcec-4a3b-a948-fd01d87dd361",
   "metadata": {},
   "outputs": [],
   "source": [
    "print(data)"
   ]
  },
  {
   "cell_type": "code",
   "execution_count": null,
   "id": "af25ae16-1daf-47eb-800f-37b805076d5e",
   "metadata": {},
   "outputs": [],
   "source": [
    "arr3"
   ]
  },
  {
   "cell_type": "code",
   "execution_count": null,
   "id": "8990d97d-d967-484f-966e-b3bf23fc6402",
   "metadata": {},
   "outputs": [],
   "source": [
    "arr1*arr2"
   ]
  },
  {
   "cell_type": "code",
   "execution_count": null,
   "id": "9d856479-5363-463b-8e99-cdb879a2e950",
   "metadata": {},
   "outputs": [],
   "source": [
    "arr1\n"
   ]
  },
  {
   "cell_type": "code",
   "execution_count": null,
   "id": "68a73349-581f-497c-b379-af8d03674deb",
   "metadata": {},
   "outputs": [],
   "source": [
    "arr2"
   ]
  },
  {
   "cell_type": "code",
   "execution_count": null,
   "id": "51b449b3-bc11-452e-b264-3bcbf812b64c",
   "metadata": {},
   "outputs": [],
   "source": [
    "print(np.dot(arr1,arr2))"
   ]
  },
  {
   "cell_type": "code",
   "execution_count": null,
   "id": "4380f160-d6e5-465c-a979-34fd5aaed29e",
   "metadata": {},
   "outputs": [],
   "source": [
    "dp=data@arr1"
   ]
  },
  {
   "cell_type": "code",
   "execution_count": null,
   "id": "9d2dc538-4191-4689-901a-7c752b9c7781",
   "metadata": {},
   "outputs": [],
   "source": [
    "data.shape"
   ]
  },
  {
   "cell_type": "code",
   "execution_count": null,
   "id": "c3c4b13e-f2e5-4035-b839-6b9a0708349f",
   "metadata": {},
   "outputs": [],
   "source": [
    "dp.shape"
   ]
  },
  {
   "cell_type": "code",
   "execution_count": null,
   "id": "7cf5d970-560c-4d7a-a01f-d3bdc230c5f0",
   "metadata": {},
   "outputs": [],
   "source": [
    "arr1.shape"
   ]
  },
  {
   "cell_type": "code",
   "execution_count": null,
   "id": "90cfe49a-68a0-4622-8227-597861173789",
   "metadata": {},
   "outputs": [],
   "source": [
    "dp\n",
    "dp.shape"
   ]
  },
  {
   "cell_type": "code",
   "execution_count": null,
   "id": "ac3fe834-a1b7-4860-bd60-71ef3b5b0e72",
   "metadata": {},
   "outputs": [],
   "source": [
    "res=np.concatenate((data, dp.reshape(1598,1)),axis=1)"
   ]
  },
  {
   "cell_type": "code",
   "execution_count": null,
   "id": "46a5d9e3-2ad3-4eae-9f87-b3c539320715",
   "metadata": {},
   "outputs": [],
   "source": [
    "res"
   ]
  },
  {
   "cell_type": "code",
   "execution_count": null,
   "id": "66ee48b8-37a8-42e0-8a61-5d6c29330ba0",
   "metadata": {},
   "outputs": [],
   "source": [
    "res.dtype"
   ]
  },
  {
   "cell_type": "code",
   "execution_count": null,
   "id": "4b5208e6-0a00-4dbb-b713-6c6868f8b5cc",
   "metadata": {},
   "outputs": [],
   "source": [
    "arr=np.array([[1,2,3]])"
   ]
  },
  {
   "cell_type": "code",
   "execution_count": null,
   "id": "8d4c83fb-dd60-4c9f-9e57-195fc2d5558e",
   "metadata": {},
   "outputs": [],
   "source": [
    "arr.shape"
   ]
  },
  {
   "cell_type": "code",
   "execution_count": null,
   "id": "831994b7-4aed-47b3-9389-fd3b631988b8",
   "metadata": {},
   "outputs": [],
   "source": [
    "help(np.reshape)\n"
   ]
  },
  {
   "cell_type": "code",
   "execution_count": null,
   "id": "cde1fb0d-191c-45d6-9c9a-a5653c052013",
   "metadata": {},
   "outputs": [],
   "source": [
    "np.concatenate((arr1,arr2),axis=0)"
   ]
  },
  {
   "cell_type": "code",
   "execution_count": null,
   "id": "3fa38ccd-f3e4-4242-bcd7-4aba2f3be1e7",
   "metadata": {},
   "outputs": [],
   "source": [
    "arr1.shape"
   ]
  },
  {
   "cell_type": "code",
   "execution_count": null,
   "id": "b24bda1f-e6cf-4f40-bfe7-4286a73ace26",
   "metadata": {},
   "outputs": [],
   "source": [
    "res.shape"
   ]
  },
  {
   "cell_type": "code",
   "execution_count": null,
   "id": "92ba2ac4-fdb7-4bff-9314-7df3497c911d",
   "metadata": {},
   "outputs": [],
   "source": [
    "np.savetxt('result.csv',res,delimiter=',',fmt='%.2f',header='yes,no,why,wow',comments='')"
   ]
  },
  {
   "cell_type": "code",
   "execution_count": null,
   "id": "e8e882ba-b3f2-4b77-a4bc-e8fd2c41fba1",
   "metadata": {},
   "outputs": [],
   "source": [
    "import numpy as np\n",
    "newdata=np.genfromtxt('result.txt',delimiter=',',skip_header=1)"
   ]
  },
  {
   "cell_type": "code",
   "execution_count": null,
   "id": "f32fc1a3-979f-46db-ab83-419647985536",
   "metadata": {},
   "outputs": [],
   "source": [
    "newdata\n"
   ]
  },
  {
   "cell_type": "code",
   "execution_count": null,
   "id": "b47ac23c-8321-452c-ad9e-fca9aa3660c0",
   "metadata": {},
   "outputs": [],
   "source": [
    "np.savetxt('wow.csv',newdata,delimiter=';',fmt='%.1f',header='yes;no;wow;jao',comments='')"
   ]
  },
  {
   "cell_type": "code",
   "execution_count": null,
   "id": "a8d1d0fa-0359-431d-b365-38a478e1a701",
   "metadata": {},
   "outputs": [],
   "source": [
    "array1=np.array([[1,2],\n",
    "                 [1,2]])"
   ]
  },
  {
   "cell_type": "code",
   "execution_count": null,
   "id": "2e461322-506d-411c-95ae-f4c7aca4690f",
   "metadata": {},
   "outputs": [],
   "source": [
    "array2=np.array([1,2,3,4])"
   ]
  },
  {
   "cell_type": "code",
   "execution_count": null,
   "id": "5e6dd86a-2f93-4789-be6b-180cd1045a11",
   "metadata": {},
   "outputs": [],
   "source": [
    "np.concatenate((array1,array2.reshape(2,2)),axis=1)"
   ]
  },
  {
   "cell_type": "code",
   "execution_count": null,
   "id": "d883984a-4df4-4198-a46d-e96b46b4e955",
   "metadata": {},
   "outputs": [],
   "source": [
    "array1.shape"
   ]
  },
  {
   "cell_type": "code",
   "execution_count": null,
   "id": "aba913d7-c739-40e8-9682-abfc9efa92cf",
   "metadata": {},
   "outputs": [],
   "source": [
    "array2.shape"
   ]
  },
  {
   "cell_type": "raw",
   "id": "e3a318a5-56b4-4388-b76e-2141d948ea2e",
   "metadata": {},
   "source": [
    "array2.shape"
   ]
  },
  {
   "cell_type": "code",
   "execution_count": null,
   "id": "dff35a4b-451e-407c-9ebd-3fe892c3b9e3",
   "metadata": {},
   "outputs": [],
   "source": [
    "array1.shape"
   ]
  },
  {
   "cell_type": "code",
   "execution_count": null,
   "id": "3a1c78ca-19a8-4051-b7ba-098803cd7bc7",
   "metadata": {},
   "outputs": [],
   "source": [
    "array2.shape"
   ]
  },
  {
   "cell_type": "code",
   "execution_count": null,
   "id": "fa241583-b0a4-40af-9cac-63282fdc9ca1",
   "metadata": {},
   "outputs": [],
   "source": [
    "array2.reshape(2,2)"
   ]
  },
  {
   "cell_type": "code",
   "execution_count": null,
   "id": "a40dcfea-502c-45f3-9a32-92208300df24",
   "metadata": {},
   "outputs": [],
   "source": [
    "array2.shape"
   ]
  },
  {
   "cell_type": "code",
   "execution_count": null,
   "id": "fcb68d01-f307-48da-be27-801c90781064",
   "metadata": {},
   "outputs": [],
   "source": [
    "array2.reshape(2,2)+array1"
   ]
  },
  {
   "cell_type": "code",
   "execution_count": null,
   "id": "94b2f37b-59fd-4830-9145-8de9196e9459",
   "metadata": {},
   "outputs": [],
   "source": [
    "array2.reshape(1,4)"
   ]
  },
  {
   "cell_type": "code",
   "execution_count": null,
   "id": "f9c210d2-556a-42a3-bf84-2a8c1b846b2a",
   "metadata": {},
   "outputs": [],
   "source": [
    "array3=np.array([[[[1,2,3],\n",
    "                  [1,2,3]]],\n",
    "                 [[[1,2,3],\n",
    "                  [1,2,3]]]])"
   ]
  },
  {
   "cell_type": "code",
   "execution_count": null,
   "id": "59a10bbc-b5b6-4a24-a816-1e23541727e1",
   "metadata": {},
   "outputs": [],
   "source": [
    "array3.shape"
   ]
  },
  {
   "cell_type": "code",
   "execution_count": null,
   "id": "e0b51baa-b74c-4fe4-84f9-aec556c16e37",
   "metadata": {},
   "outputs": [],
   "source": [
    "array4=np.array([1,2,3])"
   ]
  },
  {
   "cell_type": "code",
   "execution_count": null,
   "id": "6f9a2824-62be-48a5-b973-32eb38514275",
   "metadata": {},
   "outputs": [],
   "source": [
    "array3+array4"
   ]
  },
  {
   "cell_type": "code",
   "execution_count": null,
   "id": "e901ae32-6fe1-4025-babd-c315e05b8383",
   "metadata": {},
   "outputs": [],
   "source": [
    "array4+array3"
   ]
  },
  {
   "cell_type": "code",
   "execution_count": null,
   "id": "b77042cb-2dc8-417d-b689-86cfd2cb3d32",
   "metadata": {},
   "outputs": [],
   "source": [
    "import matplotlib.pyplot as plt\n",
    "import numpy as np\n",
    "\n",
    "# Generate 10,000 random numbers\n",
    "data = 5+15*np.random.randn(6)\n",
    "print(data)\n",
    "# Plot histogram\n",
    "plt.hist(data, bins=50, density=True, alpha=0.6, color='b')\n",
    "\n",
    "# Show plot\n",
    "plt.title(\"Histogram of randn() values\")\n",
    "plt.xlabel(\"Value\")\n",
    "plt.ylabel(\"Frequency\")\n",
    "plt.show()\n"
   ]
  },
  {
   "cell_type": "code",
   "execution_count": null,
   "id": "39d2af4c-acc1-4088-b8af-58691e99f8fb",
   "metadata": {},
   "outputs": [],
   "source": [
    "np.arange(2,30,2).reshape(7,2,1)"
   ]
  },
  {
   "cell_type": "code",
   "execution_count": null,
   "id": "2f9ca379-2ba7-4589-bcd5-5073f29ef789",
   "metadata": {},
   "outputs": [],
   "source": [
    "arr=np.linspace(1,20,10).reshape(2,5)"
   ]
  },
  {
   "cell_type": "code",
   "execution_count": null,
   "id": "2a94ff17-2c66-45cb-b19c-2b4ec39c9973",
   "metadata": {},
   "outputs": [],
   "source": [
    "import numpy as np\n",
    "\n",
    "# Create a 3D array with 30 values, reshaped into (2, 3, 5)\n",
    "arr_3d = np.linspace(1, 30, 30).reshape(2, 3, 5)\n",
    "\n",
    "# Round to 2 decimal places\n",
    "rounded_arr_3d = np.round(arr_3d, 2)\n",
    "\n",
    "print(rounded_arr_3d)\n"
   ]
  },
  {
   "cell_type": "code",
   "execution_count": null,
   "id": "edb5bb8a-9aa4-45eb-80bb-91f5787e14ca",
   "metadata": {},
   "outputs": [],
   "source": [
    "for matrix in rounded_arr_3d:\n",
    "    for row in matrix:\n",
    "        print([\"{:.2f}\".format(num) for num in row])\n"
   ]
  },
  {
   "cell_type": "code",
   "execution_count": null,
   "id": "584f33a4-4db5-4713-9bdb-16a2b7ccbab6",
   "metadata": {},
   "outputs": [],
   "source": [
    "zero=np.zeros((1,1))"
   ]
  },
  {
   "cell_type": "code",
   "execution_count": null,
   "id": "8c475381-968c-4798-ba32-d82be9e8ff86",
   "metadata": {},
   "outputs": [],
   "source": [
    "one=np.ones((1,2))"
   ]
  },
  {
   "cell_type": "code",
   "execution_count": null,
   "id": "d2852686-2626-43fe-a331-b951f935e582",
   "metadata": {},
   "outputs": [],
   "source": [
    "np.concatenate((zero,one.reshape(2,1)),axis=0)"
   ]
  },
  {
   "cell_type": "code",
   "execution_count": null,
   "id": "9c417ff6-f2c7-4290-9cd2-b6522458047e",
   "metadata": {},
   "outputs": [],
   "source": [
    "daty=np.genfromtxt(\"nyc_taxis.csv\",delimiter=',',dtype=float,skip_header=True)"
   ]
  },
  {
   "cell_type": "code",
   "execution_count": null,
   "id": "44ac4a6b-7b75-4589-91de-3b11d373dc8e",
   "metadata": {},
   "outputs": [],
   "source": [
    "print(daty)"
   ]
  },
  {
   "cell_type": "markdown",
   "id": "532788ca",
   "metadata": {},
   "source": [
    "#  converting system of linear equactions into metrices\n",
    "\n",
    "#     -x+3y=7\n",
    "#     3x+2y=1     \n"
   ]
  },
  {
   "cell_type": "code",
   "execution_count": 4,
   "id": "0ad02884",
   "metadata": {},
   "outputs": [
    {
     "name": "stdout",
     "output_type": "stream",
     "text": [
      "Matrix A=[[-1.  3.]\n",
      " [ 3.  2.]]\n",
      "Matrix B=[7. 1.]\n"
     ]
    }
   ],
   "source": [
    "A=np.array([[-1,3],\n",
    "            [3,2]],dtype=np.dtype(float))\n",
    "B=np.array([7,1],dtype=np.dtype(float))\n",
    "print(f\"Matrix A={A}\")\n",
    "print(f\"Matrix B={B}\")\n"
   ]
  },
  {
   "cell_type": "markdown",
   "id": "378fd3dc",
   "metadata": {
    "slideshow": {
     "slide_type": "slide"
    }
   },
   "source": [
    "# finding solution for the system 0f linear equations\n",
    "# using numpy.linalg.solve()"
   ]
  },
  {
   "cell_type": "code",
   "execution_count": 12,
   "id": "349dc22d",
   "metadata": {},
   "outputs": [
    {
     "name": "stdout",
     "output_type": "stream",
     "text": [
      "x=[-1.  2.]\n"
     ]
    }
   ],
   "source": [
    "x=np.linalg.solve(A,B)\n",
    "print(f\"x={x}\")"
   ]
  },
  {
   "cell_type": "code",
   "execution_count": null,
   "id": "571463c7",
   "metadata": {},
   "outputs": [],
   "source": []
  },
  {
   "cell_type": "markdown",
   "id": "d5377772",
   "metadata": {},
   "source": [
    "#  the above given system of linear equations gives a square matrix of 2x2 and a vector of 2x1\n",
    "# in case of square matrix it is possible to calculate determinant of the matrix \n",
    "# and if the determinant is not equal to zero then the matrix is invertible and\n",
    "#  the solution of the system of linear equations can be found using the formula x=A^(-1)B\n"
   ]
  },
  {
   "cell_type": "code",
   "execution_count": 7,
   "id": "4680b076",
   "metadata": {},
   "outputs": [
    {
     "name": "stdout",
     "output_type": "stream",
     "text": [
      "Determinant of A=-11.000000000000002\n"
     ]
    }
   ],
   "source": [
    "#Calculating determinant\n",
    "det_A=np.linalg.det(A)\n",
    "print(f\"Determinant of A={det_A}\")"
   ]
  },
  {
   "cell_type": "markdown",
   "id": "faf6cbf7",
   "metadata": {},
   "source": [
    "Notice that the determinant is non zero as expected\n"
   ]
  },
  {
   "cell_type": "code",
   "execution_count": null,
   "id": "36fd6215",
   "metadata": {},
   "outputs": [],
   "source": []
  },
  {
   "cell_type": "markdown",
   "id": "d97a6a5e",
   "metadata": {
    "slideshow": {
     "slide_type": "slide"
    }
   },
   "source": [
    "Solving system of linear equations using elemination method"
   ]
  },
  {
   "cell_type": "code",
   "execution_count": 13,
   "id": "bbf9f55a",
   "metadata": {},
   "outputs": [
    {
     "name": "stdout",
     "output_type": "stream",
     "text": [
      "Help on _ArrayFunctionDispatcher in module numpy:\n",
      "\n",
      "hstack(tup, *, dtype=None, casting='same_kind')\n",
      "    Stack arrays in sequence horizontally (column wise).\n",
      "\n",
      "    This is equivalent to concatenation along the second axis, except for 1-D\n",
      "    arrays where it concatenates along the first axis. Rebuilds arrays divided\n",
      "    by `hsplit`.\n",
      "\n",
      "    This function makes most sense for arrays with up to 3 dimensions. For\n",
      "    instance, for pixel-data with a height (first axis), width (second axis),\n",
      "    and r/g/b channels (third axis). The functions `concatenate`, `stack` and\n",
      "    `block` provide more general stacking and concatenation operations.\n",
      "\n",
      "    Parameters\n",
      "    ----------\n",
      "    tup : sequence of ndarrays\n",
      "        The arrays must have the same shape along all but the second axis,\n",
      "        except 1-D arrays which can be any length. In the case of a single\n",
      "        array_like input, it will be treated as a sequence of arrays; i.e.,\n",
      "        each element along the zeroth axis is treated as a separate array.\n",
      "\n",
      "    dtype : str or dtype\n",
      "        If provided, the destination array will have this dtype. Cannot be\n",
      "        provided together with `out`.\n",
      "\n",
      "        .. versionadded:: 1.24\n",
      "\n",
      "    casting : {'no', 'equiv', 'safe', 'same_kind', 'unsafe'}, optional\n",
      "        Controls what kind of data casting may occur. Defaults to 'same_kind'.\n",
      "\n",
      "        .. versionadded:: 1.24\n",
      "\n",
      "    Returns\n",
      "    -------\n",
      "    stacked : ndarray\n",
      "        The array formed by stacking the given arrays.\n",
      "\n",
      "    See Also\n",
      "    --------\n",
      "    concatenate : Join a sequence of arrays along an existing axis.\n",
      "    stack : Join a sequence of arrays along a new axis.\n",
      "    block : Assemble an nd-array from nested lists of blocks.\n",
      "    vstack : Stack arrays in sequence vertically (row wise).\n",
      "    dstack : Stack arrays in sequence depth wise (along third axis).\n",
      "    column_stack : Stack 1-D arrays as columns into a 2-D array.\n",
      "    hsplit : Split an array into multiple sub-arrays\n",
      "             horizontally (column-wise).\n",
      "    unstack : Split an array into a tuple of sub-arrays along an axis.\n",
      "\n",
      "    Examples\n",
      "    --------\n",
      "    >>> import numpy as np\n",
      "    >>> a = np.array((1,2,3))\n",
      "    >>> b = np.array((4,5,6))\n",
      "    >>> np.hstack((a,b))\n",
      "    array([1, 2, 3, 4, 5, 6])\n",
      "    >>> a = np.array([[1],[2],[3]])\n",
      "    >>> b = np.array([[4],[5],[6]])\n",
      "    >>> np.hstack((a,b))\n",
      "    array([[1, 4],\n",
      "           [2, 5],\n",
      "           [3, 6]])\n",
      "\n"
     ]
    }
   ],
   "source": [
    "help(np.hstack)"
   ]
  },
  {
   "cell_type": "code",
   "execution_count": 14,
   "id": "4a49de28",
   "metadata": {},
   "outputs": [
    {
     "name": "stdout",
     "output_type": "stream",
     "text": [
      "Matrix A_system=[[-1.  3.  7.]\n",
      " [ 3.  2.  1.]]\n"
     ]
    }
   ],
   "source": [
    "A_system=np.concatenate((A,B.reshape(2,1)),axis=1)\n",
    "print(f\"Matrix A_system={A_system}\")"
   ]
  },
  {
   "cell_type": "code",
   "execution_count": 20,
   "id": "c807f12b",
   "metadata": {},
   "outputs": [
    {
     "name": "stdout",
     "output_type": "stream",
     "text": [
      "[3. 2. 1.]\n"
     ]
    }
   ],
   "source": [
    "print(A_system[1])"
   ]
  },
  {
   "cell_type": "code",
   "execution_count": 31,
   "id": "8ac823c9",
   "metadata": {},
   "outputs": [],
   "source": [
    "A_sys_res=A_system.copy()\n",
    "\n"
   ]
  },
  {
   "cell_type": "code",
   "execution_count": 32,
   "id": "ce6ac299",
   "metadata": {},
   "outputs": [
    {
     "name": "stdout",
     "output_type": "stream",
     "text": [
      "Matrix A_sys_res=[[-1.  3.  7.]\n",
      " [ 0. 11. 22.]]\n"
     ]
    }
   ],
   "source": [
    "A_sys_res[1]=3*A_sys_res[0]+A_sys_res[1]\n",
    "print(f\"Matrix A_sys_res={A_sys_res}\")"
   ]
  },
  {
   "cell_type": "code",
   "execution_count": 33,
   "id": "322bd44d",
   "metadata": {},
   "outputs": [
    {
     "name": "stdout",
     "output_type": "stream",
     "text": [
      "Matrix A_sys_res=[[-1.  3.  7.]\n",
      " [ 0.  1.  2.]]\n"
     ]
    }
   ],
   "source": [
    "A_sys_res[1]=1/11*A_sys_res[1]\n",
    "print(f\"Matrix A_sys_res={A_sys_res}\")"
   ]
  },
  {
   "cell_type": "code",
   "execution_count": null,
   "id": "72ab2040",
   "metadata": {},
   "outputs": [],
   "source": []
  }
 ],
 "metadata": {
  "kernelspec": {
   "display_name": "Python 3",
   "language": "python",
   "name": "python3"
  },
  "language_info": {
   "codemirror_mode": {
    "name": "ipython",
    "version": 3
   },
   "file_extension": ".py",
   "mimetype": "text/x-python",
   "name": "python",
   "nbconvert_exporter": "python",
   "pygments_lexer": "ipython3",
   "version": "3.12.3"
  }
 },
 "nbformat": 4,
 "nbformat_minor": 5
}
